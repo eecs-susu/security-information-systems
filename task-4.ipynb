{
 "cells": [
  {
   "cell_type": "markdown",
   "metadata": {
    "ExecuteTime": {
     "end_time": "2019-03-27T15:04:14.757560Z",
     "start_time": "2019-03-27T15:04:14.753257Z"
    }
   },
   "source": [
    "# Практическая работа №4 «Контроль целостности (биты четности, контрольные цифры, CRC и ECC)»\n",
    "В практической работе необходимо определить контрольные данные с использованием следующих способов:\n",
    "- битов четности. В качестве исходных данных принять битовое представление букв фамилии в соответствии с кодировкой Windows 1251 (табл.6.2);\n",
    "- контрольных цифр. В качестве исходных данных принять необходимое количество цифр (за исключением контрольной) из строки, состоящей из кодов букв фамилии, имени и отчества согласно их положению в алфавите:\n",
    "- по алгоритму Луна (15 цифр);\n",
    "- для штрихкода по стандарту EAN-13 (12 цифр);\n",
    "- для ИНН физического лица (10 цифр);\n",
    "- для кодов станций на железнодорожном транспорте (5 цифр);\n",
    "- контрольных сумм (CRC). В качестве исходных данных принять коды 1-ой, 2-ой и 3-ей буквы своей фамилии согласно их положению в алфавите; порождающего полинома - G(x) = x4 + x1 + x0.\n",
    "- кода коррекции ошибок (ECC). В качестве исходных данных принять первые 11 битов первых двух буквы своей фамилии в соответствии с кодировкой Windows 1251 (табл.6.2). Рассчитать вектор контрольных битов и вектора синдромов при отсутствии ошибки, одиночной и двойной ошибке.\n",
    "При оформлении отчета необходимо привести необходимые таблицы, исходные данные, расчеты и результаты. Отчет прикрепить в edu.susu.ru.\n"
   ]
  },
  {
   "cell_type": "code",
   "execution_count": 1,
   "metadata": {
    "ExecuteTime": {
     "end_time": "2019-03-27T19:10:53.058057Z",
     "start_time": "2019-03-27T19:10:52.525205Z"
    }
   },
   "outputs": [],
   "source": [
    "import json\n",
    "\n",
    "import numpy as np\n",
    "import pandas as pd"
   ]
  },
  {
   "cell_type": "code",
   "execution_count": 2,
   "metadata": {
    "ExecuteTime": {
     "end_time": "2019-03-27T19:10:53.065151Z",
     "start_time": "2019-03-27T19:10:53.060327Z"
    }
   },
   "outputs": [],
   "source": [
    "with open('instance/settings.json') as f:\n",
    "    settings = json.load(f)\n",
    "    LAST_NAME = settings['last_name']\n",
    "    FIRST_NAME = settings['first_name']\n",
    "    PATRONYMIC = settings['patronymic']"
   ]
  },
  {
   "cell_type": "markdown",
   "metadata": {},
   "source": [
    "## Проверка четности"
   ]
  },
  {
   "cell_type": "code",
   "execution_count": 3,
   "metadata": {
    "ExecuteTime": {
     "end_time": "2019-03-27T19:10:53.071846Z",
     "start_time": "2019-03-27T19:10:53.066760Z"
    }
   },
   "outputs": [],
   "source": [
    "bits = ['{0:0>8b}'.format(c) for c in LAST_NAME.encode('cp1251')]"
   ]
  },
  {
   "cell_type": "code",
   "execution_count": 4,
   "metadata": {
    "ExecuteTime": {
     "end_time": "2019-03-27T19:10:53.077494Z",
     "start_time": "2019-03-27T19:10:53.074850Z"
    }
   },
   "outputs": [],
   "source": [
    "source = {\n",
    "#     'Символ': [c for c in LAST_NAME],\n",
    "#     'Код символа': [c for c in LAST_NAME.encode('cp1251')],\n",
    "    'Битовая строка': bits\n",
    "}"
   ]
  },
  {
   "cell_type": "code",
   "execution_count": 5,
   "metadata": {
    "ExecuteTime": {
     "end_time": "2019-03-27T19:10:53.084701Z",
     "start_time": "2019-03-27T19:10:53.081108Z"
    }
   },
   "outputs": [],
   "source": [
    "data = pd.DataFrame(source)"
   ]
  },
  {
   "cell_type": "code",
   "execution_count": 6,
   "metadata": {
    "ExecuteTime": {
     "end_time": "2019-03-27T19:10:53.097141Z",
     "start_time": "2019-03-27T19:10:53.087439Z"
    }
   },
   "outputs": [],
   "source": [
    "data['Паритетный бит', 'четный (even)'] = data['Битовая строка'].apply(lambda x: sum(map(int, x)) & 1)\n",
    "data['Паритетный бит', 'нечетный (odd)'] = data['Битовая строка'].apply(lambda x: 1 - (sum(map(int, x)) & 1))"
   ]
  },
  {
   "cell_type": "code",
   "execution_count": 7,
   "metadata": {
    "ExecuteTime": {
     "end_time": "2019-03-27T19:10:53.104708Z",
     "start_time": "2019-03-27T19:10:53.099479Z"
    }
   },
   "outputs": [],
   "source": [
    "data.columns = pd.MultiIndex.from_tuples([\n",
    "#     ('', 'Символ'),\n",
    "#     ('', 'Код символа'),\n",
    "    ('', 'Битовая строка'),\n",
    "    ('Паритетный бит', 'четный (even)'), \n",
    "    ('Паритетный бит', 'нечетный (odd)'),\n",
    "])"
   ]
  },
  {
   "cell_type": "code",
   "execution_count": 8,
   "metadata": {
    "ExecuteTime": {
     "end_time": "2019-03-27T19:10:53.133308Z",
     "start_time": "2019-03-27T19:10:53.106810Z"
    }
   },
   "outputs": [
    {
     "data": {
      "text/html": [
       "<div>\n",
       "<style scoped>\n",
       "    .dataframe tbody tr th:only-of-type {\n",
       "        vertical-align: middle;\n",
       "    }\n",
       "\n",
       "    .dataframe tbody tr th {\n",
       "        vertical-align: top;\n",
       "    }\n",
       "\n",
       "    .dataframe thead tr th {\n",
       "        text-align: left;\n",
       "    }\n",
       "</style>\n",
       "<table border=\"1\" class=\"dataframe\">\n",
       "  <thead>\n",
       "    <tr>\n",
       "      <th></th>\n",
       "      <th></th>\n",
       "      <th colspan=\"2\" halign=\"left\">Паритетный бит</th>\n",
       "    </tr>\n",
       "    <tr>\n",
       "      <th></th>\n",
       "      <th>Битовая строка</th>\n",
       "      <th>четный (even)</th>\n",
       "      <th>нечетный (odd)</th>\n",
       "    </tr>\n",
       "  </thead>\n",
       "  <tbody>\n",
       "    <tr>\n",
       "      <th>0</th>\n",
       "      <td>01100001</td>\n",
       "      <td>1</td>\n",
       "      <td>0</td>\n",
       "    </tr>\n",
       "    <tr>\n",
       "      <th>1</th>\n",
       "      <td>01101100</td>\n",
       "      <td>0</td>\n",
       "      <td>1</td>\n",
       "    </tr>\n",
       "    <tr>\n",
       "      <th>2</th>\n",
       "      <td>01101011</td>\n",
       "      <td>1</td>\n",
       "      <td>0</td>\n",
       "    </tr>\n",
       "    <tr>\n",
       "      <th>3</th>\n",
       "      <td>01100001</td>\n",
       "      <td>1</td>\n",
       "      <td>0</td>\n",
       "    </tr>\n",
       "    <tr>\n",
       "      <th>4</th>\n",
       "      <td>01110000</td>\n",
       "      <td>1</td>\n",
       "      <td>0</td>\n",
       "    </tr>\n",
       "    <tr>\n",
       "      <th>5</th>\n",
       "      <td>01101111</td>\n",
       "      <td>0</td>\n",
       "      <td>1</td>\n",
       "    </tr>\n",
       "    <tr>\n",
       "      <th>6</th>\n",
       "      <td>01110110</td>\n",
       "      <td>1</td>\n",
       "      <td>0</td>\n",
       "    </tr>\n",
       "  </tbody>\n",
       "</table>\n",
       "</div>"
      ],
      "text/plain": [
       "                 Паритетный бит               \n",
       "  Битовая строка  четный (even) нечетный (odd)\n",
       "0       01100001              1              0\n",
       "1       01101100              0              1\n",
       "2       01101011              1              0\n",
       "3       01100001              1              0\n",
       "4       01110000              1              0\n",
       "5       01101111              0              1\n",
       "6       01110110              1              0"
      ]
     },
     "execution_count": 8,
     "metadata": {},
     "output_type": "execute_result"
    }
   ],
   "source": [
    "data"
   ]
  },
  {
   "cell_type": "markdown",
   "metadata": {},
   "source": [
    "## Использование контрольных цифр"
   ]
  },
  {
   "cell_type": "code",
   "execution_count": 9,
   "metadata": {
    "ExecuteTime": {
     "end_time": "2019-03-27T19:10:53.138228Z",
     "start_time": "2019-03-27T19:10:53.135269Z"
    }
   },
   "outputs": [],
   "source": [
    "digits = list(map(int, ''.join(map(str, (LAST_NAME + FIRST_NAME + PATRONYMIC).encode('cp1251')))))"
   ]
  },
  {
   "cell_type": "markdown",
   "metadata": {},
   "source": [
    "### Алгоритм Луна"
   ]
  },
  {
   "cell_type": "code",
   "execution_count": 10,
   "metadata": {
    "ExecuteTime": {
     "end_time": "2019-03-27T19:10:53.142973Z",
     "start_time": "2019-03-27T19:10:53.139736Z"
    }
   },
   "outputs": [],
   "source": [
    "luna_input = digits[:15]"
   ]
  },
  {
   "cell_type": "code",
   "execution_count": 11,
   "metadata": {
    "ExecuteTime": {
     "end_time": "2019-03-27T19:10:53.148952Z",
     "start_time": "2019-03-27T19:10:53.145246Z"
    }
   },
   "outputs": [],
   "source": [
    "if (len(luna_input) & 1) == 1:\n",
    "    luna_input = [0] + luna_input"
   ]
  },
  {
   "cell_type": "markdown",
   "metadata": {
    "ExecuteTime": {
     "end_time": "2019-03-27T16:29:54.732628Z",
     "start_time": "2019-03-27T16:29:54.721467Z"
    },
    "variables": {
     "'$input = [%s]$' % ','.join(map(str, luna_input))": "$input = [0,9,7,1,0,8,1,0,7,9,7,1,1,2,1,1]$"
    }
   },
   "source": [
    "{{'$input = [%s]$' % ','.join(map(str, luna_input))}}"
   ]
  },
  {
   "cell_type": "markdown",
   "metadata": {
    "ExecuteTime": {
     "end_time": "2019-03-27T16:20:26.986986Z",
     "start_time": "2019-03-27T16:20:26.980601Z"
    }
   },
   "source": [
    "Каждая из цифр, стоящая в нечетной позиции, умножается на 2, после чего вычисляется остаток от деления на 9."
   ]
  },
  {
   "cell_type": "code",
   "execution_count": 12,
   "metadata": {
    "ExecuteTime": {
     "end_time": "2019-03-27T19:10:53.161635Z",
     "start_time": "2019-03-27T19:10:53.157557Z"
    }
   },
   "outputs": [],
   "source": [
    "e_odd = list(map(lambda x: (x * 2) % 9, luna_input[1::2]))\n",
    "md = '$E_n = [%s]$' % ','.join(map(str, e_odd))"
   ]
  },
  {
   "cell_type": "markdown",
   "metadata": {
    "ExecuteTime": {
     "end_time": "2019-03-27T16:27:00.753042Z",
     "start_time": "2019-03-27T16:27:00.741854Z"
    },
    "variables": {
     "md": "$E_n = [0,2,7,0,0,2,4,2]$"
    }
   },
   "source": [
    "{{md}}"
   ]
  },
  {
   "cell_type": "markdown",
   "metadata": {},
   "source": [
    "Вычисляется сумма остатков $S_{odd}$."
   ]
  },
  {
   "cell_type": "code",
   "execution_count": 13,
   "metadata": {
    "ExecuteTime": {
     "end_time": "2019-03-27T19:10:53.172227Z",
     "start_time": "2019-03-27T19:10:53.169264Z"
    }
   },
   "outputs": [],
   "source": [
    "s_odd = sum(e_odd)\n",
    "md = f'$S_{{odd}} = {s_odd}$'"
   ]
  },
  {
   "cell_type": "markdown",
   "metadata": {
    "ExecuteTime": {
     "end_time": "2019-03-27T16:33:15.089248Z",
     "start_time": "2019-03-27T16:33:15.077823Z"
    },
    "variables": {
     "md": "$S_{odd} = 17$"
    }
   },
   "source": [
    "{{md}}"
   ]
  },
  {
   "cell_type": "markdown",
   "metadata": {
    "ExecuteTime": {
     "end_time": "2019-03-27T16:35:17.009159Z",
     "start_time": "2019-03-27T16:35:17.002194Z"
    }
   },
   "source": [
    "Вычисляется сумма цифр $S_{even}$, стоящих в четных позициях, за исключением последней."
   ]
  },
  {
   "cell_type": "code",
   "execution_count": 14,
   "metadata": {
    "ExecuteTime": {
     "end_time": "2019-03-27T19:10:53.203958Z",
     "start_time": "2019-03-27T19:10:53.200267Z"
    }
   },
   "outputs": [],
   "source": [
    "s_even = sum(luna_input[:-1:2])\n",
    "md = f'$S_{{even}} = {s_even}$'"
   ]
  },
  {
   "cell_type": "markdown",
   "metadata": {
    "variables": {
     "md": "$S_{even} = 24$"
    }
   },
   "source": [
    "{{md}}"
   ]
  },
  {
   "cell_type": "markdown",
   "metadata": {
    "ExecuteTime": {
     "end_time": "2019-03-27T16:39:13.687659Z",
     "start_time": "2019-03-27T16:39:13.680443Z"
    }
   },
   "source": [
    "Вычисляется контрольная (последняя) цифра $cd$ из уравнения $(S_{odd} + S_{even} + {cd}) \\bmod 10 = 0$."
   ]
  },
  {
   "cell_type": "code",
   "execution_count": 15,
   "metadata": {
    "ExecuteTime": {
     "end_time": "2019-03-27T19:10:53.332044Z",
     "start_time": "2019-03-27T19:10:53.328689Z"
    }
   },
   "outputs": [],
   "source": [
    "cd = next(i for i in range(10) if ((s_odd + s_even + i) % 10) == 0)"
   ]
  },
  {
   "cell_type": "markdown",
   "metadata": {
    "ExecuteTime": {
     "end_time": "2019-03-27T16:41:10.346055Z",
     "start_time": "2019-03-27T16:41:10.334919Z"
    },
    "variables": {
     "f'$cd = {cd}$'": "$cd = 9$"
    }
   },
   "source": [
    "{{f'$cd = {cd}$'}}"
   ]
  },
  {
   "cell_type": "markdown",
   "metadata": {},
   "source": [
    "### Штрихкод по стандарту EAN-13"
   ]
  },
  {
   "cell_type": "code",
   "execution_count": 16,
   "metadata": {
    "ExecuteTime": {
     "end_time": "2019-03-27T19:10:53.455672Z",
     "start_time": "2019-03-27T19:10:53.453292Z"
    }
   },
   "outputs": [],
   "source": [
    "ean_input = digits[:13]"
   ]
  },
  {
   "cell_type": "markdown",
   "metadata": {
    "ExecuteTime": {
     "end_time": "2019-03-27T16:50:06.068850Z",
     "start_time": "2019-03-27T16:50:06.062815Z"
    }
   },
   "source": [
    "Вычисляется сумма цифр $S_{odd}$, стоящих в нечетных позициях, за исключением последней (нумерация с 1)"
   ]
  },
  {
   "cell_type": "code",
   "execution_count": 17,
   "metadata": {
    "ExecuteTime": {
     "end_time": "2019-03-27T19:10:53.520235Z",
     "start_time": "2019-03-27T19:10:53.516963Z"
    }
   },
   "outputs": [],
   "source": [
    "s_odd = sum(ean_input[:-1:2])\n",
    "md = f'$S_{{odd}} = {s_odd}$'"
   ]
  },
  {
   "cell_type": "markdown",
   "metadata": {
    "variables": {
     "md": "$S_{odd} = 28$"
    }
   },
   "source": [
    "{{md}}"
   ]
  },
  {
   "cell_type": "markdown",
   "metadata": {
    "ExecuteTime": {
     "end_time": "2019-03-27T16:51:36.270182Z",
     "start_time": "2019-03-27T16:51:36.264661Z"
    }
   },
   "source": [
    "Вычисляется утроенная сумма цифр $S_{even}$, стоящих в четных позициях."
   ]
  },
  {
   "cell_type": "code",
   "execution_count": 18,
   "metadata": {
    "ExecuteTime": {
     "end_time": "2019-03-27T19:10:53.640863Z",
     "start_time": "2019-03-27T19:10:53.638078Z"
    }
   },
   "outputs": [],
   "source": [
    "s_even = 3 * sum(ean_input[1::2])\n",
    "md = f'$S_{{even}} = {s_even}$'"
   ]
  },
  {
   "cell_type": "markdown",
   "metadata": {
    "variables": {
     "md": "$S_{even} = 69$"
    }
   },
   "source": [
    "{{md}}"
   ]
  },
  {
   "cell_type": "markdown",
   "metadata": {
    "ExecuteTime": {
     "end_time": "2019-03-27T16:54:39.134222Z",
     "start_time": "2019-03-27T16:54:39.127536Z"
    }
   },
   "source": [
    "Вычисляется контрольная (последняя) цифра $cd$ из уравнения $(S_{odd} + S_{even} + {cd}) \\bmod 10 = 0$."
   ]
  },
  {
   "cell_type": "code",
   "execution_count": 19,
   "metadata": {
    "ExecuteTime": {
     "end_time": "2019-03-27T19:10:53.762566Z",
     "start_time": "2019-03-27T19:10:53.758899Z"
    }
   },
   "outputs": [],
   "source": [
    "cd = next(i for i in range(10) if ((s_odd + s_even + i) % 10) == 0)"
   ]
  },
  {
   "cell_type": "markdown",
   "metadata": {
    "ExecuteTime": {
     "end_time": "2019-03-27T16:55:22.925493Z",
     "start_time": "2019-03-27T16:55:22.914875Z"
    },
    "variables": {
     "f'$cd = {cd}$'": "$cd = 3$"
    }
   },
   "source": [
    "{{f'$cd = {cd}$'}}"
   ]
  },
  {
   "cell_type": "markdown",
   "metadata": {
    "ExecuteTime": {
     "end_time": "2019-03-27T16:57:03.800245Z",
     "start_time": "2019-03-27T16:57:03.796932Z"
    }
   },
   "source": [
    "### Индивидуальный номер налогоплательщика"
   ]
  },
  {
   "cell_type": "code",
   "execution_count": 20,
   "metadata": {
    "ExecuteTime": {
     "end_time": "2019-03-27T19:10:53.890494Z",
     "start_time": "2019-03-27T19:10:53.887705Z"
    }
   },
   "outputs": [],
   "source": [
    "tin_input = digits[:12]"
   ]
  },
  {
   "cell_type": "markdown",
   "metadata": {},
   "source": [
    "Для десятизначного ИНН юридического лица:  \n",
    "$n_{10} = ((2n_1 + 4n_2 + 10n_3 + 3n_4 + 5n_5 + 9n_6 + 4n_7 + 6n_8 + 8n_9) \\bmod 11) \\bmod 10$"
   ]
  },
  {
   "cell_type": "code",
   "execution_count": 21,
   "metadata": {
    "ExecuteTime": {
     "end_time": "2019-03-27T19:10:53.951587Z",
     "start_time": "2019-03-27T19:10:53.946997Z"
    }
   },
   "outputs": [],
   "source": [
    "def get_legal_entity_cd(nums):\n",
    "    coefs = [2, 4, 10, 3, 5, 9, 4, 6, 8]\n",
    "    return (sum([c*n for n, c in zip(nums[:9], coefs)]) % 11) % 10"
   ]
  },
  {
   "cell_type": "code",
   "execution_count": 22,
   "metadata": {
    "ExecuteTime": {
     "end_time": "2019-03-27T19:10:53.957906Z",
     "start_time": "2019-03-27T19:10:53.954246Z"
    }
   },
   "outputs": [],
   "source": [
    "n_10 = get_legal_entity_cd(tin_input[:10])\n",
    "md = f'$n_{{10}} = {n_10}$'"
   ]
  },
  {
   "cell_type": "markdown",
   "metadata": {
    "ExecuteTime": {
     "end_time": "2019-03-27T17:03:25.668264Z",
     "start_time": "2019-03-27T17:03:25.658438Z"
    },
    "variables": {
     "md": "$n_{10} = 0$"
    }
   },
   "source": [
    "{{md}}"
   ]
  },
  {
   "cell_type": "markdown",
   "metadata": {},
   "source": [
    "Для двенадцатизначного ИНН физического лица:  \n",
    "$n_{11} = ((7n_1 + 2n_2 + 4n_3 + 10n_4 + 3n_5 + 5n_6 + 9n_7 + 4n_8 + 6n_9 + 8n_{10}) \\bmod 11) \\bmod 10$\n",
    "$n_{12} = ((3n_1 + 7n_2 + 2n_3 + 4n_4 + 10n_5 + 3n_6 + 5n_7 + 9n_8 + 4n_9 + 6n_{10} + 8n_{11}) \\bmod 11) \\bmod 10$"
   ]
  },
  {
   "cell_type": "code",
   "execution_count": 23,
   "metadata": {
    "ExecuteTime": {
     "end_time": "2019-03-27T19:10:54.068727Z",
     "start_time": "2019-03-27T19:10:54.063446Z"
    }
   },
   "outputs": [],
   "source": [
    "def get_individual_cd(nums):\n",
    "    coefs_11 = [7, 2, 4, 10, 3, 5, 9, 3, 6, 8]\n",
    "    coefs_12 = [3] + coefs_11\n",
    "    n_11 = (sum([c*n for n, c in zip(nums[:10], coefs_11)]) % 11) % 10\n",
    "    n_12 = (sum([c*n for n, c in zip(nums[:11], coefs_12)]) % 11) % 10\n",
    "    return n_11, n_12"
   ]
  },
  {
   "cell_type": "code",
   "execution_count": 24,
   "metadata": {
    "ExecuteTime": {
     "end_time": "2019-03-27T19:10:54.075589Z",
     "start_time": "2019-03-27T19:10:54.071990Z"
    }
   },
   "outputs": [],
   "source": [
    "n_11, n_12 = get_individual_cd(tin_input)\n",
    "md = f'$n_{{11}} = {n_11}, n_{{12}} = {n_12}$'"
   ]
  },
  {
   "cell_type": "markdown",
   "metadata": {
    "variables": {
     "md": "$n_{11} = 0, n_{12} = 4$"
    }
   },
   "source": [
    "{{md}}"
   ]
  },
  {
   "cell_type": "markdown",
   "metadata": {},
   "source": [
    "### Коды станций на железнодорожном транспорте"
   ]
  },
  {
   "cell_type": "code",
   "execution_count": 25,
   "metadata": {
    "ExecuteTime": {
     "end_time": "2019-03-27T19:10:54.176651Z",
     "start_time": "2019-03-27T19:10:54.173572Z"
    }
   },
   "outputs": [],
   "source": [
    "r_input = digits[:6]"
   ]
  },
  {
   "cell_type": "markdown",
   "metadata": {},
   "source": [
    "Последняя цифра кода (n_6) является контрольной и определяется по следующей формуле:    \n",
    "$n_6 = (1n_1 + 2n_2 + 3n_3 + 4n_4 + 5n_5) \\bmod 11$  \n",
    "Если остаток от деления меньше $10$, то он является контрольной цифрой, иначе выполняют сдвиг весового ряда на две позиции и вычисления повторяют:  \n",
    "$n_6 = (3n_1 + 4n_2 + 5n_3 + 6n_4 + 7n_5) \\bmod 11$  \n",
    "Если новый остаток от деления вновь получится равным $10$, то контрольная цифра принимается равной $0$, иначе - остатку"
   ]
  },
  {
   "cell_type": "code",
   "execution_count": 26,
   "metadata": {
    "ExecuteTime": {
     "end_time": "2019-03-27T19:10:54.230960Z",
     "start_time": "2019-03-27T19:10:54.225222Z"
    }
   },
   "outputs": [],
   "source": [
    "def get_r_cd(nums):\n",
    "    coefs_success = [1, 2, 3, 4, 5]\n",
    "    coefs_fail = [3, 4, 5, 6, 7]\n",
    "    n_6 = sum([c*n for n, c in zip(nums[:5], coefs_success)]) % 11\n",
    "    if n_6 != 10:\n",
    "        return n_6\n",
    "    n_6 = sum([c*n for n, c in zip(nums[:5], coefs_fail)]) % 11\n",
    "    if n_6 != 10:\n",
    "        return n_6\n",
    "    return 0"
   ]
  },
  {
   "cell_type": "code",
   "execution_count": 27,
   "metadata": {
    "ExecuteTime": {
     "end_time": "2019-03-27T19:10:54.237504Z",
     "start_time": "2019-03-27T19:10:54.234093Z"
    }
   },
   "outputs": [],
   "source": [
    "n_6 = get_r_cd(r_input)\n",
    "md = f'$n_{{6}} = {n_6}$'"
   ]
  },
  {
   "cell_type": "markdown",
   "metadata": {
    "variables": {
     "md": "$n_{6} = 0$"
    }
   },
   "source": [
    "{{md}}"
   ]
  },
  {
   "cell_type": "markdown",
   "metadata": {},
   "source": [
    "### Использование контрольных сумм"
   ]
  },
  {
   "cell_type": "code",
   "execution_count": 28,
   "metadata": {
    "ExecuteTime": {
     "end_time": "2019-03-27T19:10:54.333465Z",
     "start_time": "2019-03-27T19:10:54.328395Z"
    }
   },
   "outputs": [
    {
     "data": {
      "text/plain": [
       "'111001011'"
      ]
     },
     "execution_count": 28,
     "metadata": {},
     "output_type": "execute_result"
    }
   ],
   "source": [
    "crc_input = ''.join(map(lambda x: '{0:b}'.format(ord(x) - ord('a') + 1), LAST_NAME[:3]))\n",
    "# crc_input = ''.join(map(lambda x: '{0:0>8b}'.format(ord(x) - ord('a') + 1), LAST_NAME[:3]))\n",
    "crc_input"
   ]
  },
  {
   "cell_type": "code",
   "execution_count": 29,
   "metadata": {
    "ExecuteTime": {
     "end_time": "2019-03-27T19:10:54.346709Z",
     "start_time": "2019-03-27T19:10:54.336516Z"
    }
   },
   "outputs": [],
   "source": [
    "def crc_remainder(input_bitstring, polynomial_bitstring, initial_filler = '0'):\n",
    "    '''\n",
    "    Calculates the CRC remainder of a string of bits using a chosen polynomial.\n",
    "    initial_filler should be '1' or '0'.\n",
    "    '''\n",
    "    polynomial_bitstring = polynomial_bitstring.lstrip('0')\n",
    "    len_input = len(input_bitstring)\n",
    "    initial_padding = initial_filler * (len(polynomial_bitstring) - 1)\n",
    "    input_padded_array = list(input_bitstring + initial_padding)\n",
    "    while '1' in input_padded_array[:len_input]:\n",
    "        cur_shift = input_padded_array.index('1')\n",
    "        for i in range(len(polynomial_bitstring)):\n",
    "            input_padded_array[cur_shift + i] = str(int(polynomial_bitstring[i] != input_padded_array[cur_shift + i]))\n",
    "    return ''.join(input_padded_array)[len_input:]\n",
    "\n",
    "def crc_check(input_bitstring, polynomial_bitstring, check_value):\n",
    "    '''\n",
    "    Calculates the CRC check of a string of bits using a chosen polynomial.\n",
    "    '''\n",
    "    polynomial_bitstring = polynomial_bitstring.lstrip('0')\n",
    "    len_input = len(input_bitstring)\n",
    "    initial_padding = check_value\n",
    "    input_padded_array = list(input_bitstring + initial_padding)\n",
    "    while '1' in input_padded_array[:len_input]:\n",
    "        cur_shift = input_padded_array.index('1')\n",
    "        for i in range(len(polynomial_bitstring)):\n",
    "            input_padded_array[cur_shift + i] = str(int(polynomial_bitstring[i] != input_padded_array[cur_shift + i]))\n",
    "    return ('1' not in ''.join(input_padded_array)[len_input:])"
   ]
  },
  {
   "cell_type": "code",
   "execution_count": 30,
   "metadata": {
    "ExecuteTime": {
     "end_time": "2019-03-27T19:10:54.351030Z",
     "start_time": "2019-03-27T19:10:54.348589Z"
    }
   },
   "outputs": [],
   "source": [
    "g_string = '10011' # x^4 + 0*x^3 + 0*x^2 + x + x^0"
   ]
  },
  {
   "cell_type": "code",
   "execution_count": 31,
   "metadata": {
    "ExecuteTime": {
     "end_time": "2019-03-27T19:10:54.357932Z",
     "start_time": "2019-03-27T19:10:54.353580Z"
    }
   },
   "outputs": [
    {
     "data": {
      "text/plain": [
       "'1000'"
      ]
     },
     "execution_count": 31,
     "metadata": {},
     "output_type": "execute_result"
    }
   ],
   "source": [
    "crc_remainder(crc_input, g_string)"
   ]
  },
  {
   "cell_type": "markdown",
   "metadata": {},
   "source": [
    "### ECC"
   ]
  },
  {
   "cell_type": "code",
   "execution_count": 32,
   "metadata": {
    "ExecuteTime": {
     "end_time": "2019-03-27T19:10:54.393456Z",
     "start_time": "2019-03-27T19:10:54.389707Z"
    }
   },
   "outputs": [],
   "source": [
    "ecc_input = ''.join(['{0:0>8b}'.format(c) for c in LAST_NAME.encode('cp1251')[:2]])[:11]"
   ]
  },
  {
   "cell_type": "code",
   "execution_count": 33,
   "metadata": {
    "ExecuteTime": {
     "end_time": "2019-03-27T19:10:54.399954Z",
     "start_time": "2019-03-27T19:10:54.396373Z"
    }
   },
   "outputs": [],
   "source": [
    "ecc_input = list(map(int, ecc_input))"
   ]
  },
  {
   "cell_type": "code",
   "execution_count": 34,
   "metadata": {
    "ExecuteTime": {
     "end_time": "2019-03-27T19:10:54.407097Z",
     "start_time": "2019-03-27T19:10:54.402590Z"
    }
   },
   "outputs": [],
   "source": [
    "def gen_bit_pos(num):\n",
    "    return np.arange(1, num + 1)"
   ]
  },
  {
   "cell_type": "code",
   "execution_count": 35,
   "metadata": {
    "ExecuteTime": {
     "end_time": "2019-03-27T19:10:54.413406Z",
     "start_time": "2019-03-27T19:10:54.409917Z"
    }
   },
   "outputs": [],
   "source": [
    "def gen_bit_names(num):\n",
    "    return ['x{}'.format(i) for i in gen_bit_pos(num)]"
   ]
  },
  {
   "cell_type": "code",
   "execution_count": 36,
   "metadata": {
    "ExecuteTime": {
     "end_time": "2019-03-27T19:10:54.433639Z",
     "start_time": "2019-03-27T19:10:54.416449Z"
    }
   },
   "outputs": [
    {
     "data": {
      "text/html": [
       "<div>\n",
       "<style scoped>\n",
       "    .dataframe tbody tr th:only-of-type {\n",
       "        vertical-align: middle;\n",
       "    }\n",
       "\n",
       "    .dataframe tbody tr th {\n",
       "        vertical-align: top;\n",
       "    }\n",
       "\n",
       "    .dataframe thead th {\n",
       "        text-align: right;\n",
       "    }\n",
       "</style>\n",
       "<table border=\"1\" class=\"dataframe\">\n",
       "  <thead>\n",
       "    <tr style=\"text-align: right;\">\n",
       "      <th>Номер позиции бита</th>\n",
       "      <th>1</th>\n",
       "      <th>2</th>\n",
       "      <th>3</th>\n",
       "      <th>4</th>\n",
       "      <th>5</th>\n",
       "      <th>6</th>\n",
       "      <th>7</th>\n",
       "      <th>8</th>\n",
       "      <th>9</th>\n",
       "      <th>10</th>\n",
       "      <th>11</th>\n",
       "    </tr>\n",
       "  </thead>\n",
       "  <tbody>\n",
       "    <tr>\n",
       "      <th>Обозначение бита</th>\n",
       "      <td>x1</td>\n",
       "      <td>x2</td>\n",
       "      <td>x3</td>\n",
       "      <td>x4</td>\n",
       "      <td>x5</td>\n",
       "      <td>x6</td>\n",
       "      <td>x7</td>\n",
       "      <td>x8</td>\n",
       "      <td>x9</td>\n",
       "      <td>x10</td>\n",
       "      <td>x11</td>\n",
       "    </tr>\n",
       "    <tr>\n",
       "      <th>Значение бита</th>\n",
       "      <td>0</td>\n",
       "      <td>1</td>\n",
       "      <td>1</td>\n",
       "      <td>0</td>\n",
       "      <td>0</td>\n",
       "      <td>0</td>\n",
       "      <td>0</td>\n",
       "      <td>1</td>\n",
       "      <td>0</td>\n",
       "      <td>1</td>\n",
       "      <td>1</td>\n",
       "    </tr>\n",
       "  </tbody>\n",
       "</table>\n",
       "</div>"
      ],
      "text/plain": [
       "Номер позиции бита  1   2   3   4   5   6   7   8   9    10   11\n",
       "Обозначение бита    x1  x2  x3  x4  x5  x6  x7  x8  x9  x10  x11\n",
       "Значение бита        0   1   1   0   0   0   0   1   0    1    1"
      ]
     },
     "execution_count": 36,
     "metadata": {},
     "output_type": "execute_result"
    }
   ],
   "source": [
    "source = pd.DataFrame({\n",
    "    'Номер позиции бита': gen_bit_pos(11),\n",
    "    'Обозначение бита': gen_bit_names(11),\n",
    "    'Значение бита': list(ecc_input),\n",
    "})\n",
    "source = source.set_index('Номер позиции бита')\n",
    "source.T"
   ]
  },
  {
   "cell_type": "code",
   "execution_count": 37,
   "metadata": {
    "ExecuteTime": {
     "end_time": "2019-03-27T19:10:54.439352Z",
     "start_time": "2019-03-27T19:10:54.435599Z"
    }
   },
   "outputs": [],
   "source": [
    "def is_power_of_2(num):\n",
    "    return num != 0 and ((num & (num - 1)) == 0)"
   ]
  },
  {
   "cell_type": "code",
   "execution_count": 38,
   "metadata": {
    "ExecuteTime": {
     "end_time": "2019-03-27T19:10:54.445813Z",
     "start_time": "2019-03-27T19:10:54.441636Z"
    }
   },
   "outputs": [],
   "source": [
    "def gen_bit_pos_r(num):\n",
    "    cnt = sum(1 for i in range(1, num + 1) if is_power_of_2(i))\n",
    "    return np.arange(1, num + cnt + 1)"
   ]
  },
  {
   "cell_type": "code",
   "execution_count": 39,
   "metadata": {
    "ExecuteTime": {
     "end_time": "2019-03-27T19:10:54.452708Z",
     "start_time": "2019-03-27T19:10:54.447874Z"
    }
   },
   "outputs": [],
   "source": [
    "def gen_bit_names_r(num):\n",
    "    res = []\n",
    "    r = 1\n",
    "    x = 1\n",
    "    for i in gen_bit_pos_r(num):\n",
    "        if is_power_of_2(i):\n",
    "            res.append('r{}'.format(r))\n",
    "            r += 1\n",
    "        else:\n",
    "            res.append('x{}'.format(x))\n",
    "            x += 1\n",
    "    return res"
   ]
  },
  {
   "cell_type": "code",
   "execution_count": 40,
   "metadata": {
    "ExecuteTime": {
     "end_time": "2019-03-27T19:10:54.461059Z",
     "start_time": "2019-03-27T19:10:54.456435Z"
    }
   },
   "outputs": [],
   "source": [
    "def get_r_values(num):\n",
    "    r_values = np.array([list(map(int, list('{0:0>4b}'.format(n))[::-1])) for n in gen_bit_pos_r(num)]).T\n",
    "    r_names = ['r{}'.format(1 + x) for x in range(sum(1 for i in range(1, num + 1) if is_power_of_2(i)))]\n",
    "    return {k:v for k, v in zip(r_names, r_values)}"
   ]
  },
  {
   "cell_type": "code",
   "execution_count": 41,
   "metadata": {
    "ExecuteTime": {
     "end_time": "2019-03-27T19:10:54.468596Z",
     "start_time": "2019-03-27T19:10:54.464039Z"
    }
   },
   "outputs": [],
   "source": [
    "def expand_bit_value(ecc):\n",
    "    p = ecc[:]\n",
    "    num = len(ecc)\n",
    "    res = []\n",
    "    for i in gen_bit_pos_r(num):\n",
    "        if is_power_of_2(i):\n",
    "            res.append(0)\n",
    "        else:\n",
    "            res.append(int(p[0]))\n",
    "            p = p[1:]\n",
    "    return res"
   ]
  },
  {
   "cell_type": "code",
   "execution_count": 42,
   "metadata": {
    "ExecuteTime": {
     "end_time": "2019-03-27T19:10:54.475356Z",
     "start_time": "2019-03-27T19:10:54.471095Z"
    }
   },
   "outputs": [],
   "source": [
    "def get_r_bits(ecc):\n",
    "    a = expand_bit_value(list(ecc_input))\n",
    "    b = [list(map(int, list('{0:0>4b}'.format(n))[::-1])) for n in gen_bit_pos_r(len(ecc))]\n",
    "    return np.mod(np.matmul(a, b), 2)"
   ]
  },
  {
   "cell_type": "code",
   "execution_count": 43,
   "metadata": {
    "ExecuteTime": {
     "end_time": "2019-03-27T19:10:54.482444Z",
     "start_time": "2019-03-27T19:10:54.477572Z"
    }
   },
   "outputs": [],
   "source": [
    "def fill_r_bits(ecc, rbits=None):\n",
    "    res = expand_bit_value(ecc)\n",
    "    rbits = rbits or get_r_bits(ecc)\n",
    "    for i in range(len(res)):\n",
    "        if is_power_of_2(i + 1):\n",
    "            res[i] = rbits[0]\n",
    "            rbits = rbits[1:]\n",
    "    return res"
   ]
  },
  {
   "cell_type": "code",
   "execution_count": 44,
   "metadata": {
    "ExecuteTime": {
     "end_time": "2019-03-27T19:10:54.505845Z",
     "start_time": "2019-03-27T19:10:54.484660Z"
    }
   },
   "outputs": [
    {
     "data": {
      "text/html": [
       "<div>\n",
       "<style scoped>\n",
       "    .dataframe tbody tr th:only-of-type {\n",
       "        vertical-align: middle;\n",
       "    }\n",
       "\n",
       "    .dataframe tbody tr th {\n",
       "        vertical-align: top;\n",
       "    }\n",
       "\n",
       "    .dataframe thead th {\n",
       "        text-align: right;\n",
       "    }\n",
       "</style>\n",
       "<table border=\"1\" class=\"dataframe\">\n",
       "  <thead>\n",
       "    <tr style=\"text-align: right;\">\n",
       "      <th>Номер позиции бита</th>\n",
       "      <th>1</th>\n",
       "      <th>2</th>\n",
       "      <th>3</th>\n",
       "      <th>4</th>\n",
       "      <th>5</th>\n",
       "      <th>6</th>\n",
       "      <th>7</th>\n",
       "      <th>8</th>\n",
       "      <th>9</th>\n",
       "      <th>10</th>\n",
       "      <th>11</th>\n",
       "      <th>12</th>\n",
       "      <th>13</th>\n",
       "      <th>14</th>\n",
       "      <th>15</th>\n",
       "    </tr>\n",
       "  </thead>\n",
       "  <tbody>\n",
       "    <tr>\n",
       "      <th>Обозначение бита</th>\n",
       "      <td>r1</td>\n",
       "      <td>r2</td>\n",
       "      <td>x1</td>\n",
       "      <td>r3</td>\n",
       "      <td>x2</td>\n",
       "      <td>x3</td>\n",
       "      <td>x4</td>\n",
       "      <td>r4</td>\n",
       "      <td>x5</td>\n",
       "      <td>x6</td>\n",
       "      <td>x7</td>\n",
       "      <td>x8</td>\n",
       "      <td>x9</td>\n",
       "      <td>x10</td>\n",
       "      <td>x11</td>\n",
       "    </tr>\n",
       "    <tr>\n",
       "      <th>Значение бита</th>\n",
       "      <td>0</td>\n",
       "      <td>1</td>\n",
       "      <td>0</td>\n",
       "      <td>1</td>\n",
       "      <td>1</td>\n",
       "      <td>1</td>\n",
       "      <td>0</td>\n",
       "      <td>1</td>\n",
       "      <td>0</td>\n",
       "      <td>0</td>\n",
       "      <td>0</td>\n",
       "      <td>1</td>\n",
       "      <td>0</td>\n",
       "      <td>1</td>\n",
       "      <td>1</td>\n",
       "    </tr>\n",
       "    <tr>\n",
       "      <th>r1</th>\n",
       "      <td>1</td>\n",
       "      <td>0</td>\n",
       "      <td>1</td>\n",
       "      <td>0</td>\n",
       "      <td>1</td>\n",
       "      <td>0</td>\n",
       "      <td>1</td>\n",
       "      <td>0</td>\n",
       "      <td>1</td>\n",
       "      <td>0</td>\n",
       "      <td>1</td>\n",
       "      <td>0</td>\n",
       "      <td>1</td>\n",
       "      <td>0</td>\n",
       "      <td>1</td>\n",
       "    </tr>\n",
       "    <tr>\n",
       "      <th>r2</th>\n",
       "      <td>0</td>\n",
       "      <td>1</td>\n",
       "      <td>1</td>\n",
       "      <td>0</td>\n",
       "      <td>0</td>\n",
       "      <td>1</td>\n",
       "      <td>1</td>\n",
       "      <td>0</td>\n",
       "      <td>0</td>\n",
       "      <td>1</td>\n",
       "      <td>1</td>\n",
       "      <td>0</td>\n",
       "      <td>0</td>\n",
       "      <td>1</td>\n",
       "      <td>1</td>\n",
       "    </tr>\n",
       "    <tr>\n",
       "      <th>r3</th>\n",
       "      <td>0</td>\n",
       "      <td>0</td>\n",
       "      <td>0</td>\n",
       "      <td>1</td>\n",
       "      <td>1</td>\n",
       "      <td>1</td>\n",
       "      <td>1</td>\n",
       "      <td>0</td>\n",
       "      <td>0</td>\n",
       "      <td>0</td>\n",
       "      <td>0</td>\n",
       "      <td>1</td>\n",
       "      <td>1</td>\n",
       "      <td>1</td>\n",
       "      <td>1</td>\n",
       "    </tr>\n",
       "    <tr>\n",
       "      <th>r4</th>\n",
       "      <td>0</td>\n",
       "      <td>0</td>\n",
       "      <td>0</td>\n",
       "      <td>0</td>\n",
       "      <td>0</td>\n",
       "      <td>0</td>\n",
       "      <td>0</td>\n",
       "      <td>1</td>\n",
       "      <td>1</td>\n",
       "      <td>1</td>\n",
       "      <td>1</td>\n",
       "      <td>1</td>\n",
       "      <td>1</td>\n",
       "      <td>1</td>\n",
       "      <td>1</td>\n",
       "    </tr>\n",
       "  </tbody>\n",
       "</table>\n",
       "</div>"
      ],
      "text/plain": [
       "Номер позиции бита  1   2   3   4   5   6   7   8   9   10  11  12  13   14  \\\n",
       "Обозначение бита    r1  r2  x1  r3  x2  x3  x4  r4  x5  x6  x7  x8  x9  x10   \n",
       "Значение бита        0   1   0   1   1   1   0   1   0   0   0   1   0    1   \n",
       "r1                   1   0   1   0   1   0   1   0   1   0   1   0   1    0   \n",
       "r2                   0   1   1   0   0   1   1   0   0   1   1   0   0    1   \n",
       "r3                   0   0   0   1   1   1   1   0   0   0   0   1   1    1   \n",
       "r4                   0   0   0   0   0   0   0   1   1   1   1   1   1    1   \n",
       "\n",
       "Номер позиции бита   15  \n",
       "Обозначение бита    x11  \n",
       "Значение бита         1  \n",
       "r1                    1  \n",
       "r2                    1  \n",
       "r3                    1  \n",
       "r4                    1  "
      ]
     },
     "execution_count": 44,
     "metadata": {},
     "output_type": "execute_result"
    }
   ],
   "source": [
    "ecc_df = pd.DataFrame({\n",
    "    'Номер позиции бита': gen_bit_pos_r(11),\n",
    "    'Обозначение бита': gen_bit_names_r(11),\n",
    "    'Значение бита': fill_r_bits(ecc_input),\n",
    "    **get_r_values(11)\n",
    "}).set_index('Номер позиции бита').T\n",
    "ecc_df"
   ]
  },
  {
   "cell_type": "code",
   "execution_count": 45,
   "metadata": {
    "ExecuteTime": {
     "end_time": "2019-03-27T19:10:54.526615Z",
     "start_time": "2019-03-27T19:10:54.508061Z"
    }
   },
   "outputs": [
    {
     "data": {
      "text/html": [
       "<div>\n",
       "<style scoped>\n",
       "    .dataframe tbody tr th:only-of-type {\n",
       "        vertical-align: middle;\n",
       "    }\n",
       "\n",
       "    .dataframe tbody tr th {\n",
       "        vertical-align: top;\n",
       "    }\n",
       "\n",
       "    .dataframe thead th {\n",
       "        text-align: right;\n",
       "    }\n",
       "</style>\n",
       "<table border=\"1\" class=\"dataframe\">\n",
       "  <thead>\n",
       "    <tr style=\"text-align: right;\">\n",
       "      <th>Номер позиции бита</th>\n",
       "      <th>1</th>\n",
       "      <th>2</th>\n",
       "      <th>3</th>\n",
       "      <th>4</th>\n",
       "      <th>5</th>\n",
       "      <th>6</th>\n",
       "      <th>7</th>\n",
       "      <th>8</th>\n",
       "      <th>9</th>\n",
       "      <th>10</th>\n",
       "      <th>11</th>\n",
       "      <th>12</th>\n",
       "      <th>13</th>\n",
       "      <th>14</th>\n",
       "      <th>15</th>\n",
       "      <th>Pb</th>\n",
       "    </tr>\n",
       "  </thead>\n",
       "  <tbody>\n",
       "    <tr>\n",
       "      <th>Обозначение бита</th>\n",
       "      <td>r1</td>\n",
       "      <td>r2</td>\n",
       "      <td>x1</td>\n",
       "      <td>r3</td>\n",
       "      <td>x2</td>\n",
       "      <td>x3</td>\n",
       "      <td>x4</td>\n",
       "      <td>r4</td>\n",
       "      <td>x5</td>\n",
       "      <td>x6</td>\n",
       "      <td>x7</td>\n",
       "      <td>x8</td>\n",
       "      <td>x9</td>\n",
       "      <td>x10</td>\n",
       "      <td>x11</td>\n",
       "      <td></td>\n",
       "    </tr>\n",
       "    <tr>\n",
       "      <th>Значение бита</th>\n",
       "      <td>0</td>\n",
       "      <td>1</td>\n",
       "      <td>0</td>\n",
       "      <td>1</td>\n",
       "      <td>1</td>\n",
       "      <td>1</td>\n",
       "      <td>0</td>\n",
       "      <td>1</td>\n",
       "      <td>0</td>\n",
       "      <td>0</td>\n",
       "      <td>0</td>\n",
       "      <td>1</td>\n",
       "      <td>0</td>\n",
       "      <td>1</td>\n",
       "      <td>1</td>\n",
       "      <td>0</td>\n",
       "    </tr>\n",
       "    <tr>\n",
       "      <th>r1</th>\n",
       "      <td>1</td>\n",
       "      <td>0</td>\n",
       "      <td>1</td>\n",
       "      <td>0</td>\n",
       "      <td>1</td>\n",
       "      <td>0</td>\n",
       "      <td>1</td>\n",
       "      <td>0</td>\n",
       "      <td>1</td>\n",
       "      <td>0</td>\n",
       "      <td>1</td>\n",
       "      <td>0</td>\n",
       "      <td>1</td>\n",
       "      <td>0</td>\n",
       "      <td>1</td>\n",
       "      <td></td>\n",
       "    </tr>\n",
       "    <tr>\n",
       "      <th>r2</th>\n",
       "      <td>0</td>\n",
       "      <td>1</td>\n",
       "      <td>1</td>\n",
       "      <td>0</td>\n",
       "      <td>0</td>\n",
       "      <td>1</td>\n",
       "      <td>1</td>\n",
       "      <td>0</td>\n",
       "      <td>0</td>\n",
       "      <td>1</td>\n",
       "      <td>1</td>\n",
       "      <td>0</td>\n",
       "      <td>0</td>\n",
       "      <td>1</td>\n",
       "      <td>1</td>\n",
       "      <td></td>\n",
       "    </tr>\n",
       "    <tr>\n",
       "      <th>r3</th>\n",
       "      <td>0</td>\n",
       "      <td>0</td>\n",
       "      <td>0</td>\n",
       "      <td>1</td>\n",
       "      <td>1</td>\n",
       "      <td>1</td>\n",
       "      <td>1</td>\n",
       "      <td>0</td>\n",
       "      <td>0</td>\n",
       "      <td>0</td>\n",
       "      <td>0</td>\n",
       "      <td>1</td>\n",
       "      <td>1</td>\n",
       "      <td>1</td>\n",
       "      <td>1</td>\n",
       "      <td></td>\n",
       "    </tr>\n",
       "    <tr>\n",
       "      <th>r4</th>\n",
       "      <td>0</td>\n",
       "      <td>0</td>\n",
       "      <td>0</td>\n",
       "      <td>0</td>\n",
       "      <td>0</td>\n",
       "      <td>0</td>\n",
       "      <td>0</td>\n",
       "      <td>1</td>\n",
       "      <td>1</td>\n",
       "      <td>1</td>\n",
       "      <td>1</td>\n",
       "      <td>1</td>\n",
       "      <td>1</td>\n",
       "      <td>1</td>\n",
       "      <td>1</td>\n",
       "      <td></td>\n",
       "    </tr>\n",
       "  </tbody>\n",
       "</table>\n",
       "</div>"
      ],
      "text/plain": [
       "Номер позиции бита   1   2   3   4   5   6   7   8   9  10  11  12  13   14  \\\n",
       "Обозначение бита    r1  r2  x1  r3  x2  x3  x4  r4  x5  x6  x7  x8  x9  x10   \n",
       "Значение бита        0   1   0   1   1   1   0   1   0   0   0   1   0    1   \n",
       "r1                   1   0   1   0   1   0   1   0   1   0   1   0   1    0   \n",
       "r2                   0   1   1   0   0   1   1   0   0   1   1   0   0    1   \n",
       "r3                   0   0   0   1   1   1   1   0   0   0   0   1   1    1   \n",
       "r4                   0   0   0   0   0   0   0   1   1   1   1   1   1    1   \n",
       "\n",
       "Номер позиции бита   15 Pb  \n",
       "Обозначение бита    x11     \n",
       "Значение бита         1  0  \n",
       "r1                    1     \n",
       "r2                    1     \n",
       "r3                    1     \n",
       "r4                    1     "
      ]
     },
     "execution_count": 45,
     "metadata": {},
     "output_type": "execute_result"
    }
   ],
   "source": [
    "ecc_df['Pb'] = ['', np.sum(ecc_df.loc['Значение бита']) % 2, '', '', '', '']\n",
    "ecc_df"
   ]
  },
  {
   "cell_type": "code",
   "execution_count": 46,
   "metadata": {
    "ExecuteTime": {
     "end_time": "2019-03-27T19:10:54.535508Z",
     "start_time": "2019-03-27T19:10:54.528799Z"
    }
   },
   "outputs": [
    {
     "data": {
      "text/plain": [
       "([0, 1, 1, 0, 0, 0, 0, 1, 0, 1, 1], array([0, 1, 1, 1, 0], dtype=object))"
      ]
     },
     "execution_count": 46,
     "metadata": {},
     "output_type": "execute_result"
    }
   ],
   "source": [
    "check_values_idx = [0, 1, 3, 7, -1]\n",
    "check = ecc_df.loc['Значение бита'].values[[0, 1, 3, 7, -1]]\n",
    "ecc_input, check"
   ]
  },
  {
   "cell_type": "code",
   "execution_count": 47,
   "metadata": {
    "ExecuteTime": {
     "end_time": "2019-03-27T19:10:54.543231Z",
     "start_time": "2019-03-27T19:10:54.537899Z"
    }
   },
   "outputs": [
    {
     "data": {
      "text/plain": [
       "(6, 16)"
      ]
     },
     "execution_count": 47,
     "metadata": {},
     "output_type": "execute_result"
    }
   ],
   "source": [
    "ecc_df.shape"
   ]
  },
  {
   "cell_type": "code",
   "execution_count": 48,
   "metadata": {
    "ExecuteTime": {
     "end_time": "2019-03-27T19:10:54.557672Z",
     "start_time": "2019-03-27T19:10:54.545193Z"
    }
   },
   "outputs": [],
   "source": [
    "def get_matrix_with_sindrome(ecc, check_bits=None):\n",
    "    num = len(ecc)\n",
    "    df = pd.DataFrame({\n",
    "        'Номер позиции бита': gen_bit_pos_r(num),\n",
    "        'Обозначение бита': gen_bit_names_r(num),\n",
    "        'Значение бита': fill_r_bits(ecc_input, check_bits),\n",
    "        **get_r_values(num)\n",
    "    }).set_index('Номер позиции бита').T\n",
    "    pbv = np.sum(df.loc['Значение бита']) % 2\n",
    "    pb = ['' for i in range(df.shape[0])]\n",
    "    if check_bits is None:\n",
    "        pb[1] = pbv\n",
    "    else:\n",
    "        pb[1] = check_bits[-1]\n",
    "    df['Pb'] = pb\n",
    "    if check_bits is not None:\n",
    "        snames = ['' for i in range(df.shape[0])]\n",
    "        svals = ['' for i in range(df.shape[0])]\n",
    "        cnt = sum(1 for i in gen_bit_names_r(num) if i.startswith('r'))\n",
    "        snames[1] = 'sp'\n",
    "        b = [list(map(int, list('{0:0>4b}'.format(n))[::-1])) for n in gen_bit_pos_r(len(ecc))]\n",
    "        sbits = np.matmul(list(map(int, df.loc['Значение бита'].values[:-1])), b)\n",
    "        sbits = np.mod(sbits, 2)\n",
    "        for i in range(2, 2 + cnt):\n",
    "            snames[i] = 's{}'.format(i - 1)\n",
    "            svals[i] = sbits[0]\n",
    "            sbits = sbits[1:]\n",
    "        svals[1] = pbv\n",
    "        df['SNames'] = snames\n",
    "        df['SVals'] = svals\n",
    "    return df"
   ]
  },
  {
   "cell_type": "markdown",
   "metadata": {},
   "source": [
    "Просто данные"
   ]
  },
  {
   "cell_type": "code",
   "execution_count": 49,
   "metadata": {
    "ExecuteTime": {
     "end_time": "2019-03-27T19:10:54.585394Z",
     "start_time": "2019-03-27T19:10:54.562263Z"
    }
   },
   "outputs": [
    {
     "data": {
      "text/html": [
       "<div>\n",
       "<style scoped>\n",
       "    .dataframe tbody tr th:only-of-type {\n",
       "        vertical-align: middle;\n",
       "    }\n",
       "\n",
       "    .dataframe tbody tr th {\n",
       "        vertical-align: top;\n",
       "    }\n",
       "\n",
       "    .dataframe thead th {\n",
       "        text-align: right;\n",
       "    }\n",
       "</style>\n",
       "<table border=\"1\" class=\"dataframe\">\n",
       "  <thead>\n",
       "    <tr style=\"text-align: right;\">\n",
       "      <th>Номер позиции бита</th>\n",
       "      <th>1</th>\n",
       "      <th>2</th>\n",
       "      <th>3</th>\n",
       "      <th>4</th>\n",
       "      <th>5</th>\n",
       "      <th>6</th>\n",
       "      <th>7</th>\n",
       "      <th>8</th>\n",
       "      <th>9</th>\n",
       "      <th>10</th>\n",
       "      <th>11</th>\n",
       "      <th>12</th>\n",
       "      <th>13</th>\n",
       "      <th>14</th>\n",
       "      <th>15</th>\n",
       "      <th>Pb</th>\n",
       "    </tr>\n",
       "  </thead>\n",
       "  <tbody>\n",
       "    <tr>\n",
       "      <th>Обозначение бита</th>\n",
       "      <td>r1</td>\n",
       "      <td>r2</td>\n",
       "      <td>x1</td>\n",
       "      <td>r3</td>\n",
       "      <td>x2</td>\n",
       "      <td>x3</td>\n",
       "      <td>x4</td>\n",
       "      <td>r4</td>\n",
       "      <td>x5</td>\n",
       "      <td>x6</td>\n",
       "      <td>x7</td>\n",
       "      <td>x8</td>\n",
       "      <td>x9</td>\n",
       "      <td>x10</td>\n",
       "      <td>x11</td>\n",
       "      <td></td>\n",
       "    </tr>\n",
       "    <tr>\n",
       "      <th>Значение бита</th>\n",
       "      <td>0</td>\n",
       "      <td>1</td>\n",
       "      <td>0</td>\n",
       "      <td>1</td>\n",
       "      <td>1</td>\n",
       "      <td>1</td>\n",
       "      <td>0</td>\n",
       "      <td>1</td>\n",
       "      <td>0</td>\n",
       "      <td>0</td>\n",
       "      <td>0</td>\n",
       "      <td>1</td>\n",
       "      <td>0</td>\n",
       "      <td>1</td>\n",
       "      <td>1</td>\n",
       "      <td>0</td>\n",
       "    </tr>\n",
       "    <tr>\n",
       "      <th>r1</th>\n",
       "      <td>1</td>\n",
       "      <td>0</td>\n",
       "      <td>1</td>\n",
       "      <td>0</td>\n",
       "      <td>1</td>\n",
       "      <td>0</td>\n",
       "      <td>1</td>\n",
       "      <td>0</td>\n",
       "      <td>1</td>\n",
       "      <td>0</td>\n",
       "      <td>1</td>\n",
       "      <td>0</td>\n",
       "      <td>1</td>\n",
       "      <td>0</td>\n",
       "      <td>1</td>\n",
       "      <td></td>\n",
       "    </tr>\n",
       "    <tr>\n",
       "      <th>r2</th>\n",
       "      <td>0</td>\n",
       "      <td>1</td>\n",
       "      <td>1</td>\n",
       "      <td>0</td>\n",
       "      <td>0</td>\n",
       "      <td>1</td>\n",
       "      <td>1</td>\n",
       "      <td>0</td>\n",
       "      <td>0</td>\n",
       "      <td>1</td>\n",
       "      <td>1</td>\n",
       "      <td>0</td>\n",
       "      <td>0</td>\n",
       "      <td>1</td>\n",
       "      <td>1</td>\n",
       "      <td></td>\n",
       "    </tr>\n",
       "    <tr>\n",
       "      <th>r3</th>\n",
       "      <td>0</td>\n",
       "      <td>0</td>\n",
       "      <td>0</td>\n",
       "      <td>1</td>\n",
       "      <td>1</td>\n",
       "      <td>1</td>\n",
       "      <td>1</td>\n",
       "      <td>0</td>\n",
       "      <td>0</td>\n",
       "      <td>0</td>\n",
       "      <td>0</td>\n",
       "      <td>1</td>\n",
       "      <td>1</td>\n",
       "      <td>1</td>\n",
       "      <td>1</td>\n",
       "      <td></td>\n",
       "    </tr>\n",
       "    <tr>\n",
       "      <th>r4</th>\n",
       "      <td>0</td>\n",
       "      <td>0</td>\n",
       "      <td>0</td>\n",
       "      <td>0</td>\n",
       "      <td>0</td>\n",
       "      <td>0</td>\n",
       "      <td>0</td>\n",
       "      <td>1</td>\n",
       "      <td>1</td>\n",
       "      <td>1</td>\n",
       "      <td>1</td>\n",
       "      <td>1</td>\n",
       "      <td>1</td>\n",
       "      <td>1</td>\n",
       "      <td>1</td>\n",
       "      <td></td>\n",
       "    </tr>\n",
       "  </tbody>\n",
       "</table>\n",
       "</div>"
      ],
      "text/plain": [
       "Номер позиции бита   1   2   3   4   5   6   7   8   9  10  11  12  13   14  \\\n",
       "Обозначение бита    r1  r2  x1  r3  x2  x3  x4  r4  x5  x6  x7  x8  x9  x10   \n",
       "Значение бита        0   1   0   1   1   1   0   1   0   0   0   1   0    1   \n",
       "r1                   1   0   1   0   1   0   1   0   1   0   1   0   1    0   \n",
       "r2                   0   1   1   0   0   1   1   0   0   1   1   0   0    1   \n",
       "r3                   0   0   0   1   1   1   1   0   0   0   0   1   1    1   \n",
       "r4                   0   0   0   0   0   0   0   1   1   1   1   1   1    1   \n",
       "\n",
       "Номер позиции бита   15 Pb  \n",
       "Обозначение бита    x11     \n",
       "Значение бита         1  0  \n",
       "r1                    1     \n",
       "r2                    1     \n",
       "r3                    1     \n",
       "r4                    1     "
      ]
     },
     "execution_count": 49,
     "metadata": {},
     "output_type": "execute_result"
    }
   ],
   "source": [
    "get_matrix_with_sindrome(ecc_input)"
   ]
  },
  {
   "cell_type": "markdown",
   "metadata": {
    "ExecuteTime": {
     "end_time": "2019-03-27T19:04:59.558336Z",
     "start_time": "2019-03-27T19:04:59.554695Z"
    }
   },
   "source": [
    "0 синдром"
   ]
  },
  {
   "cell_type": "code",
   "execution_count": 50,
   "metadata": {
    "ExecuteTime": {
     "end_time": "2019-03-27T19:10:54.611385Z",
     "start_time": "2019-03-27T19:10:54.587690Z"
    }
   },
   "outputs": [
    {
     "data": {
      "text/html": [
       "<div>\n",
       "<style scoped>\n",
       "    .dataframe tbody tr th:only-of-type {\n",
       "        vertical-align: middle;\n",
       "    }\n",
       "\n",
       "    .dataframe tbody tr th {\n",
       "        vertical-align: top;\n",
       "    }\n",
       "\n",
       "    .dataframe thead th {\n",
       "        text-align: right;\n",
       "    }\n",
       "</style>\n",
       "<table border=\"1\" class=\"dataframe\">\n",
       "  <thead>\n",
       "    <tr style=\"text-align: right;\">\n",
       "      <th>Номер позиции бита</th>\n",
       "      <th>1</th>\n",
       "      <th>2</th>\n",
       "      <th>3</th>\n",
       "      <th>4</th>\n",
       "      <th>5</th>\n",
       "      <th>6</th>\n",
       "      <th>7</th>\n",
       "      <th>8</th>\n",
       "      <th>9</th>\n",
       "      <th>10</th>\n",
       "      <th>11</th>\n",
       "      <th>12</th>\n",
       "      <th>13</th>\n",
       "      <th>14</th>\n",
       "      <th>15</th>\n",
       "      <th>Pb</th>\n",
       "      <th>SNames</th>\n",
       "      <th>SVals</th>\n",
       "    </tr>\n",
       "  </thead>\n",
       "  <tbody>\n",
       "    <tr>\n",
       "      <th>Обозначение бита</th>\n",
       "      <td>r1</td>\n",
       "      <td>r2</td>\n",
       "      <td>x1</td>\n",
       "      <td>r3</td>\n",
       "      <td>x2</td>\n",
       "      <td>x3</td>\n",
       "      <td>x4</td>\n",
       "      <td>r4</td>\n",
       "      <td>x5</td>\n",
       "      <td>x6</td>\n",
       "      <td>x7</td>\n",
       "      <td>x8</td>\n",
       "      <td>x9</td>\n",
       "      <td>x10</td>\n",
       "      <td>x11</td>\n",
       "      <td></td>\n",
       "      <td></td>\n",
       "      <td></td>\n",
       "    </tr>\n",
       "    <tr>\n",
       "      <th>Значение бита</th>\n",
       "      <td>0</td>\n",
       "      <td>1</td>\n",
       "      <td>0</td>\n",
       "      <td>1</td>\n",
       "      <td>1</td>\n",
       "      <td>1</td>\n",
       "      <td>0</td>\n",
       "      <td>1</td>\n",
       "      <td>0</td>\n",
       "      <td>0</td>\n",
       "      <td>0</td>\n",
       "      <td>1</td>\n",
       "      <td>0</td>\n",
       "      <td>1</td>\n",
       "      <td>1</td>\n",
       "      <td>0</td>\n",
       "      <td>sp</td>\n",
       "      <td>0</td>\n",
       "    </tr>\n",
       "    <tr>\n",
       "      <th>r1</th>\n",
       "      <td>1</td>\n",
       "      <td>0</td>\n",
       "      <td>1</td>\n",
       "      <td>0</td>\n",
       "      <td>1</td>\n",
       "      <td>0</td>\n",
       "      <td>1</td>\n",
       "      <td>0</td>\n",
       "      <td>1</td>\n",
       "      <td>0</td>\n",
       "      <td>1</td>\n",
       "      <td>0</td>\n",
       "      <td>1</td>\n",
       "      <td>0</td>\n",
       "      <td>1</td>\n",
       "      <td></td>\n",
       "      <td>s1</td>\n",
       "      <td>0</td>\n",
       "    </tr>\n",
       "    <tr>\n",
       "      <th>r2</th>\n",
       "      <td>0</td>\n",
       "      <td>1</td>\n",
       "      <td>1</td>\n",
       "      <td>0</td>\n",
       "      <td>0</td>\n",
       "      <td>1</td>\n",
       "      <td>1</td>\n",
       "      <td>0</td>\n",
       "      <td>0</td>\n",
       "      <td>1</td>\n",
       "      <td>1</td>\n",
       "      <td>0</td>\n",
       "      <td>0</td>\n",
       "      <td>1</td>\n",
       "      <td>1</td>\n",
       "      <td></td>\n",
       "      <td>s2</td>\n",
       "      <td>0</td>\n",
       "    </tr>\n",
       "    <tr>\n",
       "      <th>r3</th>\n",
       "      <td>0</td>\n",
       "      <td>0</td>\n",
       "      <td>0</td>\n",
       "      <td>1</td>\n",
       "      <td>1</td>\n",
       "      <td>1</td>\n",
       "      <td>1</td>\n",
       "      <td>0</td>\n",
       "      <td>0</td>\n",
       "      <td>0</td>\n",
       "      <td>0</td>\n",
       "      <td>1</td>\n",
       "      <td>1</td>\n",
       "      <td>1</td>\n",
       "      <td>1</td>\n",
       "      <td></td>\n",
       "      <td>s3</td>\n",
       "      <td>0</td>\n",
       "    </tr>\n",
       "    <tr>\n",
       "      <th>r4</th>\n",
       "      <td>0</td>\n",
       "      <td>0</td>\n",
       "      <td>0</td>\n",
       "      <td>0</td>\n",
       "      <td>0</td>\n",
       "      <td>0</td>\n",
       "      <td>0</td>\n",
       "      <td>1</td>\n",
       "      <td>1</td>\n",
       "      <td>1</td>\n",
       "      <td>1</td>\n",
       "      <td>1</td>\n",
       "      <td>1</td>\n",
       "      <td>1</td>\n",
       "      <td>1</td>\n",
       "      <td></td>\n",
       "      <td>s4</td>\n",
       "      <td>0</td>\n",
       "    </tr>\n",
       "  </tbody>\n",
       "</table>\n",
       "</div>"
      ],
      "text/plain": [
       "Номер позиции бита   1   2   3   4   5   6   7   8   9  10  11  12  13   14  \\\n",
       "Обозначение бита    r1  r2  x1  r3  x2  x3  x4  r4  x5  x6  x7  x8  x9  x10   \n",
       "Значение бита        0   1   0   1   1   1   0   1   0   0   0   1   0    1   \n",
       "r1                   1   0   1   0   1   0   1   0   1   0   1   0   1    0   \n",
       "r2                   0   1   1   0   0   1   1   0   0   1   1   0   0    1   \n",
       "r3                   0   0   0   1   1   1   1   0   0   0   0   1   1    1   \n",
       "r4                   0   0   0   0   0   0   0   1   1   1   1   1   1    1   \n",
       "\n",
       "Номер позиции бита   15 Pb SNames SVals  \n",
       "Обозначение бита    x11                  \n",
       "Значение бита         1  0     sp     0  \n",
       "r1                    1        s1     0  \n",
       "r2                    1        s2     0  \n",
       "r3                    1        s3     0  \n",
       "r4                    1        s4     0  "
      ]
     },
     "execution_count": 50,
     "metadata": {},
     "output_type": "execute_result"
    }
   ],
   "source": [
    "get_matrix_with_sindrome(ecc_input, [0, 1, 1, 1, 0])"
   ]
  },
  {
   "cell_type": "code",
   "execution_count": 51,
   "metadata": {
    "ExecuteTime": {
     "end_time": "2019-03-27T19:10:54.617357Z",
     "start_time": "2019-03-27T19:10:54.613598Z"
    }
   },
   "outputs": [],
   "source": [
    "err1 = ecc_input\n",
    "err1[-1] = 1 - err1[-1]"
   ]
  },
  {
   "cell_type": "code",
   "execution_count": 52,
   "metadata": {
    "ExecuteTime": {
     "end_time": "2019-03-27T19:10:54.646834Z",
     "start_time": "2019-03-27T19:10:54.619735Z"
    }
   },
   "outputs": [
    {
     "data": {
      "text/html": [
       "<div>\n",
       "<style scoped>\n",
       "    .dataframe tbody tr th:only-of-type {\n",
       "        vertical-align: middle;\n",
       "    }\n",
       "\n",
       "    .dataframe tbody tr th {\n",
       "        vertical-align: top;\n",
       "    }\n",
       "\n",
       "    .dataframe thead th {\n",
       "        text-align: right;\n",
       "    }\n",
       "</style>\n",
       "<table border=\"1\" class=\"dataframe\">\n",
       "  <thead>\n",
       "    <tr style=\"text-align: right;\">\n",
       "      <th>Номер позиции бита</th>\n",
       "      <th>1</th>\n",
       "      <th>2</th>\n",
       "      <th>3</th>\n",
       "      <th>4</th>\n",
       "      <th>5</th>\n",
       "      <th>6</th>\n",
       "      <th>7</th>\n",
       "      <th>8</th>\n",
       "      <th>9</th>\n",
       "      <th>10</th>\n",
       "      <th>11</th>\n",
       "      <th>12</th>\n",
       "      <th>13</th>\n",
       "      <th>14</th>\n",
       "      <th>15</th>\n",
       "      <th>Pb</th>\n",
       "      <th>SNames</th>\n",
       "      <th>SVals</th>\n",
       "    </tr>\n",
       "  </thead>\n",
       "  <tbody>\n",
       "    <tr>\n",
       "      <th>Обозначение бита</th>\n",
       "      <td>r1</td>\n",
       "      <td>r2</td>\n",
       "      <td>x1</td>\n",
       "      <td>r3</td>\n",
       "      <td>x2</td>\n",
       "      <td>x3</td>\n",
       "      <td>x4</td>\n",
       "      <td>r4</td>\n",
       "      <td>x5</td>\n",
       "      <td>x6</td>\n",
       "      <td>x7</td>\n",
       "      <td>x8</td>\n",
       "      <td>x9</td>\n",
       "      <td>x10</td>\n",
       "      <td>x11</td>\n",
       "      <td></td>\n",
       "      <td></td>\n",
       "      <td></td>\n",
       "    </tr>\n",
       "    <tr>\n",
       "      <th>Значение бита</th>\n",
       "      <td>0</td>\n",
       "      <td>1</td>\n",
       "      <td>0</td>\n",
       "      <td>1</td>\n",
       "      <td>1</td>\n",
       "      <td>1</td>\n",
       "      <td>0</td>\n",
       "      <td>1</td>\n",
       "      <td>0</td>\n",
       "      <td>0</td>\n",
       "      <td>0</td>\n",
       "      <td>1</td>\n",
       "      <td>0</td>\n",
       "      <td>1</td>\n",
       "      <td>0</td>\n",
       "      <td>0</td>\n",
       "      <td>sp</td>\n",
       "      <td>1</td>\n",
       "    </tr>\n",
       "    <tr>\n",
       "      <th>r1</th>\n",
       "      <td>1</td>\n",
       "      <td>0</td>\n",
       "      <td>1</td>\n",
       "      <td>0</td>\n",
       "      <td>1</td>\n",
       "      <td>0</td>\n",
       "      <td>1</td>\n",
       "      <td>0</td>\n",
       "      <td>1</td>\n",
       "      <td>0</td>\n",
       "      <td>1</td>\n",
       "      <td>0</td>\n",
       "      <td>1</td>\n",
       "      <td>0</td>\n",
       "      <td>1</td>\n",
       "      <td></td>\n",
       "      <td>s1</td>\n",
       "      <td>1</td>\n",
       "    </tr>\n",
       "    <tr>\n",
       "      <th>r2</th>\n",
       "      <td>0</td>\n",
       "      <td>1</td>\n",
       "      <td>1</td>\n",
       "      <td>0</td>\n",
       "      <td>0</td>\n",
       "      <td>1</td>\n",
       "      <td>1</td>\n",
       "      <td>0</td>\n",
       "      <td>0</td>\n",
       "      <td>1</td>\n",
       "      <td>1</td>\n",
       "      <td>0</td>\n",
       "      <td>0</td>\n",
       "      <td>1</td>\n",
       "      <td>1</td>\n",
       "      <td></td>\n",
       "      <td>s2</td>\n",
       "      <td>1</td>\n",
       "    </tr>\n",
       "    <tr>\n",
       "      <th>r3</th>\n",
       "      <td>0</td>\n",
       "      <td>0</td>\n",
       "      <td>0</td>\n",
       "      <td>1</td>\n",
       "      <td>1</td>\n",
       "      <td>1</td>\n",
       "      <td>1</td>\n",
       "      <td>0</td>\n",
       "      <td>0</td>\n",
       "      <td>0</td>\n",
       "      <td>0</td>\n",
       "      <td>1</td>\n",
       "      <td>1</td>\n",
       "      <td>1</td>\n",
       "      <td>1</td>\n",
       "      <td></td>\n",
       "      <td>s3</td>\n",
       "      <td>1</td>\n",
       "    </tr>\n",
       "    <tr>\n",
       "      <th>r4</th>\n",
       "      <td>0</td>\n",
       "      <td>0</td>\n",
       "      <td>0</td>\n",
       "      <td>0</td>\n",
       "      <td>0</td>\n",
       "      <td>0</td>\n",
       "      <td>0</td>\n",
       "      <td>1</td>\n",
       "      <td>1</td>\n",
       "      <td>1</td>\n",
       "      <td>1</td>\n",
       "      <td>1</td>\n",
       "      <td>1</td>\n",
       "      <td>1</td>\n",
       "      <td>1</td>\n",
       "      <td></td>\n",
       "      <td>s4</td>\n",
       "      <td>1</td>\n",
       "    </tr>\n",
       "  </tbody>\n",
       "</table>\n",
       "</div>"
      ],
      "text/plain": [
       "Номер позиции бита   1   2   3   4   5   6   7   8   9  10  11  12  13   14  \\\n",
       "Обозначение бита    r1  r2  x1  r3  x2  x3  x4  r4  x5  x6  x7  x8  x9  x10   \n",
       "Значение бита        0   1   0   1   1   1   0   1   0   0   0   1   0    1   \n",
       "r1                   1   0   1   0   1   0   1   0   1   0   1   0   1    0   \n",
       "r2                   0   1   1   0   0   1   1   0   0   1   1   0   0    1   \n",
       "r3                   0   0   0   1   1   1   1   0   0   0   0   1   1    1   \n",
       "r4                   0   0   0   0   0   0   0   1   1   1   1   1   1    1   \n",
       "\n",
       "Номер позиции бита   15 Pb SNames SVals  \n",
       "Обозначение бита    x11                  \n",
       "Значение бита         0  0     sp     1  \n",
       "r1                    1        s1     1  \n",
       "r2                    1        s2     1  \n",
       "r3                    1        s3     1  \n",
       "r4                    1        s4     1  "
      ]
     },
     "execution_count": 52,
     "metadata": {},
     "output_type": "execute_result"
    }
   ],
   "source": [
    "get_matrix_with_sindrome(err1, [0, 1, 1, 1, 0])"
   ]
  },
  {
   "cell_type": "code",
   "execution_count": 53,
   "metadata": {
    "ExecuteTime": {
     "end_time": "2019-03-27T19:10:54.651871Z",
     "start_time": "2019-03-27T19:10:54.648957Z"
    }
   },
   "outputs": [],
   "source": [
    "err2 = err1\n",
    "err2[0] = 1 - err2[0]"
   ]
  },
  {
   "cell_type": "code",
   "execution_count": 54,
   "metadata": {
    "ExecuteTime": {
     "end_time": "2019-03-27T19:10:54.680783Z",
     "start_time": "2019-03-27T19:10:54.654018Z"
    }
   },
   "outputs": [
    {
     "data": {
      "text/html": [
       "<div>\n",
       "<style scoped>\n",
       "    .dataframe tbody tr th:only-of-type {\n",
       "        vertical-align: middle;\n",
       "    }\n",
       "\n",
       "    .dataframe tbody tr th {\n",
       "        vertical-align: top;\n",
       "    }\n",
       "\n",
       "    .dataframe thead th {\n",
       "        text-align: right;\n",
       "    }\n",
       "</style>\n",
       "<table border=\"1\" class=\"dataframe\">\n",
       "  <thead>\n",
       "    <tr style=\"text-align: right;\">\n",
       "      <th>Номер позиции бита</th>\n",
       "      <th>1</th>\n",
       "      <th>2</th>\n",
       "      <th>3</th>\n",
       "      <th>4</th>\n",
       "      <th>5</th>\n",
       "      <th>6</th>\n",
       "      <th>7</th>\n",
       "      <th>8</th>\n",
       "      <th>9</th>\n",
       "      <th>10</th>\n",
       "      <th>11</th>\n",
       "      <th>12</th>\n",
       "      <th>13</th>\n",
       "      <th>14</th>\n",
       "      <th>15</th>\n",
       "      <th>Pb</th>\n",
       "      <th>SNames</th>\n",
       "      <th>SVals</th>\n",
       "    </tr>\n",
       "  </thead>\n",
       "  <tbody>\n",
       "    <tr>\n",
       "      <th>Обозначение бита</th>\n",
       "      <td>r1</td>\n",
       "      <td>r2</td>\n",
       "      <td>x1</td>\n",
       "      <td>r3</td>\n",
       "      <td>x2</td>\n",
       "      <td>x3</td>\n",
       "      <td>x4</td>\n",
       "      <td>r4</td>\n",
       "      <td>x5</td>\n",
       "      <td>x6</td>\n",
       "      <td>x7</td>\n",
       "      <td>x8</td>\n",
       "      <td>x9</td>\n",
       "      <td>x10</td>\n",
       "      <td>x11</td>\n",
       "      <td></td>\n",
       "      <td></td>\n",
       "      <td></td>\n",
       "    </tr>\n",
       "    <tr>\n",
       "      <th>Значение бита</th>\n",
       "      <td>0</td>\n",
       "      <td>1</td>\n",
       "      <td>1</td>\n",
       "      <td>1</td>\n",
       "      <td>1</td>\n",
       "      <td>1</td>\n",
       "      <td>0</td>\n",
       "      <td>1</td>\n",
       "      <td>0</td>\n",
       "      <td>0</td>\n",
       "      <td>0</td>\n",
       "      <td>1</td>\n",
       "      <td>0</td>\n",
       "      <td>1</td>\n",
       "      <td>0</td>\n",
       "      <td>0</td>\n",
       "      <td>sp</td>\n",
       "      <td>0</td>\n",
       "    </tr>\n",
       "    <tr>\n",
       "      <th>r1</th>\n",
       "      <td>1</td>\n",
       "      <td>0</td>\n",
       "      <td>1</td>\n",
       "      <td>0</td>\n",
       "      <td>1</td>\n",
       "      <td>0</td>\n",
       "      <td>1</td>\n",
       "      <td>0</td>\n",
       "      <td>1</td>\n",
       "      <td>0</td>\n",
       "      <td>1</td>\n",
       "      <td>0</td>\n",
       "      <td>1</td>\n",
       "      <td>0</td>\n",
       "      <td>1</td>\n",
       "      <td></td>\n",
       "      <td>s1</td>\n",
       "      <td>0</td>\n",
       "    </tr>\n",
       "    <tr>\n",
       "      <th>r2</th>\n",
       "      <td>0</td>\n",
       "      <td>1</td>\n",
       "      <td>1</td>\n",
       "      <td>0</td>\n",
       "      <td>0</td>\n",
       "      <td>1</td>\n",
       "      <td>1</td>\n",
       "      <td>0</td>\n",
       "      <td>0</td>\n",
       "      <td>1</td>\n",
       "      <td>1</td>\n",
       "      <td>0</td>\n",
       "      <td>0</td>\n",
       "      <td>1</td>\n",
       "      <td>1</td>\n",
       "      <td></td>\n",
       "      <td>s2</td>\n",
       "      <td>0</td>\n",
       "    </tr>\n",
       "    <tr>\n",
       "      <th>r3</th>\n",
       "      <td>0</td>\n",
       "      <td>0</td>\n",
       "      <td>0</td>\n",
       "      <td>1</td>\n",
       "      <td>1</td>\n",
       "      <td>1</td>\n",
       "      <td>1</td>\n",
       "      <td>0</td>\n",
       "      <td>0</td>\n",
       "      <td>0</td>\n",
       "      <td>0</td>\n",
       "      <td>1</td>\n",
       "      <td>1</td>\n",
       "      <td>1</td>\n",
       "      <td>1</td>\n",
       "      <td></td>\n",
       "      <td>s3</td>\n",
       "      <td>1</td>\n",
       "    </tr>\n",
       "    <tr>\n",
       "      <th>r4</th>\n",
       "      <td>0</td>\n",
       "      <td>0</td>\n",
       "      <td>0</td>\n",
       "      <td>0</td>\n",
       "      <td>0</td>\n",
       "      <td>0</td>\n",
       "      <td>0</td>\n",
       "      <td>1</td>\n",
       "      <td>1</td>\n",
       "      <td>1</td>\n",
       "      <td>1</td>\n",
       "      <td>1</td>\n",
       "      <td>1</td>\n",
       "      <td>1</td>\n",
       "      <td>1</td>\n",
       "      <td></td>\n",
       "      <td>s4</td>\n",
       "      <td>1</td>\n",
       "    </tr>\n",
       "  </tbody>\n",
       "</table>\n",
       "</div>"
      ],
      "text/plain": [
       "Номер позиции бита   1   2   3   4   5   6   7   8   9  10  11  12  13   14  \\\n",
       "Обозначение бита    r1  r2  x1  r3  x2  x3  x4  r4  x5  x6  x7  x8  x9  x10   \n",
       "Значение бита        0   1   1   1   1   1   0   1   0   0   0   1   0    1   \n",
       "r1                   1   0   1   0   1   0   1   0   1   0   1   0   1    0   \n",
       "r2                   0   1   1   0   0   1   1   0   0   1   1   0   0    1   \n",
       "r3                   0   0   0   1   1   1   1   0   0   0   0   1   1    1   \n",
       "r4                   0   0   0   0   0   0   0   1   1   1   1   1   1    1   \n",
       "\n",
       "Номер позиции бита   15 Pb SNames SVals  \n",
       "Обозначение бита    x11                  \n",
       "Значение бита         0  0     sp     0  \n",
       "r1                    1        s1     0  \n",
       "r2                    1        s2     0  \n",
       "r3                    1        s3     1  \n",
       "r4                    1        s4     1  "
      ]
     },
     "execution_count": 54,
     "metadata": {},
     "output_type": "execute_result"
    }
   ],
   "source": [
    "get_matrix_with_sindrome(err2, [0, 1, 1, 1, 0])"
   ]
  }
 ],
 "metadata": {
  "kernelspec": {
   "display_name": "Python 3",
   "language": "python",
   "name": "python3"
  },
  "language_info": {
   "codemirror_mode": {
    "name": "ipython",
    "version": 3
   },
   "file_extension": ".py",
   "mimetype": "text/x-python",
   "name": "python",
   "nbconvert_exporter": "python",
   "pygments_lexer": "ipython3",
   "version": "3.6.5"
  }
 },
 "nbformat": 4,
 "nbformat_minor": 2
}
