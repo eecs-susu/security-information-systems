{
 "cells": [
  {
   "cell_type": "markdown",
   "metadata": {
    "ExecuteTime": {
     "end_time": "2019-03-27T07:45:55.701630Z",
     "start_time": "2019-03-27T07:45:55.692832Z"
    }
   },
   "source": [
    "# Практическая работа №2 «Идентификация и аутентификация (RSA, схемы Шнорра и Фейге-Фиата-Шамира)»\n",
    "В практической работе необходимо привести последовательность выполнения процедур идентификации/аутентификации с использованием следующих способов:\n",
    "- на основе алгоритма RSA;\n",
    "- по схеме Шнорра;\n",
    "- по схеме Фейге-Фиата-Шамира.  \n",
    "\n",
    "При оформлении отчета необходимо привести таблицы генерации ключей и аутентификации. В качестве случайного числа (k или r) принять коды, соответственно, 1-ой, 2-ой и 3-ей буквы своей фамилии согласно их положению в алфавите. Отчет прикрепляется в edu.susu.ru\n"
   ]
  },
  {
   "cell_type": "code",
   "execution_count": 1,
   "metadata": {
    "ExecuteTime": {
     "end_time": "2019-03-27T10:53:16.272536Z",
     "start_time": "2019-03-27T10:53:16.152963Z"
    }
   },
   "outputs": [],
   "source": [
    "import numpy as np\n",
    "import json"
   ]
  },
  {
   "cell_type": "code",
   "execution_count": 2,
   "metadata": {
    "ExecuteTime": {
     "end_time": "2019-03-27T10:53:16.281448Z",
     "start_time": "2019-03-27T10:53:16.275364Z"
    }
   },
   "outputs": [],
   "source": [
    "def generate_primes(max_prime):  \n",
    "    primes = []\n",
    "    for possible_prime in range(2, max_prime + 1):\n",
    "        is_prime = True\n",
    "        for num in range(2, int(possible_prime ** 0.5) + 1):\n",
    "            if possible_prime % num == 0:\n",
    "                is_prime = False\n",
    "                break\n",
    "        if is_prime:\n",
    "            primes.append(possible_prime)\n",
    "    return(primes)"
   ]
  },
  {
   "cell_type": "code",
   "execution_count": 3,
   "metadata": {
    "ExecuteTime": {
     "end_time": "2019-03-27T10:53:16.289175Z",
     "start_time": "2019-03-27T10:53:16.283683Z"
    }
   },
   "outputs": [],
   "source": [
    "def gcd_ext(a, b):\n",
    "    \"\"\"\n",
    "    Find a*x+b*y = gcd(a, b)\n",
    "    \"\"\"\n",
    "    if a == 0:\n",
    "        return b, 0, 1\n",
    "    d, x, y = gcd_ext(b % a, a)\n",
    "    return d, y - (b // a) * x, x"
   ]
  },
  {
   "cell_type": "code",
   "execution_count": 4,
   "metadata": {
    "ExecuteTime": {
     "end_time": "2019-03-27T10:53:16.297899Z",
     "start_time": "2019-03-27T10:53:16.292526Z"
    }
   },
   "outputs": [],
   "source": [
    "def rev_element_by_modulo(num, mod):\n",
    "    g, x, y = gcd_ext(num, mod)\n",
    "    if g != 1:\n",
    "        return None\n",
    "    return (x % mod + mod) % mod"
   ]
  },
  {
   "cell_type": "code",
   "execution_count": 5,
   "metadata": {
    "ExecuteTime": {
     "end_time": "2019-03-27T10:53:16.305979Z",
     "start_time": "2019-03-27T10:53:16.300186Z"
    }
   },
   "outputs": [],
   "source": [
    "def power_with_modulo(a, n, m):\n",
    "    res = 1\n",
    "    while n > 0:\n",
    "        if (n & 1) == 1:\n",
    "            res = (res * a) % m\n",
    "        a = (a * a) % m\n",
    "        n >>= 1\n",
    "    return res"
   ]
  },
  {
   "cell_type": "code",
   "execution_count": 6,
   "metadata": {
    "ExecuteTime": {
     "end_time": "2019-03-27T10:53:16.314045Z",
     "start_time": "2019-03-27T10:53:16.308772Z"
    }
   },
   "outputs": [],
   "source": [
    "with open('instance/settings.json') as f:\n",
    "    settings = json.load(f)\n",
    "    LAST_NAME = settings['last_name']"
   ]
  },
  {
   "cell_type": "code",
   "execution_count": 7,
   "metadata": {
    "ExecuteTime": {
     "end_time": "2019-03-27T10:53:16.322217Z",
     "start_time": "2019-03-27T10:53:16.316584Z"
    }
   },
   "outputs": [],
   "source": [
    "random = np.random.RandomState(seed=42)\n",
    "primes = generate_primes(30)"
   ]
  },
  {
   "cell_type": "markdown",
   "metadata": {},
   "source": [
    "## Алгоритм RSA"
   ]
  },
  {
   "cell_type": "markdown",
   "metadata": {
    "heading_collapsed": true
   },
   "source": [
    "### Генерация ключей"
   ]
  },
  {
   "cell_type": "markdown",
   "metadata": {
    "ExecuteTime": {
     "end_time": "2019-03-27T09:41:44.772329Z",
     "start_time": "2019-03-27T09:41:44.761444Z"
    },
    "hidden": true
   },
   "source": [
    "**A** генерирует ключи"
   ]
  },
  {
   "cell_type": "markdown",
   "metadata": {
    "hidden": true
   },
   "source": [
    "Выбирается простые $p$ и $q$"
   ]
  },
  {
   "cell_type": "code",
   "execution_count": 8,
   "metadata": {
    "ExecuteTime": {
     "end_time": "2019-03-27T10:53:16.369938Z",
     "start_time": "2019-03-27T10:53:16.365690Z"
    },
    "hidden": true
   },
   "outputs": [],
   "source": [
    "p, q = random.choice(primes, 2)\n",
    "md = f'$p = {p}, q = {q}$'"
   ]
  },
  {
   "cell_type": "markdown",
   "metadata": {
    "hidden": true,
    "variables": {
     "md": "$p = 17, q = 7$"
    }
   },
   "source": [
    "{{md}}"
   ]
  },
  {
   "cell_type": "markdown",
   "metadata": {
    "hidden": true
   },
   "source": [
    "Вычисляется произведение $n = p * q$"
   ]
  },
  {
   "cell_type": "code",
   "execution_count": 9,
   "metadata": {
    "ExecuteTime": {
     "end_time": "2019-03-27T10:53:16.441583Z",
     "start_time": "2019-03-27T10:53:16.438187Z"
    },
    "hidden": true
   },
   "outputs": [],
   "source": [
    "n = p * q\n",
    "md = f'$n = {n}$'"
   ]
  },
  {
   "cell_type": "markdown",
   "metadata": {
    "hidden": true,
    "variables": {
     "md": "$n = 119$"
    }
   },
   "source": [
    "{{md}}"
   ]
  },
  {
   "cell_type": "markdown",
   "metadata": {
    "ExecuteTime": {
     "end_time": "2019-03-27T08:24:13.982067Z",
     "start_time": "2019-03-27T08:24:13.977024Z"
    },
    "hidden": true
   },
   "source": [
    "Вычисляется функция Эйлера $\\phi(n)$"
   ]
  },
  {
   "cell_type": "code",
   "execution_count": 10,
   "metadata": {
    "ExecuteTime": {
     "end_time": "2019-03-27T10:53:16.512004Z",
     "start_time": "2019-03-27T10:53:16.508145Z"
    },
    "hidden": true
   },
   "outputs": [],
   "source": [
    "phi_n = (p - 1) * (q - 1)\n",
    "md = f'$\\phi(n) = \\phi(p)*\\phi(q) = (p - 1) * (q - 1) = {phi_n}$'"
   ]
  },
  {
   "cell_type": "markdown",
   "metadata": {
    "hidden": true,
    "variables": {
     "md": "$\\phi(n) = \\phi(p)*\\phi(q) = (p - 1) * (q - 1) = 96$"
    }
   },
   "source": [
    "{{md}}"
   ]
  },
  {
   "cell_type": "markdown",
   "metadata": {
    "ExecuteTime": {
     "end_time": "2019-03-27T08:24:49.610655Z",
     "start_time": "2019-03-27T08:24:49.605345Z"
    },
    "hidden": true
   },
   "source": [
    "Выбирается открытый ключ $e$, как произвольное число $(0 < e < n)$, взаимно простое с результатом функции Эйлера."
   ]
  },
  {
   "cell_type": "code",
   "execution_count": 11,
   "metadata": {
    "ExecuteTime": {
     "end_time": "2019-03-27T10:53:16.583228Z",
     "start_time": "2019-03-27T10:53:16.578467Z"
    },
    "hidden": true,
    "variables": {
     "a": "$36$"
    }
   },
   "outputs": [],
   "source": [
    "numbers = np.arange(1, n)\n",
    "random.shuffle(numbers)\n",
    "e = next(num for num in numbers if np.gcd(num, phi_n) == 1)\n",
    "md = f'$e = {e}$'"
   ]
  },
  {
   "cell_type": "markdown",
   "metadata": {
    "hidden": true,
    "variables": {
     "md": "$e = 5$"
    }
   },
   "source": [
    "{{md}}"
   ]
  },
  {
   "cell_type": "markdown",
   "metadata": {
    "ExecuteTime": {
     "end_time": "2019-03-27T08:32:24.308913Z",
     "start_time": "2019-03-27T08:32:24.303308Z"
    },
    "hidden": true
   },
   "source": [
    "Вычисляется закрытый ключ $d$, как обратное число к $e$ по модулю $\\phi(n)$, из соотношения $(d*e)$ mod $\\phi(n) = 1$."
   ]
  },
  {
   "cell_type": "code",
   "execution_count": 12,
   "metadata": {
    "ExecuteTime": {
     "end_time": "2019-03-27T10:53:16.650782Z",
     "start_time": "2019-03-27T10:53:16.646819Z"
    },
    "hidden": true
   },
   "outputs": [],
   "source": [
    "d = rev_element_by_modulo(e, phi_n)\n",
    "md = 'Обратного числа нет к $e$ по данному модулю нет' if d is None else f'$d = {d}$' "
   ]
  },
  {
   "cell_type": "markdown",
   "metadata": {
    "hidden": true,
    "variables": {
     "md": "$d = 77$"
    }
   },
   "source": [
    "{{md}}"
   ]
  },
  {
   "cell_type": "markdown",
   "metadata": {
    "ExecuteTime": {
     "end_time": "2019-03-27T08:53:08.333842Z",
     "start_time": "2019-03-27T08:53:08.329052Z"
    },
    "hidden": true
   },
   "source": [
    "Публикуются открытый ключ $(e, n)$"
   ]
  },
  {
   "cell_type": "markdown",
   "metadata": {},
   "source": [
    "### Ключи"
   ]
  },
  {
   "cell_type": "code",
   "execution_count": 13,
   "metadata": {
    "ExecuteTime": {
     "end_time": "2019-03-27T10:53:16.744475Z",
     "start_time": "2019-03-27T10:53:16.741346Z"
    }
   },
   "outputs": [],
   "source": [
    "public_key = (e, n)\n",
    "private_key = d"
   ]
  },
  {
   "cell_type": "code",
   "execution_count": 14,
   "metadata": {
    "ExecuteTime": {
     "end_time": "2019-03-27T10:53:16.751675Z",
     "start_time": "2019-03-27T10:53:16.748614Z"
    }
   },
   "outputs": [],
   "source": [
    "md0 = f'**public key:** $(e, n) = {public_key}$'\n",
    "md1 = f'**private key:** $d = {private_key}$'"
   ]
  },
  {
   "cell_type": "markdown",
   "metadata": {
    "variables": {
     "md0": "<strong>public key:</strong> $(e, n) = (5, 119)$",
     "md1": "<strong>private key:</strong> $d = 77$"
    }
   },
   "source": [
    "{{md0}}  \n",
    "{{md1}} "
   ]
  },
  {
   "cell_type": "markdown",
   "metadata": {
    "ExecuteTime": {
     "end_time": "2019-03-27T09:00:40.460442Z",
     "start_time": "2019-03-27T09:00:40.457419Z"
    }
   },
   "source": [
    "### Аутентификация"
   ]
  },
  {
   "cell_type": "markdown",
   "metadata": {
    "ExecuteTime": {
     "end_time": "2019-03-27T09:34:57.219892Z",
     "start_time": "2019-03-27T09:34:57.213899Z"
    }
   },
   "source": [
    "> __Замечание__  \n",
    "Используем бинарное возведение в степень по модулю\n",
    "- Избегаем переполнение\n",
    "- Быстро возводим в степень"
   ]
  },
  {
   "cell_type": "markdown",
   "metadata": {
    "ExecuteTime": {
     "end_time": "2019-03-27T09:02:50.762688Z",
     "start_time": "2019-03-27T09:02:50.757471Z"
    }
   },
   "source": [
    " **Б** выбирает случайное число $k \\in \\{1, …, n-1\\}$, вычисляет $r = k^e$ mod $n$ и посылает $r$ __A__."
   ]
  },
  {
   "cell_type": "markdown",
   "metadata": {
    "ExecuteTime": {
     "end_time": "2019-03-27T09:39:02.531329Z",
     "start_time": "2019-03-27T09:39:02.525228Z"
    }
   },
   "source": [
    "Выбираем $k$ как сумму позиций первых трех букв в алфавите по модулю $n - 1$ и смещением в $1$"
   ]
  },
  {
   "cell_type": "code",
   "execution_count": 15,
   "metadata": {
    "ExecuteTime": {
     "end_time": "2019-03-27T10:53:16.916414Z",
     "start_time": "2019-03-27T10:53:16.911913Z"
    }
   },
   "outputs": [],
   "source": [
    "k =  sum(map(lambda x: ord(x) - ord('a'), LAST_NAME[:3])) % (n - 1) + 1\n",
    "r = power_with_modulo(k, e, n)\n",
    "md = f'$k = {k}, r = {r}$'"
   ]
  },
  {
   "cell_type": "markdown",
   "metadata": {
    "ExecuteTime": {
     "end_time": "2019-03-27T09:13:52.218698Z",
     "start_time": "2019-03-27T09:13:52.211285Z"
    },
    "variables": {
     "md": "$k = 22, r = 99$"
    }
   },
   "source": [
    "{{md}}"
   ]
  },
  {
   "cell_type": "markdown",
   "metadata": {
    "ExecuteTime": {
     "end_time": "2019-03-27T09:18:26.017655Z",
     "start_time": "2019-03-27T09:18:26.012446Z"
    }
   },
   "source": [
    "**А** вычисляет $k^\\prime = r^d$ mod $n$ и посылает $k^\\prime$ __Б__."
   ]
  },
  {
   "cell_type": "code",
   "execution_count": 16,
   "metadata": {
    "ExecuteTime": {
     "end_time": "2019-03-27T10:53:16.980625Z",
     "start_time": "2019-03-27T10:53:16.976890Z"
    }
   },
   "outputs": [],
   "source": [
    "k_prime = power_with_modulo(r, d, n)\n",
    "md = f'$k^\\\\prime = {k_prime}$'"
   ]
  },
  {
   "cell_type": "markdown",
   "metadata": {
    "ExecuteTime": {
     "end_time": "2019-03-27T09:19:47.836191Z",
     "start_time": "2019-03-27T09:19:47.826921Z"
    },
    "variables": {
     " md ": "$k^\\prime = 22$"
    }
   },
   "source": [
    "{{ md }}"
   ]
  },
  {
   "cell_type": "markdown",
   "metadata": {
    "ExecuteTime": {
     "end_time": "2019-03-27T09:22:27.871054Z",
     "start_time": "2019-03-27T09:22:27.865027Z"
    }
   },
   "source": [
    "**Б** проверяет соотношение $k = k^\\prime$ и, если оно истинно, принимает доказательство, в противном случае - отвергает."
   ]
  },
  {
   "cell_type": "code",
   "execution_count": 17,
   "metadata": {
    "ExecuteTime": {
     "end_time": "2019-03-27T10:53:17.044182Z",
     "start_time": "2019-03-27T10:53:17.040240Z"
    }
   },
   "outputs": [],
   "source": [
    "approved = k == k_prime\n",
    "md = f'{\"Подтверждено\" if approved else \"Не подтверждено\"}'"
   ]
  },
  {
   "cell_type": "markdown",
   "metadata": {
    "variables": {
     "md": "Подтверждено"
    }
   },
   "source": [
    "{{md}}"
   ]
  },
  {
   "cell_type": "markdown",
   "metadata": {},
   "source": [
    "## Схема Клауса Шнорра"
   ]
  },
  {
   "cell_type": "markdown",
   "metadata": {
    "heading_collapsed": true
   },
   "source": [
    "### Генерация"
   ]
  },
  {
   "cell_type": "markdown",
   "metadata": {
    "hidden": true
   },
   "source": [
    "__A__ генерирует ключи"
   ]
  },
  {
   "cell_type": "markdown",
   "metadata": {
    "ExecuteTime": {
     "end_time": "2019-03-27T10:12:01.633089Z",
     "start_time": "2019-03-27T10:12:01.627962Z"
    },
    "hidden": true
   },
   "source": [
    "Выбираются два простых числа $p$ и $q$ такие, что $(p - 1)$ mod $q = 0$."
   ]
  },
  {
   "cell_type": "code",
   "execution_count": 18,
   "metadata": {
    "ExecuteTime": {
     "end_time": "2019-03-27T10:53:17.188495Z",
     "start_time": "2019-03-27T10:53:17.185187Z"
    },
    "hidden": true
   },
   "outputs": [],
   "source": [
    "p = 23\n",
    "q = 11"
   ]
  },
  {
   "cell_type": "markdown",
   "metadata": {
    "ExecuteTime": {
     "end_time": "2019-03-27T10:15:06.928409Z",
     "start_time": "2019-03-27T10:15:06.917022Z"
    },
    "hidden": true
   },
   "source": [
    "Выбирается секретный ключ $x \\in \\{1, …, q-1\\}$."
   ]
  },
  {
   "cell_type": "code",
   "execution_count": 19,
   "metadata": {
    "ExecuteTime": {
     "end_time": "2019-03-27T10:53:17.222175Z",
     "start_time": "2019-03-27T10:53:17.218015Z"
    },
    "hidden": true
   },
   "outputs": [],
   "source": [
    "x = 8"
   ]
  },
  {
   "cell_type": "markdown",
   "metadata": {
    "ExecuteTime": {
     "end_time": "2019-03-27T10:16:07.129570Z",
     "start_time": "2019-03-27T10:16:07.124096Z"
    },
    "hidden": true
   },
   "source": [
    "Выбирается $g$ такое, что $g^q$ mod $p = 1$."
   ]
  },
  {
   "cell_type": "code",
   "execution_count": 20,
   "metadata": {
    "ExecuteTime": {
     "end_time": "2019-03-27T10:53:17.254159Z",
     "start_time": "2019-03-27T10:53:17.250066Z"
    },
    "hidden": true
   },
   "outputs": [],
   "source": [
    "g = 3 "
   ]
  },
  {
   "cell_type": "markdown",
   "metadata": {
    "hidden": true
   },
   "source": [
    "Вычисляется открытый ключ $y$ такой, что $(g^x * y)$ mod $p = 1$."
   ]
  },
  {
   "cell_type": "code",
   "execution_count": 21,
   "metadata": {
    "ExecuteTime": {
     "end_time": "2019-03-27T10:53:17.287780Z",
     "start_time": "2019-03-27T10:53:17.282596Z"
    },
    "hidden": true
   },
   "outputs": [],
   "source": [
    "y = 4"
   ]
  },
  {
   "cell_type": "markdown",
   "metadata": {
    "hidden": true
   },
   "source": [
    "Публикация открытого ключа $y$."
   ]
  },
  {
   "cell_type": "markdown",
   "metadata": {},
   "source": [
    "### Ключи"
   ]
  },
  {
   "cell_type": "code",
   "execution_count": 22,
   "metadata": {
    "ExecuteTime": {
     "end_time": "2019-03-27T10:53:17.351672Z",
     "start_time": "2019-03-27T10:53:17.346906Z"
    }
   },
   "outputs": [],
   "source": [
    "public_key = (y, g, p)\n",
    "private_key = (x, q)"
   ]
  },
  {
   "cell_type": "code",
   "execution_count": 23,
   "metadata": {
    "ExecuteTime": {
     "end_time": "2019-03-27T10:53:17.359671Z",
     "start_time": "2019-03-27T10:53:17.355019Z"
    }
   },
   "outputs": [],
   "source": [
    "md0 = f'**public key:** $(y, g, p) = {public_key}$'\n",
    "md1 = f'**private key:** $(x, q) = {private_key}$'"
   ]
  },
  {
   "cell_type": "markdown",
   "metadata": {
    "ExecuteTime": {
     "end_time": "2019-03-27T10:46:30.313096Z",
     "start_time": "2019-03-27T10:46:30.303062Z"
    },
    "variables": {
     "md0": "<strong>public key:</strong> $(y, g, p) = (4, 3, 23)$",
     "md1": "<strong>private key:</strong> $(x, q) = (8, 11)$"
    }
   },
   "source": [
    "{{md0}}  \n",
    "{{md1}}"
   ]
  },
  {
   "cell_type": "markdown",
   "metadata": {
    "ExecuteTime": {
     "end_time": "2019-03-27T10:27:54.967657Z",
     "start_time": "2019-03-27T10:27:54.964682Z"
    }
   },
   "source": [
    "### Аутентификация"
   ]
  },
  {
   "cell_type": "markdown",
   "metadata": {
    "ExecuteTime": {
     "end_time": "2019-03-27T10:29:14.312686Z",
     "start_time": "2019-03-27T10:29:14.301219Z"
    }
   },
   "source": [
    "**А** выбирает случайное число $k \\in \\{1, …, q-1\\}$, вычисляет $r = g^k$ mod $p$ и посылает $r$ __Б__."
   ]
  },
  {
   "cell_type": "code",
   "execution_count": 24,
   "metadata": {
    "ExecuteTime": {
     "end_time": "2019-03-27T10:53:17.444729Z",
     "start_time": "2019-03-27T10:53:17.439856Z"
    }
   },
   "outputs": [],
   "source": [
    "k = sum(map(lambda x: ord(x) - ord('a'), LAST_NAME[:3])) % (q - 1) + 1\n",
    "r = power_with_modulo(g, k, p)\n",
    "md = f'$k = {k}, r = {r}$'"
   ]
  },
  {
   "cell_type": "markdown",
   "metadata": {
    "variables": {
     "md": "$k = 2, r = 9$"
    }
   },
   "source": [
    "{{md}}"
   ]
  },
  {
   "cell_type": "markdown",
   "metadata": {
    "ExecuteTime": {
     "end_time": "2019-03-27T10:32:06.281280Z",
     "start_time": "2019-03-27T10:32:06.275186Z"
    }
   },
   "source": [
    "__Б__ выбирает случайное число $e \\in \\{0, …, 2^t-1\\}$, где $t$ - некоторый параметр, и посылает $e$ **А**."
   ]
  },
  {
   "cell_type": "code",
   "execution_count": 25,
   "metadata": {
    "ExecuteTime": {
     "end_time": "2019-03-27T10:53:17.506022Z",
     "start_time": "2019-03-27T10:53:17.496259Z"
    }
   },
   "outputs": [],
   "source": [
    "e = random.choice(np.arange(0, 1 << 20))\n",
    "md = f'$e = {e}$'"
   ]
  },
  {
   "cell_type": "markdown",
   "metadata": {
    "variables": {
     "md": "$e = 288998$"
    }
   },
   "source": [
    "{{md}}"
   ]
  },
  {
   "cell_type": "markdown",
   "metadata": {
    "ExecuteTime": {
     "end_time": "2019-03-27T10:34:33.794214Z",
     "start_time": "2019-03-27T10:34:33.784033Z"
    }
   },
   "source": [
    "**А** вычисляет $s = (k + x * e)$ mod $q$ и посылает $s$ __Б__."
   ]
  },
  {
   "cell_type": "code",
   "execution_count": 26,
   "metadata": {
    "ExecuteTime": {
     "end_time": "2019-03-27T10:53:17.555558Z",
     "start_time": "2019-03-27T10:53:17.551554Z"
    }
   },
   "outputs": [],
   "source": [
    "s = (k + x * e) % q\n",
    "md = f'$s = {s}$'"
   ]
  },
  {
   "cell_type": "markdown",
   "metadata": {
    "ExecuteTime": {
     "end_time": "2019-03-27T10:35:03.024538Z",
     "start_time": "2019-03-27T10:35:03.015145Z"
    },
    "variables": {
     "md": "$s = 6$"
    }
   },
   "source": [
    "{{md}}"
   ]
  },
  {
   "cell_type": "markdown",
   "metadata": {},
   "source": [
    "**Б** проверяет соотношение $r = (g^s * y^e)$ mod $p$ и, если оно выполняется, принимает доказательство, в противном случае - отвергает."
   ]
  },
  {
   "cell_type": "code",
   "execution_count": 27,
   "metadata": {
    "ExecuteTime": {
     "end_time": "2019-03-27T10:53:17.608836Z",
     "start_time": "2019-03-27T10:53:17.603729Z"
    }
   },
   "outputs": [],
   "source": [
    "check = (power_with_modulo(g, s, p) * power_with_modulo(y, e, p)) % p\n",
    "approved = r == check\n",
    "md = f'{\"Подтверждено\" if approved else \"Не подтверждено\"}'"
   ]
  },
  {
   "cell_type": "markdown",
   "metadata": {
    "variables": {
     "md": "Подтверждено"
    }
   },
   "source": [
    "{{md}}"
   ]
  }
 ],
 "metadata": {
  "kernelspec": {
   "display_name": "Python 3",
   "language": "python",
   "name": "python3"
  },
  "language_info": {
   "codemirror_mode": {
    "name": "ipython",
    "version": 3
   },
   "file_extension": ".py",
   "mimetype": "text/x-python",
   "name": "python",
   "nbconvert_exporter": "python",
   "pygments_lexer": "ipython3",
   "version": "3.6.5"
  }
 },
 "nbformat": 4,
 "nbformat_minor": 2
}
