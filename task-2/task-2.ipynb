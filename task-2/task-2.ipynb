{
 "cells": [
  {
   "cell_type": "markdown",
   "metadata": {
    "ExecuteTime": {
     "end_time": "2019-03-27T07:45:55.701630Z",
     "start_time": "2019-03-27T07:45:55.692832Z"
    }
   },
   "source": [
    "# Практическая работа №2 «Идентификация и аутентификация (RSA, схемы Шнорра и Фейге-Фиата-Шамира)»\n",
    "В практической работе необходимо привести последовательность выполнения процедур идентификации/аутентификации с использованием следующих способов:\n",
    "- на основе алгоритма RSA;\n",
    "- по схеме Шнорра;\n",
    "- по схеме Фейге-Фиата-Шамира.  \n",
    "\n",
    "При оформлении отчета необходимо привести таблицы генерации ключей и аутентификации. В качестве случайного числа (k или r) принять коды, соответственно, 1-ой, 2-ой и 3-ей буквы своей фамилии согласно их положению в алфавите. Отчет прикрепляется в edu.susu.ru\n"
   ]
  },
  {
   "cell_type": "code",
   "execution_count": 1,
   "metadata": {
    "ExecuteTime": {
     "end_time": "2019-03-27T09:42:50.259802Z",
     "start_time": "2019-03-27T09:42:50.131916Z"
    }
   },
   "outputs": [],
   "source": [
    "import numpy as np\n",
    "import json"
   ]
  },
  {
   "cell_type": "code",
   "execution_count": 2,
   "metadata": {
    "ExecuteTime": {
     "end_time": "2019-03-27T09:42:50.269423Z",
     "start_time": "2019-03-27T09:42:50.262669Z"
    }
   },
   "outputs": [],
   "source": [
    "def generate_primes(max_prime):  \n",
    "    primes = []\n",
    "    for possible_prime in range(2, max_prime + 1):\n",
    "        is_prime = True\n",
    "        for num in range(2, int(possible_prime ** 0.5) + 1):\n",
    "            if possible_prime % num == 0:\n",
    "                is_prime = False\n",
    "                break\n",
    "        if is_prime:\n",
    "            primes.append(possible_prime)\n",
    "    return(primes)"
   ]
  },
  {
   "cell_type": "code",
   "execution_count": 3,
   "metadata": {
    "ExecuteTime": {
     "end_time": "2019-03-27T09:42:50.277284Z",
     "start_time": "2019-03-27T09:42:50.271673Z"
    }
   },
   "outputs": [],
   "source": [
    "def gcd_ext(a, b):\n",
    "    \"\"\"\n",
    "    Find a*x+b*y = gcd(a, b)\n",
    "    \"\"\"\n",
    "    if a == 0:\n",
    "        return b, 0, 1\n",
    "    d, x, y = gcd_ext(b % a, a)\n",
    "    return d, y - (b // a) * x, x"
   ]
  },
  {
   "cell_type": "code",
   "execution_count": 4,
   "metadata": {
    "ExecuteTime": {
     "end_time": "2019-03-27T09:42:50.287128Z",
     "start_time": "2019-03-27T09:42:50.281758Z"
    }
   },
   "outputs": [],
   "source": [
    "def rev_element_by_modulo(num, mod):\n",
    "    g, x, y = gcd_ext(num, mod)\n",
    "    if g != 1:\n",
    "        return None\n",
    "    return (x % mod + mod) % mod"
   ]
  },
  {
   "cell_type": "code",
   "execution_count": 5,
   "metadata": {
    "ExecuteTime": {
     "end_time": "2019-03-27T09:42:50.294686Z",
     "start_time": "2019-03-27T09:42:50.289589Z"
    }
   },
   "outputs": [],
   "source": [
    "def power_with_modulo(a, n, m):\n",
    "    res = 1\n",
    "    while n > 0:\n",
    "        if (n & 1) == 1:\n",
    "            res = (res * a) % m\n",
    "        a = (a * a) % m\n",
    "        n >>= 1\n",
    "    return res"
   ]
  },
  {
   "cell_type": "code",
   "execution_count": 6,
   "metadata": {
    "ExecuteTime": {
     "end_time": "2019-03-27T09:42:50.309814Z",
     "start_time": "2019-03-27T09:42:50.296701Z"
    }
   },
   "outputs": [],
   "source": [
    "with open('instance/settings.json') as f:\n",
    "    settings = json.load(f)\n",
    "    LAST_NAME = settings['last_name']"
   ]
  },
  {
   "cell_type": "code",
   "execution_count": 7,
   "metadata": {
    "ExecuteTime": {
     "end_time": "2019-03-27T09:42:50.316477Z",
     "start_time": "2019-03-27T09:42:50.311727Z"
    }
   },
   "outputs": [],
   "source": [
    "random = np.random.RandomState(seed=42)\n",
    "primes = generate_primes(30)"
   ]
  },
  {
   "cell_type": "markdown",
   "metadata": {},
   "source": [
    "## Алгоритм RSA"
   ]
  },
  {
   "cell_type": "markdown",
   "metadata": {},
   "source": [
    "### Генерация ключей"
   ]
  },
  {
   "cell_type": "markdown",
   "metadata": {
    "ExecuteTime": {
     "end_time": "2019-03-27T09:41:44.772329Z",
     "start_time": "2019-03-27T09:41:44.761444Z"
    }
   },
   "source": [
    "**A** генерирует ключи"
   ]
  },
  {
   "cell_type": "markdown",
   "metadata": {},
   "source": [
    "Выбирается простые $p$ и $q$"
   ]
  },
  {
   "cell_type": "code",
   "execution_count": 8,
   "metadata": {
    "ExecuteTime": {
     "end_time": "2019-03-27T09:42:50.333387Z",
     "start_time": "2019-03-27T09:42:50.328257Z"
    }
   },
   "outputs": [],
   "source": [
    "p, q = random.choice(primes, 2)\n",
    "md = f'$p = {p}, q = {q}$'"
   ]
  },
  {
   "cell_type": "markdown",
   "metadata": {
    "variables": {
     "md": "$p = 17, q = 7$"
    }
   },
   "source": [
    "{{md}}"
   ]
  },
  {
   "cell_type": "markdown",
   "metadata": {},
   "source": [
    "Вычисляется произведение $n = p * q$"
   ]
  },
  {
   "cell_type": "code",
   "execution_count": 9,
   "metadata": {
    "ExecuteTime": {
     "end_time": "2019-03-27T09:42:50.399398Z",
     "start_time": "2019-03-27T09:42:50.392340Z"
    }
   },
   "outputs": [],
   "source": [
    "n = p * q\n",
    "md = f'$n = {n}$'"
   ]
  },
  {
   "cell_type": "markdown",
   "metadata": {
    "variables": {
     "md": "$n = 119$"
    }
   },
   "source": [
    "{{md}}"
   ]
  },
  {
   "cell_type": "markdown",
   "metadata": {
    "ExecuteTime": {
     "end_time": "2019-03-27T08:24:13.982067Z",
     "start_time": "2019-03-27T08:24:13.977024Z"
    }
   },
   "source": [
    "Вычисляется функция Эйлера $\\phi(n)$"
   ]
  },
  {
   "cell_type": "code",
   "execution_count": 10,
   "metadata": {
    "ExecuteTime": {
     "end_time": "2019-03-27T09:42:50.457204Z",
     "start_time": "2019-03-27T09:42:50.453545Z"
    }
   },
   "outputs": [],
   "source": [
    "phi_n = (p - 1) * (q - 1)\n",
    "md = f'$\\phi(n) = \\phi(p)*\\phi(q) = (p - 1) * (q - 1) = {phi_n}$'"
   ]
  },
  {
   "cell_type": "markdown",
   "metadata": {
    "variables": {
     "md": "$\\phi(n) = \\phi(p)*\\phi(q) = (p - 1) * (q - 1) = 96$"
    }
   },
   "source": [
    "{{md}}"
   ]
  },
  {
   "cell_type": "markdown",
   "metadata": {
    "ExecuteTime": {
     "end_time": "2019-03-27T08:24:49.610655Z",
     "start_time": "2019-03-27T08:24:49.605345Z"
    }
   },
   "source": [
    "Выбирается открытый ключ $e$, как произвольное число $(0 < e < n)$, взаимно простое с результатом функции Эйлера."
   ]
  },
  {
   "cell_type": "code",
   "execution_count": 11,
   "metadata": {
    "ExecuteTime": {
     "end_time": "2019-03-27T09:42:50.516327Z",
     "start_time": "2019-03-27T09:42:50.510807Z"
    },
    "variables": {
     "a": "$36$"
    }
   },
   "outputs": [],
   "source": [
    "numbers = np.arange(1, n)\n",
    "random.shuffle(numbers)\n",
    "e = next(num for num in numbers if np.gcd(num, phi_n) == 1)\n",
    "md = f'$e = {e}$'"
   ]
  },
  {
   "cell_type": "markdown",
   "metadata": {
    "variables": {
     "md": "$e = 5$"
    }
   },
   "source": [
    "{{md}}"
   ]
  },
  {
   "cell_type": "markdown",
   "metadata": {
    "ExecuteTime": {
     "end_time": "2019-03-27T08:32:24.308913Z",
     "start_time": "2019-03-27T08:32:24.303308Z"
    }
   },
   "source": [
    "Вычисляется закрытый ключ $d$, как обратное число к $e$ по модулю $\\phi(n)$, из соотношения $(d*e)$ mod $\\phi(n) = 1$."
   ]
  },
  {
   "cell_type": "code",
   "execution_count": 12,
   "metadata": {
    "ExecuteTime": {
     "end_time": "2019-03-27T09:42:50.573896Z",
     "start_time": "2019-03-27T09:42:50.569753Z"
    }
   },
   "outputs": [],
   "source": [
    "d = rev_element_by_modulo(e, phi_n)\n",
    "md = 'Обратного числа нет к $e$ по данному модулю нет' if d is None else f'$d = {d}$' "
   ]
  },
  {
   "cell_type": "markdown",
   "metadata": {
    "variables": {
     "md": "$d = 77$"
    }
   },
   "source": [
    "{{md}}"
   ]
  },
  {
   "cell_type": "markdown",
   "metadata": {
    "ExecuteTime": {
     "end_time": "2019-03-27T08:53:08.333842Z",
     "start_time": "2019-03-27T08:53:08.329052Z"
    }
   },
   "source": [
    "Публикуются открытый ключ $(e, n)$"
   ]
  },
  {
   "cell_type": "markdown",
   "metadata": {},
   "source": [
    "### Ключи"
   ]
  },
  {
   "cell_type": "code",
   "execution_count": 13,
   "metadata": {
    "ExecuteTime": {
     "end_time": "2019-03-27T09:42:50.653714Z",
     "start_time": "2019-03-27T09:42:50.649968Z"
    }
   },
   "outputs": [],
   "source": [
    "public_key = (e, n)\n",
    "private_key = d"
   ]
  },
  {
   "cell_type": "code",
   "execution_count": 14,
   "metadata": {
    "ExecuteTime": {
     "end_time": "2019-03-27T09:42:50.661072Z",
     "start_time": "2019-03-27T09:42:50.657896Z"
    }
   },
   "outputs": [],
   "source": [
    "md0 = f'**public key:** $(e, n) = {public_key}$'\n",
    "md1 = f'**private key:** $d = {private_key}$'"
   ]
  },
  {
   "cell_type": "markdown",
   "metadata": {
    "variables": {
     "md0": "<strong>public key:</strong> $(e, n) = (5, 119)$",
     "md1": "<strong>private key:</strong> $d = 77$"
    }
   },
   "source": [
    "{{md0}}  \n",
    "{{md1}} "
   ]
  },
  {
   "cell_type": "markdown",
   "metadata": {
    "ExecuteTime": {
     "end_time": "2019-03-27T09:00:40.460442Z",
     "start_time": "2019-03-27T09:00:40.457419Z"
    }
   },
   "source": [
    "### Аутентификация"
   ]
  },
  {
   "cell_type": "markdown",
   "metadata": {
    "ExecuteTime": {
     "end_time": "2019-03-27T09:34:57.219892Z",
     "start_time": "2019-03-27T09:34:57.213899Z"
    }
   },
   "source": [
    "> __Замечание__  \n",
    "Используем бинарное возведение в степень по модулю\n",
    "- Избегаем переполнение\n",
    "- Быстро возводим в степень"
   ]
  },
  {
   "cell_type": "markdown",
   "metadata": {
    "ExecuteTime": {
     "end_time": "2019-03-27T09:02:50.762688Z",
     "start_time": "2019-03-27T09:02:50.757471Z"
    }
   },
   "source": [
    " **Б** выбирает случайное число $k \\in \\{1, …, n-1\\}$, вычисляет $r = k^e$ mod $n$ и посылает $r$ __A__."
   ]
  },
  {
   "cell_type": "markdown",
   "metadata": {
    "ExecuteTime": {
     "end_time": "2019-03-27T09:39:02.531329Z",
     "start_time": "2019-03-27T09:39:02.525228Z"
    }
   },
   "source": [
    "Выбираем $k$ как сумму позиций первых трех букв в алфавите по модулю $n - 1$ и смещением в $1$"
   ]
  },
  {
   "cell_type": "code",
   "execution_count": 15,
   "metadata": {
    "ExecuteTime": {
     "end_time": "2019-03-27T09:42:50.797442Z",
     "start_time": "2019-03-27T09:42:50.790517Z"
    }
   },
   "outputs": [],
   "source": [
    "k =  sum(map(lambda x: ord(x) - ord('a'), LAST_NAME[:3])) % (n - 1) + 1\n",
    "r = power_with_modulo(k, e, n)\n",
    "md = f'$k = {k}, r = {r}$'"
   ]
  },
  {
   "cell_type": "markdown",
   "metadata": {
    "ExecuteTime": {
     "end_time": "2019-03-27T09:13:52.218698Z",
     "start_time": "2019-03-27T09:13:52.211285Z"
    },
    "variables": {
     "md": "$k = 22, r = 99$"
    }
   },
   "source": [
    "{{md}}"
   ]
  },
  {
   "cell_type": "markdown",
   "metadata": {
    "ExecuteTime": {
     "end_time": "2019-03-27T09:18:26.017655Z",
     "start_time": "2019-03-27T09:18:26.012446Z"
    }
   },
   "source": [
    "**А** вычисляет $k’ = r^d$ mod $n$ и посылает $k’$ __Б__."
   ]
  },
  {
   "cell_type": "code",
   "execution_count": 16,
   "metadata": {
    "ExecuteTime": {
     "end_time": "2019-03-27T09:42:50.856129Z",
     "start_time": "2019-03-27T09:42:50.851621Z"
    }
   },
   "outputs": [],
   "source": [
    "k_ = power_with_modulo(r, d, n)\n",
    "md = f\"$k' = {k_}$\""
   ]
  },
  {
   "cell_type": "markdown",
   "metadata": {
    "ExecuteTime": {
     "end_time": "2019-03-27T09:19:47.836191Z",
     "start_time": "2019-03-27T09:19:47.826921Z"
    },
    "variables": {
     " md ": "&quot;$k&#39; = 22$&quot;"
    }
   },
   "source": [
    "{{ md }}"
   ]
  },
  {
   "cell_type": "markdown",
   "metadata": {
    "ExecuteTime": {
     "end_time": "2019-03-27T09:22:27.871054Z",
     "start_time": "2019-03-27T09:22:27.865027Z"
    }
   },
   "source": [
    "**Б** проверяет соотношение $k = k’$ и, если оно истинно, принимает доказательство, в противном случае - отвергает."
   ]
  },
  {
   "cell_type": "code",
   "execution_count": 17,
   "metadata": {
    "ExecuteTime": {
     "end_time": "2019-03-27T09:42:50.908553Z",
     "start_time": "2019-03-27T09:42:50.904717Z"
    }
   },
   "outputs": [],
   "source": [
    "approved = k == k_\n",
    "md = f'{\"Подтверждено\" if approved else \"Не подтверждено\"}'"
   ]
  },
  {
   "cell_type": "markdown",
   "metadata": {
    "variables": {
     "md": "Подтверждено"
    }
   },
   "source": [
    "{{md}}"
   ]
  },
  {
   "cell_type": "code",
   "execution_count": null,
   "metadata": {},
   "outputs": [],
   "source": []
  },
  {
   "cell_type": "code",
   "execution_count": null,
   "metadata": {},
   "outputs": [],
   "source": []
  },
  {
   "cell_type": "code",
   "execution_count": null,
   "metadata": {},
   "outputs": [],
   "source": []
  },
  {
   "cell_type": "code",
   "execution_count": null,
   "metadata": {},
   "outputs": [],
   "source": []
  },
  {
   "cell_type": "code",
   "execution_count": null,
   "metadata": {},
   "outputs": [],
   "source": []
  },
  {
   "cell_type": "code",
   "execution_count": null,
   "metadata": {},
   "outputs": [],
   "source": []
  },
  {
   "cell_type": "code",
   "execution_count": null,
   "metadata": {},
   "outputs": [],
   "source": []
  }
 ],
 "metadata": {
  "kernelspec": {
   "display_name": "Python 3",
   "language": "python",
   "name": "python3"
  },
  "language_info": {
   "codemirror_mode": {
    "name": "ipython",
    "version": 3
   },
   "file_extension": ".py",
   "mimetype": "text/x-python",
   "name": "python",
   "nbconvert_exporter": "python",
   "pygments_lexer": "ipython3",
   "version": "3.6.5"
  }
 },
 "nbformat": 4,
 "nbformat_minor": 2
}
