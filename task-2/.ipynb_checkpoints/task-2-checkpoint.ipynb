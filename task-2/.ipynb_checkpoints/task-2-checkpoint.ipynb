{
 "cells": [
  {
   "cell_type": "markdown",
   "metadata": {
    "ExecuteTime": {
     "end_time": "2019-03-27T07:45:55.701630Z",
     "start_time": "2019-03-27T07:45:55.692832Z"
    }
   },
   "source": [
    "# Практическая работа №2 «Идентификация и аутентификация (RSA, схемы Шнорра и Фейге-Фиата-Шамира)»\n",
    "В практической работе необходимо привести последовательность выполнения процедур идентификации/аутентификации с использованием следующих способов:\n",
    "- на основе алгоритма RSA;\n",
    "- по схеме Шнорра;\n",
    "- по схеме Фейге-Фиата-Шамира.  \n",
    "\n",
    "При оформлении отчета необходимо привести таблицы генерации ключей и аутентификации. В качестве случайного числа (k или r) принять коды, соответственно, 1-ой, 2-ой и 3-ей буквы своей фамилии согласно их положению в алфавите. Отчет прикрепляется в edu.susu.ru\n"
   ]
  },
  {
   "cell_type": "code",
   "execution_count": 92,
   "metadata": {
    "ExecuteTime": {
     "end_time": "2019-03-27T09:09:32.829201Z",
     "start_time": "2019-03-27T09:09:32.826141Z"
    }
   },
   "outputs": [],
   "source": [
    "import numpy as np\n",
    "import json"
   ]
  },
  {
   "cell_type": "code",
   "execution_count": 2,
   "metadata": {
    "ExecuteTime": {
     "end_time": "2019-03-27T08:12:08.007838Z",
     "start_time": "2019-03-27T08:12:08.002779Z"
    }
   },
   "outputs": [],
   "source": [
    "def generate_primes(max_prime):  \n",
    "    primes = []\n",
    "    for possible_prime in range(2, max_prime + 1):\n",
    "        is_prime = True\n",
    "        for num in range(2, int(possible_prime ** 0.5) + 1):\n",
    "            if possible_prime % num == 0:\n",
    "                is_prime = False\n",
    "                break\n",
    "        if is_prime:\n",
    "            primes.append(possible_prime)\n",
    "    return(primes)"
   ]
  },
  {
   "cell_type": "code",
   "execution_count": 57,
   "metadata": {
    "ExecuteTime": {
     "end_time": "2019-03-27T08:50:46.924073Z",
     "start_time": "2019-03-27T08:50:46.918548Z"
    }
   },
   "outputs": [],
   "source": [
    "def gcd_ext(a, b):\n",
    "    \"\"\"\n",
    "    Find a*x+b*y = gcd(a, b)\n",
    "    \"\"\"\n",
    "    if a == 0:\n",
    "        return b, 0, 1\n",
    "    d, x, y = gcd_ext(b % a, a)\n",
    "    return d, y - (b // a) * x, x"
   ]
  },
  {
   "cell_type": "code",
   "execution_count": 58,
   "metadata": {
    "ExecuteTime": {
     "end_time": "2019-03-27T08:50:47.294758Z",
     "start_time": "2019-03-27T08:50:47.289925Z"
    }
   },
   "outputs": [],
   "source": [
    "def rev_element_by_modulo(num, mod):\n",
    "    g, x, y = gcd_ext(num, mod)\n",
    "    if g != 1:\n",
    "        return None\n",
    "    return (x % mod + mod) % mod"
   ]
  },
  {
   "cell_type": "code",
   "execution_count": 178,
   "metadata": {
    "ExecuteTime": {
     "end_time": "2019-03-27T09:33:46.016428Z",
     "start_time": "2019-03-27T09:33:46.010676Z"
    }
   },
   "outputs": [],
   "source": [
    "def power_with_modulo(a, n, m):\n",
    "    res = 1\n",
    "    while n > 0:\n",
    "        if (n & 1) == 1:\n",
    "            res = (res * a) % m\n",
    "        a = (a * a) % m\n",
    "        n >>= 1\n",
    "    return res"
   ]
  },
  {
   "cell_type": "code",
   "execution_count": 94,
   "metadata": {
    "ExecuteTime": {
     "end_time": "2019-03-27T09:10:12.959189Z",
     "start_time": "2019-03-27T09:10:12.953006Z"
    }
   },
   "outputs": [],
   "source": [
    "with open('instance/settings.json') as f:\n",
    "    settings = json.load(f)\n",
    "    LAST_NAME = settings['last_name']"
   ]
  },
  {
   "cell_type": "code",
   "execution_count": 35,
   "metadata": {
    "ExecuteTime": {
     "end_time": "2019-03-27T08:31:26.393471Z",
     "start_time": "2019-03-27T08:31:26.388544Z"
    }
   },
   "outputs": [],
   "source": [
    "random = np.random.RandomState(seed=42)\n",
    "primes = generate_primes(30)"
   ]
  },
  {
   "cell_type": "markdown",
   "metadata": {},
   "source": [
    "## Алгоритм RSA"
   ]
  },
  {
   "cell_type": "markdown",
   "metadata": {},
   "source": [
    "### Генерация ключей"
   ]
  },
  {
   "cell_type": "markdown",
   "metadata": {
    "ExecuteTime": {
     "end_time": "2019-03-27T09:41:44.772329Z",
     "start_time": "2019-03-27T09:41:44.761444Z"
    }
   },
   "source": [
    "**A** генерирует ключи"
   ]
  },
  {
   "cell_type": "markdown",
   "metadata": {},
   "source": [
    "Выбирается простые $p$ и $q$"
   ]
  },
  {
   "cell_type": "code",
   "execution_count": 158,
   "metadata": {
    "ExecuteTime": {
     "end_time": "2019-03-27T09:28:27.241558Z",
     "start_time": "2019-03-27T09:28:27.237656Z"
    }
   },
   "outputs": [],
   "source": [
    "p, q = random.choice(primes, 2)\n",
    "md = f'$p = {p}, q = {q}$'"
   ]
  },
  {
   "cell_type": "markdown",
   "metadata": {},
   "source": [
    "{{md}}"
   ]
  },
  {
   "cell_type": "markdown",
   "metadata": {},
   "source": [
    "Вычисляется произведение $n = p * q$"
   ]
  },
  {
   "cell_type": "code",
   "execution_count": 159,
   "metadata": {
    "ExecuteTime": {
     "end_time": "2019-03-27T09:28:28.618776Z",
     "start_time": "2019-03-27T09:28:28.615478Z"
    }
   },
   "outputs": [],
   "source": [
    "n = p * q\n",
    "md = f'$n = {n}$'"
   ]
  },
  {
   "cell_type": "markdown",
   "metadata": {},
   "source": [
    "{{md}}"
   ]
  },
  {
   "cell_type": "markdown",
   "metadata": {
    "ExecuteTime": {
     "end_time": "2019-03-27T08:24:13.982067Z",
     "start_time": "2019-03-27T08:24:13.977024Z"
    }
   },
   "source": [
    "Вычисляется функция Эйлера $\\phi(n)$"
   ]
  },
  {
   "cell_type": "code",
   "execution_count": 160,
   "metadata": {
    "ExecuteTime": {
     "end_time": "2019-03-27T09:28:30.732567Z",
     "start_time": "2019-03-27T09:28:30.728438Z"
    }
   },
   "outputs": [],
   "source": [
    "phi_n = (p - 1) * (q - 1)\n",
    "md = f'$\\phi(n) = \\phi(p)*\\phi(q) = (p - 1) * (q - 1) = {phi_n}$'"
   ]
  },
  {
   "cell_type": "markdown",
   "metadata": {},
   "source": [
    "{{md}}"
   ]
  },
  {
   "cell_type": "markdown",
   "metadata": {
    "ExecuteTime": {
     "end_time": "2019-03-27T08:24:49.610655Z",
     "start_time": "2019-03-27T08:24:49.605345Z"
    }
   },
   "source": [
    "Выбирается открытый ключ $e$, как произвольное число $(0 < e < n)$, взаимно простое с результатом функции Эйлера $(e ⊥ \\phi(n))$."
   ]
  },
  {
   "cell_type": "code",
   "execution_count": 161,
   "metadata": {
    "ExecuteTime": {
     "end_time": "2019-03-27T09:28:31.836380Z",
     "start_time": "2019-03-27T09:28:31.832262Z"
    },
    "variables": {
     "a": "$36$"
    }
   },
   "outputs": [],
   "source": [
    "numbers = np.arange(1, n)\n",
    "random.shuffle(numbers)\n",
    "e = next(num for num in numbers if np.gcd(num, phi_n) == 1)\n",
    "md = f'$e = {e}$'"
   ]
  },
  {
   "cell_type": "markdown",
   "metadata": {
    "variables": {
     "md": "$e = 31$"
    }
   },
   "source": [
    "{{md}}"
   ]
  },
  {
   "cell_type": "markdown",
   "metadata": {
    "ExecuteTime": {
     "end_time": "2019-03-27T08:32:24.308913Z",
     "start_time": "2019-03-27T08:32:24.303308Z"
    }
   },
   "source": [
    "Вычисляется закрытый ключ $d$, как обратное число к $e$ по модулю $\\phi(n)$, из соотношения $(d*e)$ mod $\\phi(n) = 1$."
   ]
  },
  {
   "cell_type": "code",
   "execution_count": 162,
   "metadata": {
    "ExecuteTime": {
     "end_time": "2019-03-27T09:28:33.019454Z",
     "start_time": "2019-03-27T09:28:33.016324Z"
    }
   },
   "outputs": [],
   "source": [
    "d = rev_element_by_modulo(e, phi_n)\n",
    "md = 'Обратного числа нет к $e$ по данному модулю нет' if d is None else f'$d = {d}$' "
   ]
  },
  {
   "cell_type": "markdown",
   "metadata": {
    "variables": {
     "md": "$d = 159$"
    }
   },
   "source": [
    "{{md}}"
   ]
  },
  {
   "cell_type": "markdown",
   "metadata": {
    "ExecuteTime": {
     "end_time": "2019-03-27T08:53:08.333842Z",
     "start_time": "2019-03-27T08:53:08.329052Z"
    }
   },
   "source": [
    "Публикуются открытый ключ $(e, n)$"
   ]
  },
  {
   "cell_type": "markdown",
   "metadata": {},
   "source": [
    "### Ключи"
   ]
  },
  {
   "cell_type": "code",
   "execution_count": 163,
   "metadata": {
    "ExecuteTime": {
     "end_time": "2019-03-27T09:28:35.186425Z",
     "start_time": "2019-03-27T09:28:35.182097Z"
    }
   },
   "outputs": [],
   "source": [
    "public_key = (e, n)\n",
    "private_key = d"
   ]
  },
  {
   "cell_type": "code",
   "execution_count": 164,
   "metadata": {
    "ExecuteTime": {
     "end_time": "2019-03-27T09:28:36.531698Z",
     "start_time": "2019-03-27T09:28:36.528995Z"
    }
   },
   "outputs": [],
   "source": [
    "md0 = f'**public key:** $(e, n) = {public_key}$'\n",
    "md1 = f'**private key:** $d = {private_key}$'"
   ]
  },
  {
   "cell_type": "markdown",
   "metadata": {
    "variables": {
     "md0": "<strong>public key:</strong> $(e, n) = (31, 391)$",
     "md1": "<strong>private key:</strong> $d = 159$"
    }
   },
   "source": [
    "{{md0}}  \n",
    "{{md1}} "
   ]
  },
  {
   "cell_type": "markdown",
   "metadata": {
    "ExecuteTime": {
     "end_time": "2019-03-27T09:00:40.460442Z",
     "start_time": "2019-03-27T09:00:40.457419Z"
    }
   },
   "source": [
    "### Аутентификация"
   ]
  },
  {
   "cell_type": "markdown",
   "metadata": {
    "ExecuteTime": {
     "end_time": "2019-03-27T09:34:57.219892Z",
     "start_time": "2019-03-27T09:34:57.213899Z"
    }
   },
   "source": [
    "> __Замечание__  \n",
    "Используем бинарное возведение в степень по модулю\n",
    "- Избегаем переполнение\n",
    "- Быстро возводим в степень"
   ]
  },
  {
   "cell_type": "markdown",
   "metadata": {
    "ExecuteTime": {
     "end_time": "2019-03-27T09:02:50.762688Z",
     "start_time": "2019-03-27T09:02:50.757471Z"
    }
   },
   "source": [
    " **Б** выбирает случайное число $k ∈ \\{1, …, n-1\\}$, вычисляет $r = k^e$ mod $n$ и посылает $r$ __A__."
   ]
  },
  {
   "cell_type": "markdown",
   "metadata": {
    "ExecuteTime": {
     "end_time": "2019-03-27T09:39:02.531329Z",
     "start_time": "2019-03-27T09:39:02.525228Z"
    }
   },
   "source": [
    "Выбираем $k$ как сумму позиций первых трех букв в алфавите по модулю $n - 1$ и смещением в $1$"
   ]
  },
  {
   "cell_type": "code",
   "execution_count": 193,
   "metadata": {
    "ExecuteTime": {
     "end_time": "2019-03-27T09:41:15.828642Z",
     "start_time": "2019-03-27T09:41:15.823591Z"
    }
   },
   "outputs": [],
   "source": [
    "k =  sum(map(lambda x: ord(x) - ord('a'), LAST_NAME[:3])) % (n - 1) + 1\n",
    "r = power_with_modulo(k, e, n)\n",
    "md = f'$k = {k}, r = {r}$'"
   ]
  },
  {
   "cell_type": "markdown",
   "metadata": {
    "ExecuteTime": {
     "end_time": "2019-03-27T09:13:52.218698Z",
     "start_time": "2019-03-27T09:13:52.211285Z"
    },
    "variables": {
     "md": "$k = 22, r = 160$"
    }
   },
   "source": [
    "{{md}}"
   ]
  },
  {
   "cell_type": "markdown",
   "metadata": {
    "ExecuteTime": {
     "end_time": "2019-03-27T09:18:26.017655Z",
     "start_time": "2019-03-27T09:18:26.012446Z"
    }
   },
   "source": [
    "**А** вычисляет $k’ = r^d$ mod $n$ и посылает $k’$ __Б__."
   ]
  },
  {
   "cell_type": "code",
   "execution_count": 194,
   "metadata": {
    "ExecuteTime": {
     "end_time": "2019-03-27T09:41:18.421800Z",
     "start_time": "2019-03-27T09:41:18.418598Z"
    }
   },
   "outputs": [],
   "source": [
    "k_ = power_with_modulo(r, d, n)\n",
    "md = f\"$k' = {k_}$\""
   ]
  },
  {
   "cell_type": "markdown",
   "metadata": {
    "ExecuteTime": {
     "end_time": "2019-03-27T09:19:47.836191Z",
     "start_time": "2019-03-27T09:19:47.826921Z"
    },
    "variables": {
     " md ": "&quot;$k&#39; = 22$&quot;"
    }
   },
   "source": [
    "{{ md }}"
   ]
  },
  {
   "cell_type": "markdown",
   "metadata": {
    "ExecuteTime": {
     "end_time": "2019-03-27T09:22:27.871054Z",
     "start_time": "2019-03-27T09:22:27.865027Z"
    }
   },
   "source": [
    "**Б** проверяет соотношение $k = k’$ и, если оно истинно, принимает доказательство, в противном случае - отвергает."
   ]
  },
  {
   "cell_type": "code",
   "execution_count": 195,
   "metadata": {
    "ExecuteTime": {
     "end_time": "2019-03-27T09:41:20.106519Z",
     "start_time": "2019-03-27T09:41:20.101973Z"
    }
   },
   "outputs": [],
   "source": [
    "approved = k == k_\n",
    "md = f'{\"Подтверждено\" if approved else \"Не подтверждено\"}'"
   ]
  },
  {
   "cell_type": "markdown",
   "metadata": {
    "variables": {
     "md": "Подтверждено"
    }
   },
   "source": [
    "{{md}}"
   ]
  },
  {
   "cell_type": "code",
   "execution_count": null,
   "metadata": {},
   "outputs": [],
   "source": []
  },
  {
   "cell_type": "code",
   "execution_count": null,
   "metadata": {},
   "outputs": [],
   "source": []
  },
  {
   "cell_type": "code",
   "execution_count": null,
   "metadata": {},
   "outputs": [],
   "source": []
  },
  {
   "cell_type": "code",
   "execution_count": null,
   "metadata": {},
   "outputs": [],
   "source": []
  },
  {
   "cell_type": "code",
   "execution_count": null,
   "metadata": {},
   "outputs": [],
   "source": []
  },
  {
   "cell_type": "code",
   "execution_count": null,
   "metadata": {},
   "outputs": [],
   "source": []
  },
  {
   "cell_type": "code",
   "execution_count": null,
   "metadata": {},
   "outputs": [],
   "source": []
  }
 ],
 "metadata": {
  "kernelspec": {
   "display_name": "Python 3",
   "language": "python",
   "name": "python3"
  },
  "language_info": {
   "codemirror_mode": {
    "name": "ipython",
    "version": 3
   },
   "file_extension": ".py",
   "mimetype": "text/x-python",
   "name": "python",
   "nbconvert_exporter": "python",
   "pygments_lexer": "ipython3",
   "version": "3.6.5"
  }
 },
 "nbformat": 4,
 "nbformat_minor": 2
}
