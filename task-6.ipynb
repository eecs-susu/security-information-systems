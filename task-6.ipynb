{
 "cells": [
  {
   "cell_type": "markdown",
   "metadata": {},
   "source": [
    "# Практическая работа № 6\n",
    "\n",
    "Вернуться в раздел Практические за...\n",
    "Необходимо написать программу, которая будет расшифровывать введенное сообщение, зашифрованное одним из 2х шифров (Цезаря, Виженера), каким именно, указывать не разрешается.\n",
    "\n",
    "Программа должна вывести на экран каким шифром зашифровано и расшифрованное сообщение.\n",
    "\n",
    "Здесь идет работа со словарями, а именно: у Вас есть словарь на 100 слов (набираете самостоятельно из любых слов), по нему будет идти поиск.\n",
    "\n",
    "Как именно будет идти поиск - на Ваше усмотрение.\n",
    "\n",
    "Пример входных данных: dfgg ergergerg sdsvsvwevw (слов может быть любое количество).\n",
    "\n",
    "Символы обрабатываются как данность, есть пробел или запятая, она так и остается.\n",
    "\n",
    "Сдвиг у Цезаря неизвестен. Ключевое слово у Виженера пусть будет одно из созданного Вами словаря для простоты перебора."
   ]
  },
  {
   "cell_type": "code",
   "execution_count": null,
   "metadata": {
    "ExecuteTime": {
     "end_time": "2019-03-28T07:25:00.994437Z",
     "start_time": "2019-03-28T07:25:00.347283Z"
    }
   },
   "outputs": [],
   "source": [
    "import json\n",
    "\n",
    "import numpy as np\n",
    "import pandas as pd"
   ]
  },
  {
   "cell_type": "code",
   "execution_count": null,
   "metadata": {
    "ExecuteTime": {
     "end_time": "2019-03-28T07:38:53.987203Z",
     "start_time": "2019-03-28T07:38:53.793135Z"
    }
   },
   "outputs": [],
   "source": [
    "with open('words.txt', 'r') as f:\n",
    "    words = list(map(lambda x: x.split()[0], f.readlines()))"
   ]
  },
  {
   "cell_type": "code",
   "execution_count": null,
   "metadata": {
    "ExecuteTime": {
     "end_time": "2019-03-28T08:16:13.794017Z",
     "start_time": "2019-03-28T08:16:13.721433Z"
    },
    "scrolled": true
   },
   "outputs": [],
   "source": [
    "np.random.seed(42)\n",
    "dictionary = set(np.random.choice(words, 100))\n",
    "dictionary"
   ]
  },
  {
   "cell_type": "code",
   "execution_count": null,
   "metadata": {
    "ExecuteTime": {
     "end_time": "2019-03-28T08:16:33.568629Z",
     "start_time": "2019-03-28T08:16:33.562278Z"
    }
   },
   "outputs": [],
   "source": [
    "def caesar_cipher(text, shift, check_dictionary=True):\n",
    "    words = list(map(list, text.split(' ')))\n",
    "    for i, word in enumerate(words):\n",
    "        if check_dictionary:\n",
    "            assert \"\".join(word) in dictionary, f'Word \\'{\"\".join(word)}\\' not in dictionary'\n",
    "        for j, c in enumerate(word):\n",
    "            words[i][j] = chr(((ord(c) - ord('a') + shift) % 26) + ord('a'))\n",
    "        words[i] = ''.join(words[i])\n",
    "    return ' '.join(words)"
   ]
  },
  {
   "cell_type": "code",
   "execution_count": null,
   "metadata": {
    "ExecuteTime": {
     "end_time": "2019-03-28T08:16:33.716621Z",
     "start_time": "2019-03-28T08:16:33.709428Z"
    }
   },
   "outputs": [],
   "source": [
    "def vigenere_cipher(text, phrase, check_dictionary=True):\n",
    "    words = list(map(list, text.split(' ')))\n",
    "    if check_dictionary:\n",
    "        assert phrase in dictionary, f'Phrase \\'{phrase}\\' not in dictionary'\n",
    "    for i, word in enumerate(words):\n",
    "        if check_dictionary:\n",
    "            assert \"\".join(word) in dictionary, f'Word \\'{\"\".join(word)}\\' not in dictionary'\n",
    "        for j, c in enumerate(word):\n",
    "            shift_symbol = phrase[j % len(phrase)]\n",
    "            shift = ord(shift_symbol) - ord('a')\n",
    "            words[i][j] = chr(((ord(c) - ord('a') + shift) % 26) + ord('a'))\n",
    "        words[i] = ''.join(words[i])\n",
    "    return ' '.join(words)"
   ]
  },
  {
   "cell_type": "code",
   "execution_count": null,
   "metadata": {
    "ExecuteTime": {
     "end_time": "2019-03-28T08:32:48.183222Z",
     "start_time": "2019-03-28T08:32:48.177880Z"
    }
   },
   "outputs": [],
   "source": [
    "def try_caesar(word):\n",
    "    for shift in range(26):\n",
    "        test_word = list(word)\n",
    "        for i, c in enumerate(test_word):\n",
    "            test_word[i] = chr(((ord(c) - ord('a') - shift + 26) % 26) + ord('a'))\n",
    "        if ''.join(test_word) in dictionary:\n",
    "            return shift\n",
    "    return None"
   ]
  },
  {
   "cell_type": "code",
   "execution_count": null,
   "metadata": {
    "ExecuteTime": {
     "end_time": "2019-03-28T08:32:48.360109Z",
     "start_time": "2019-03-28T08:32:48.353682Z"
    }
   },
   "outputs": [],
   "source": [
    "def try_vigenere(word):\n",
    "    for secret in dictionary:\n",
    "        test_word = list(word)\n",
    "        for i, c in enumerate(test_word):\n",
    "            shift_symbol = secret[i % len(secret)]\n",
    "            shift =  ord(shift_symbol) - ord('a')\n",
    "            test_word[i] = chr(((ord(c) - ord('a') - shift + 10*26) % 26) + ord('a'))\n",
    "        if ''.join(test_word) in dictionary:\n",
    "            return secret\n",
    "    return None"
   ]
  },
  {
   "cell_type": "code",
   "execution_count": null,
   "metadata": {
    "ExecuteTime": {
     "end_time": "2019-03-28T08:32:48.503825Z",
     "start_time": "2019-03-28T08:32:48.496680Z"
    }
   },
   "outputs": [],
   "source": [
    "def decrypt(text):\n",
    "    words = text.split(' ')\n",
    "    longest_word = sorted(words, key=lambda x: len(x), reverse=True)[0]\n",
    "    shift = try_caesar(longest_word)\n",
    "    if shift is not None:\n",
    "        decrypted = caesar_cipher(text, 26 - shift, False)\n",
    "        print(f'Caesar cipher with shift {shift}')\n",
    "        print(f\"Decrypted: '{decrypted}'\")\n",
    "        return\n",
    "    secret = try_vigenere(longest_word)\n",
    "    if secret is not None:\n",
    "        key = ''.join(map(lambda c: chr(2 * ord('a') - ord(c)), secret))\n",
    "        decrypted = vigenere_cipher(text, key, False)\n",
    "        print(f'Vigenere cipher with phrase {secret}')\n",
    "        print(f\"Decrypted: '{decrypted}'\")\n",
    "        return\n",
    "    raise ValueError(f\"Unable to decrypt '{text}'\")"
   ]
  },
  {
   "cell_type": "code",
   "execution_count": null,
   "metadata": {
    "ExecuteTime": {
     "end_time": "2019-03-28T08:16:33.848780Z",
     "start_time": "2019-03-28T08:16:33.845897Z"
    }
   },
   "outputs": [],
   "source": [
    "source = 'delieret painstakingly auction'\n",
    "shift = 3\n",
    "key = 'ploying'"
   ]
  },
  {
   "cell_type": "code",
   "execution_count": null,
   "metadata": {
    "ExecuteTime": {
     "end_time": "2019-03-28T08:16:39.534487Z",
     "start_time": "2019-03-28T08:16:39.530851Z"
    }
   },
   "outputs": [],
   "source": [
    "secret = caesar_cipher(source, shift)\n",
    "secret = vigenere_cipher(source, key)"
   ]
  },
  {
   "cell_type": "code",
   "execution_count": null,
   "metadata": {
    "ExecuteTime": {
     "end_time": "2019-03-28T08:30:09.682156Z",
     "start_time": "2019-03-28T08:30:09.677050Z"
    }
   },
   "outputs": [],
   "source": [
    "secret"
   ]
  },
  {
   "cell_type": "code",
   "execution_count": null,
   "metadata": {
    "ExecuteTime": {
     "end_time": "2019-03-28T08:32:48.642732Z",
     "start_time": "2019-03-28T08:32:48.637876Z"
    }
   },
   "outputs": [],
   "source": [
    "decrypt(secret)"
   ]
  }
 ],
 "metadata": {
  "kernelspec": {
   "display_name": "Python 3",
   "language": "python",
   "name": "python3"
  },
  "language_info": {
   "codemirror_mode": {
    "name": "ipython",
    "version": 3
   },
   "file_extension": ".py",
   "mimetype": "text/x-python",
   "name": "python",
   "nbconvert_exporter": "python",
   "pygments_lexer": "ipython3",
   "version": "3.6.5"
  }
 },
 "nbformat": 4,
 "nbformat_minor": 2
}
