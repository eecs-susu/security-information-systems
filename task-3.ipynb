{
 "cells": [
  {
   "cell_type": "markdown",
   "metadata": {},
   "source": [
    "# Практическая работа №3 «Электронная подпись (RSA, ГОСТы 34.10-94 и 34.10-2001)»\n",
    "\n",
    "В практической работе необходимо привести последовательность выполнения процедур генерации и проверки ЭП с использованием следующих способов:\n",
    "- на базе алгоритма RSA;\n",
    "- по ГОСТ 34.10-94;\n",
    "- по ГОСТ 34.10-2001.\n",
    "\n",
    "При оформлении отчета необходимо привести таблицы генерации ключей, отправки сообщения с ЭП и получения сообщения с ЭП. В качестве хеш-образа исходного сообщения h(T) принять коды, соответственно, 1-ой, 2-ой и 3-ей буквы своей фамилии согласно их положению в алфавите. Отчет прикрепляется в edu.susu.ru"
   ]
  },
  {
   "cell_type": "code",
   "execution_count": 6,
   "metadata": {
    "ExecuteTime": {
     "end_time": "2019-03-27T12:14:37.764560Z",
     "start_time": "2019-03-27T12:14:37.652720Z"
    }
   },
   "outputs": [],
   "source": [
    "import json\n",
    "\n",
    "import numpy as np"
   ]
  },
  {
   "cell_type": "code",
   "execution_count": 15,
   "metadata": {
    "ExecuteTime": {
     "end_time": "2019-03-27T12:18:55.663860Z",
     "start_time": "2019-03-27T12:18:55.658678Z"
    }
   },
   "outputs": [],
   "source": [
    "def power_with_modulo(a, n, m):\n",
    "    res = 1\n",
    "    while n > 0:\n",
    "        if (n & 1) == 1:\n",
    "            res = (res * a) % m\n",
    "        a = (a * a) % m\n",
    "        n >>= 1\n",
    "    return res"
   ]
  },
  {
   "cell_type": "code",
   "execution_count": 7,
   "metadata": {
    "ExecuteTime": {
     "end_time": "2019-03-27T12:14:41.613105Z",
     "start_time": "2019-03-27T12:14:41.603444Z"
    }
   },
   "outputs": [],
   "source": [
    "with open('instance/settings.json') as f:\n",
    "    settings = json.load(f)\n",
    "    LAST_NAME = settings['last_name']"
   ]
  },
  {
   "cell_type": "markdown",
   "metadata": {},
   "source": [
    "## Протокол на базе алгоритма RSA"
   ]
  },
  {
   "cell_type": "markdown",
   "metadata": {
    "heading_collapsed": true
   },
   "source": [
    "### Этап 1. Выработка ключей \n",
    "Выполняет отправитель __А__"
   ]
  },
  {
   "cell_type": "code",
   "execution_count": 4,
   "metadata": {
    "ExecuteTime": {
     "end_time": "2019-03-27T12:11:54.020270Z",
     "start_time": "2019-03-27T12:11:54.016919Z"
    },
    "hidden": true
   },
   "outputs": [],
   "source": [
    "e, n = 139, 209\n",
    "d = 79 "
   ]
  },
  {
   "cell_type": "markdown",
   "metadata": {
    "ExecuteTime": {
     "end_time": "2019-03-27T12:12:42.356648Z",
     "start_time": "2019-03-27T12:12:42.350259Z"
    },
    "heading_collapsed": true
   },
   "source": [
    "### Этап 2. Отправка сообщения и электронной подписи\n",
    "Выполняет отправитель __А__"
   ]
  },
  {
   "cell_type": "markdown",
   "metadata": {
    "hidden": true
   },
   "source": [
    "Вычисление хеш-образа $h = h(T)$, где $T$ – исходное сообщение, $h(T)$ – хеш-функция (для MD5 длина хеш-образа 128 бит)."
   ]
  },
  {
   "cell_type": "code",
   "execution_count": 20,
   "metadata": {
    "ExecuteTime": {
     "end_time": "2019-03-27T12:21:06.090338Z",
     "start_time": "2019-03-27T12:21:06.085706Z"
    },
    "hidden": true
   },
   "outputs": [],
   "source": [
    "h = int(''.join(map(lambda x: str(ord(x) - ord('a') + 1), LAST_NAME[:3])))\n",
    "md = f'$h = {h}$'"
   ]
  },
  {
   "cell_type": "markdown",
   "metadata": {
    "hidden": true,
    "variables": {
     "md": "$h = 11211$"
    }
   },
   "source": [
    "{{md}}"
   ]
  },
  {
   "cell_type": "markdown",
   "metadata": {
    "hidden": true
   },
   "source": [
    "Выработка цифровой подписи $s = h^d$ mod $n$, где $d$ – закрытый ключ отправителя **A**, $n$ – часть открытого ключа отправителя __A__"
   ]
  },
  {
   "cell_type": "code",
   "execution_count": 21,
   "metadata": {
    "ExecuteTime": {
     "end_time": "2019-03-27T12:21:07.758525Z",
     "start_time": "2019-03-27T12:21:07.753511Z"
    },
    "hidden": true
   },
   "outputs": [],
   "source": [
    "s = power_with_modulo(h, d, n)\n",
    "md = f'$s = {s}$'"
   ]
  },
  {
   "cell_type": "markdown",
   "metadata": {
    "ExecuteTime": {
     "end_time": "2019-03-27T12:19:34.519928Z",
     "start_time": "2019-03-27T12:19:34.509973Z"
    },
    "hidden": true,
    "variables": {
     "md": "$s = 39$"
    }
   },
   "source": [
    "{{md}}"
   ]
  },
  {
   "cell_type": "markdown",
   "metadata": {
    "hidden": true
   },
   "source": [
    "Отправка получателю __B__ исходного сообщения $Т$ и цифровой подписи $s$."
   ]
  },
  {
   "cell_type": "markdown",
   "metadata": {
    "ExecuteTime": {
     "end_time": "2019-03-27T12:21:45.325580Z",
     "start_time": "2019-03-27T12:21:45.319707Z"
    }
   },
   "source": [
    "### Этап 3. Получение сообщения и проверка электронной подписи \n",
    "Выполняет получатель __B__"
   ]
  },
  {
   "cell_type": "markdown",
   "metadata": {},
   "source": [
    "Вычисление хэш-образа по полученному сообщению $h^\\prime = h(T^\\prime)$, где $T^\\prime$ – полученное сообщение."
   ]
  },
  {
   "cell_type": "code",
   "execution_count": 25,
   "metadata": {
    "ExecuteTime": {
     "end_time": "2019-03-27T12:23:42.193614Z",
     "start_time": "2019-03-27T12:23:42.190111Z"
    }
   },
   "outputs": [],
   "source": [
    "h_prime = h\n",
    "md = f'$h^\\prime = {h_prime}$'"
   ]
  },
  {
   "cell_type": "markdown",
   "metadata": {
    "variables": {
     "md": "$h^\\prime = 11211$"
    }
   },
   "source": [
    "{{md}}"
   ]
  },
  {
   "cell_type": "markdown",
   "metadata": {},
   "source": [
    "Вычисление хэш-образа из цифровой подписи  $h = s^e$ mod $n$, где $e$ и $n$ – открытый ключ отправителя __A__."
   ]
  },
  {
   "cell_type": "code",
   "execution_count": 29,
   "metadata": {
    "ExecuteTime": {
     "end_time": "2019-03-27T12:26:29.890744Z",
     "start_time": "2019-03-27T12:26:29.886946Z"
    }
   },
   "outputs": [],
   "source": [
    "h = power_with_modulo(s, e, n)\n",
    "md = f'$h = {h}$'"
   ]
  },
  {
   "cell_type": "markdown",
   "metadata": {
    "variables": {
     "md": "$h = 134$"
    }
   },
   "source": [
    "{{md}}"
   ]
  },
  {
   "cell_type": "code",
   "execution_count": 32,
   "metadata": {
    "ExecuteTime": {
     "end_time": "2019-03-27T12:28:43.425038Z",
     "start_time": "2019-03-27T12:28:43.421575Z"
    }
   },
   "outputs": [],
   "source": [
    "verified = h == (h_prime % n)"
   ]
  },
  {
   "cell_type": "markdown",
   "metadata": {
    "ExecuteTime": {
     "end_time": "2019-03-27T12:29:05.566483Z",
     "start_time": "2019-03-27T12:29:05.555121Z"
    },
    "variables": {
     "'Verified' if verified else 'Not verified'": "Not verified"
    }
   },
   "source": [
    "`{{'Verified' if verified else 'Not verified'}}`"
   ]
  },
  {
   "cell_type": "markdown",
   "metadata": {},
   "source": [
    "Т.к. $h^\\prime = h$, то получатель B делает вывод, что полученное сообщение $T^\\prime = T$ и оно действительно отправлено __А__."
   ]
  },
  {
   "cell_type": "markdown",
   "metadata": {
    "ExecuteTime": {
     "end_time": "2019-03-27T12:30:39.049075Z",
     "start_time": "2019-03-27T12:30:39.044796Z"
    }
   },
   "source": [
    "## Алгоритм цифровой подписи ГОСТ 34.10-94"
   ]
  },
  {
   "cell_type": "markdown",
   "metadata": {
    "ExecuteTime": {
     "end_time": "2019-03-27T12:32:20.632636Z",
     "start_time": "2019-03-27T12:32:20.627500Z"
    }
   },
   "source": [
    "### Этап 1. Выработка ключей\n",
    "Выполняет отправитель __А__"
   ]
  },
  {
   "cell_type": "markdown",
   "metadata": {
    "ExecuteTime": {
     "end_time": "2019-03-27T12:32:58.953181Z",
     "start_time": "2019-03-27T12:32:58.946870Z"
    }
   },
   "source": [
    "Выбор $р$ - простого числа ($509 < p < 512$ битов, либо $1020 < p < 1024$ битов)."
   ]
  },
  {
   "cell_type": "code",
   "execution_count": 38,
   "metadata": {
    "ExecuteTime": {
     "end_time": "2019-03-27T12:33:26.082803Z",
     "start_time": "2019-03-27T12:33:26.079320Z"
    }
   },
   "outputs": [],
   "source": [
    "p = 79"
   ]
  },
  {
   "cell_type": "markdown",
   "metadata": {},
   "source": [
    "Выбор $q$ - простого числа - множителя $(p - 1)$ ($254 < q < 256$ битов)."
   ]
  },
  {
   "cell_type": "code",
   "execution_count": 39,
   "metadata": {
    "ExecuteTime": {
     "end_time": "2019-03-27T12:35:13.606465Z",
     "start_time": "2019-03-27T12:35:13.603239Z"
    }
   },
   "outputs": [],
   "source": [
    "q = 13"
   ]
  },
  {
   "cell_type": "markdown",
   "metadata": {},
   "source": [
    "Выбор $а$ - любого числа, меньшего $(p - 1)$, для которого $a^q$ mod $p = 1$."
   ]
  },
  {
   "cell_type": "code",
   "execution_count": 40,
   "metadata": {
    "ExecuteTime": {
     "end_time": "2019-03-27T12:37:01.136413Z",
     "start_time": "2019-03-27T12:37:01.133016Z"
    }
   },
   "outputs": [],
   "source": [
    "a = 8"
   ]
  },
  {
   "cell_type": "markdown",
   "metadata": {},
   "source": [
    "Выбор закрытого ключа $x$ - числа, меньшего $q$."
   ]
  },
  {
   "cell_type": "code",
   "execution_count": 41,
   "metadata": {
    "ExecuteTime": {
     "end_time": "2019-03-27T12:37:27.160515Z",
     "start_time": "2019-03-27T12:37:27.156830Z"
    }
   },
   "outputs": [],
   "source": [
    "x = 4"
   ]
  },
  {
   "cell_type": "markdown",
   "metadata": {},
   "source": [
    "Вычисление открытого ключа $y = a^x$ mod $p$."
   ]
  },
  {
   "cell_type": "code",
   "execution_count": 48,
   "metadata": {
    "ExecuteTime": {
     "end_time": "2019-03-27T12:39:20.197586Z",
     "start_time": "2019-03-27T12:39:20.194411Z"
    }
   },
   "outputs": [],
   "source": [
    "y = power_with_modulo(a, x, p)\n",
    "md = f'$y = {y}$'"
   ]
  },
  {
   "cell_type": "markdown",
   "metadata": {
    "variables": {
     "md": "$y = 67$"
    }
   },
   "source": [
    "{{md}}"
   ]
  },
  {
   "cell_type": "markdown",
   "metadata": {},
   "source": [
    "Публикация ключей.  \n",
    "Первые три параметра $р$, $q$ и $a$ - открыты и могут совместно использоваться пользователями сети,\n",
    "$y$ – персональный открытый ключ для одного пользователя, $x$ – персональный закрытый ключ отправителя __А__."
   ]
  },
  {
   "cell_type": "markdown",
   "metadata": {},
   "source": [
    "### Этап 2. Отправка сообщения и электронной подписи\n",
    "Выполняет отправитель __А__"
   ]
  },
  {
   "cell_type": "markdown",
   "metadata": {},
   "source": [
    "Вычисление хеш-образа $h = h(T)$ (длина хеш-образа 256 бит)."
   ]
  },
  {
   "cell_type": "code",
   "execution_count": 50,
   "metadata": {
    "ExecuteTime": {
     "end_time": "2019-03-27T12:42:18.738146Z",
     "start_time": "2019-03-27T12:42:18.733604Z"
    }
   },
   "outputs": [],
   "source": [
    "h = int(''.join(map(lambda x: str(ord(x) - ord('a') + 1), LAST_NAME[:3])))\n",
    "md = f'$h = {h}$'"
   ]
  },
  {
   "cell_type": "markdown",
   "metadata": {
    "variables": {
     "md": "$h = 11211$"
    }
   },
   "source": [
    "{{md}}"
   ]
  },
  {
   "cell_type": "markdown",
   "metadata": {},
   "source": [
    "Выбор $k$ - любого числа, меньшего $q$."
   ]
  },
  {
   "cell_type": "code",
   "execution_count": 51,
   "metadata": {
    "ExecuteTime": {
     "end_time": "2019-03-27T12:42:50.045596Z",
     "start_time": "2019-03-27T12:42:50.040448Z"
    }
   },
   "outputs": [],
   "source": [
    "k = 11"
   ]
  },
  {
   "cell_type": "markdown",
   "metadata": {},
   "source": [
    "Вычисление двух значений:  \n",
    "$w = a^k$ mod $p$ и $w^\\prime = w$ mod $q$ (длина $w^\\prime$ 256 бит).  \n",
    "Если $w^\\prime = 0$, перейти к этапу 2 и выбрать другое значение числа k.  "
   ]
  },
  {
   "cell_type": "code",
   "execution_count": 53,
   "metadata": {
    "ExecuteTime": {
     "end_time": "2019-03-27T12:45:17.383078Z",
     "start_time": "2019-03-27T12:45:17.378224Z"
    }
   },
   "outputs": [],
   "source": [
    "w = power_with_modulo(a, k, p)\n",
    "w_prime = w % q\n",
    "md = f'$w = {w}, w^\\prime = {w_prime}$'"
   ]
  },
  {
   "cell_type": "markdown",
   "metadata": {
    "variables": {
     "md": "$w = 21, w^\\prime = 8$"
    }
   },
   "source": [
    "{{md}}"
   ]
  },
  {
   "cell_type": "markdown",
   "metadata": {},
   "source": [
    "Вычисление $s = (x*w^\\prime + k*h)$ mod $q$ (длина $s$ 256 бит).  \n",
    "Если $s = 0$, перейти к этапу 2 и выбрать другое значение числа $k$."
   ]
  },
  {
   "cell_type": "code",
   "execution_count": 55,
   "metadata": {
    "ExecuteTime": {
     "end_time": "2019-03-27T12:49:17.114632Z",
     "start_time": "2019-03-27T12:49:17.110343Z"
    }
   },
   "outputs": [],
   "source": [
    "s = (x * w_prime + k * h) % q\n",
    "md = f'$s = {s}$'"
   ]
  },
  {
   "cell_type": "markdown",
   "metadata": {
    "variables": {
     "md": "$s = 9$"
    }
   },
   "source": [
    "{{md}}"
   ]
  },
  {
   "cell_type": "markdown",
   "metadata": {
    "ExecuteTime": {
     "end_time": "2019-03-27T12:50:06.493253Z",
     "start_time": "2019-03-27T12:50:06.488071Z"
    }
   },
   "source": [
    "Отправка получателю __B__ исходного сообщения $Т$ и цифровой подписи $(w^\\prime, s)$."
   ]
  },
  {
   "cell_type": "markdown",
   "metadata": {
    "ExecuteTime": {
     "end_time": "2019-03-27T12:51:12.505795Z",
     "start_time": "2019-03-27T12:51:12.500883Z"
    }
   },
   "source": [
    "### Этап 3. Получение сообщения и проверка электронной подписи\n",
    "Выполняет получатель __B__"
   ]
  },
  {
   "cell_type": "markdown",
   "metadata": {},
   "source": [
    "Вычисление хеш-образа по полученному сообщению $h^\\prime = h(T^\\prime)$.  \n",
    "Если $T = T^\\prime$, то должно быть $h = h^\\prime$."
   ]
  },
  {
   "cell_type": "code",
   "execution_count": 59,
   "metadata": {
    "ExecuteTime": {
     "end_time": "2019-03-27T12:53:33.163736Z",
     "start_time": "2019-03-27T12:53:33.160233Z"
    }
   },
   "outputs": [],
   "source": [
    "h_prime = h\n",
    "md = f'$h^\\prime = {h_prime}$'"
   ]
  },
  {
   "cell_type": "markdown",
   "metadata": {
    "variables": {
     "md": "$h^\\prime = 11211$"
    }
   },
   "source": [
    "{{md}}"
   ]
  },
  {
   "cell_type": "markdown",
   "metadata": {},
   "source": [
    "Вычисление $v = h^{\\prime q-2}$ mod $q$."
   ]
  },
  {
   "cell_type": "code",
   "execution_count": 61,
   "metadata": {
    "ExecuteTime": {
     "end_time": "2019-03-27T12:56:10.698415Z",
     "start_time": "2019-03-27T12:56:10.694687Z"
    }
   },
   "outputs": [],
   "source": [
    "v = power_with_modulo(h_prime, q - 2, q)\n",
    "md = f'$v = {v}$'"
   ]
  },
  {
   "cell_type": "markdown",
   "metadata": {
    "variables": {
     "md": "$v = 8$"
    }
   },
   "source": [
    "{{md}}"
   ]
  },
  {
   "cell_type": "markdown",
   "metadata": {
    "ExecuteTime": {
     "end_time": "2019-03-27T12:57:19.807185Z",
     "start_time": "2019-03-27T12:57:19.801250Z"
    }
   },
   "source": [
    "Вычисление двух значений:   \n",
    "$z_1 = (s*v)$ mod $q$ и $z_2 = ((q – w^\\prime)* v)$ mod $q$."
   ]
  },
  {
   "cell_type": "code",
   "execution_count": 63,
   "metadata": {
    "ExecuteTime": {
     "end_time": "2019-03-27T12:58:28.987335Z",
     "start_time": "2019-03-27T12:58:28.983919Z"
    }
   },
   "outputs": [],
   "source": [
    "z_1 = (s * v) % q\n",
    "z_2 = ((q - w_prime) * v) % q\n",
    "md = f'$z_1 = {z_1}, z_2 = {z_2}$'"
   ]
  },
  {
   "cell_type": "markdown",
   "metadata": {
    "variables": {
     "md": "$z_1 = 7, z_2 = 1$"
    }
   },
   "source": [
    "{{md}}"
   ]
  },
  {
   "cell_type": "markdown",
   "metadata": {
    "ExecuteTime": {
     "end_time": "2019-03-27T12:59:28.934668Z",
     "start_time": "2019-03-27T12:59:28.928900Z"
    }
   },
   "source": [
    "Вычисление $u = ((a^{z_1} * y^{z_2})$ mod $p)$ mod $q$."
   ]
  },
  {
   "cell_type": "code",
   "execution_count": 66,
   "metadata": {
    "ExecuteTime": {
     "end_time": "2019-03-27T13:00:34.739458Z",
     "start_time": "2019-03-27T13:00:34.735041Z"
    }
   },
   "outputs": [],
   "source": [
    "u = ((power_with_modulo(a, z_1, p) * power_with_modulo(y, z_2, p)) % p) % q\n",
    "md = f'$u = {u}$'"
   ]
  },
  {
   "cell_type": "markdown",
   "metadata": {
    "variables": {
     "md": "$u = 8$"
    }
   },
   "source": [
    "{{md}}"
   ]
  },
  {
   "cell_type": "code",
   "execution_count": 67,
   "metadata": {
    "ExecuteTime": {
     "end_time": "2019-03-27T13:01:31.747757Z",
     "start_time": "2019-03-27T13:01:31.744475Z"
    }
   },
   "outputs": [],
   "source": [
    "verified = u == (w_prime % n)"
   ]
  },
  {
   "cell_type": "markdown",
   "metadata": {
    "ExecuteTime": {
     "end_time": "2019-03-27T13:01:42.016191Z",
     "start_time": "2019-03-27T13:01:42.011286Z"
    },
    "variables": {
     "'Verified' if verified else 'Not verified'": "Verified"
    }
   },
   "source": [
    "`{{'Verified' if verified else 'Not verified'}}`"
   ]
  },
  {
   "cell_type": "markdown",
   "metadata": {},
   "source": [
    "Т.к. $w^\\prime = u$, то получатель **B** делает вывод, что полученное сообщение $T^\\prime = T$ и оно действительно отправлено __А__."
   ]
  },
  {
   "cell_type": "markdown",
   "metadata": {
    "ExecuteTime": {
     "end_time": "2019-03-27T12:30:41.807331Z",
     "start_time": "2019-03-27T12:30:41.804195Z"
    }
   },
   "source": [
    "## Алгоритм цифровой подписи ГОСТ Р 34.10-2001"
   ]
  },
  {
   "cell_type": "code",
   "execution_count": 187,
   "metadata": {
    "ExecuteTime": {
     "end_time": "2019-03-27T14:28:50.114019Z",
     "start_time": "2019-03-27T14:28:50.101252Z"
    }
   },
   "outputs": [],
   "source": [
    "def inverse_mod(k, p):\n",
    "    \"\"\"Returns the inverse of k modulo p.\n",
    "    This function returns the only integer x such that (x * k) % p == 1.\n",
    "    k must be non-zero and p must be a prime.\n",
    "    \"\"\"\n",
    "    if k == 0:\n",
    "        raise ZeroDivisionError('division by zero')\n",
    "\n",
    "    if k < 0:\n",
    "        # k ** -1 = p - (-k) ** -1  (mod p)\n",
    "        return p - inverse_mod(-k, p)\n",
    "\n",
    "    # Extended Euclidean algorithm.\n",
    "    s, old_s = 0, 1\n",
    "    t, old_t = 1, 0\n",
    "    r, old_r = p, k\n",
    "\n",
    "    while r != 0:\n",
    "        quotient = old_r // r\n",
    "        old_r, r = r, old_r - quotient * r\n",
    "        old_s, s = s, old_s - quotient * s\n",
    "        old_t, t = t, old_t - quotient * t\n",
    "\n",
    "    gcd, x, y = old_r, old_s, old_t\n",
    "\n",
    "    assert gcd == 1\n",
    "    assert (k * x) % p == 1\n",
    "\n",
    "    return x % p\n",
    "\n",
    "\n",
    "def point_add(x1, y1, x2, y2, A, n):\n",
    "    if x1 == x2 and y1 != y2:\n",
    "        return None\n",
    "\n",
    "    if x1 == x2:\n",
    "        m = (3 * x1 * x1 + A) * inverse_mod(2 * y1, n)\n",
    "    else:\n",
    "        m = (y1 - y2) * inverse_mod(x1 - x2, n)\n",
    "\n",
    "    x3 = m * m - x1 - x2\n",
    "    y3 = y1 + m * (x3 - x1)\n",
    "    result = (x3 % n, -y3 % n)\n",
    "    return result\n",
    "\n",
    "def point_mult(x1, y1, times, A, n):\n",
    "    rx, ry = x1, y1\n",
    "    for i in range(0, times - 1):\n",
    "        rx, ry = point_add(rx, ry, x1, y1, A, n)\n",
    "    return rx, ry"
   ]
  },
  {
   "cell_type": "markdown",
   "metadata": {},
   "source": [
    "### Этап 1. Выработка ключей\n",
    "Выполняет отправитель __А__"
   ]
  },
  {
   "cell_type": "markdown",
   "metadata": {},
   "source": [
    "Выбирается модуль эллиптической кривой - простое число $n$ $(n > 2^{255})$."
   ]
  },
  {
   "cell_type": "code",
   "execution_count": 176,
   "metadata": {
    "ExecuteTime": {
     "end_time": "2019-03-27T14:27:56.371872Z",
     "start_time": "2019-03-27T14:27:56.368635Z"
    }
   },
   "outputs": [],
   "source": [
    "n = 41"
   ]
  },
  {
   "cell_type": "markdown",
   "metadata": {},
   "source": [
    "Выбираются коэффициенты эллиптической кривой $A$ и $B$.  \n",
    "Должно соблюдаться условие $(4*A^3 + 27*B^2) \\bmod n \\ne 0$, в противном случае меняются параметры эллиптической кривой $n$, $A$ или $B$."
   ]
  },
  {
   "cell_type": "code",
   "execution_count": 177,
   "metadata": {
    "ExecuteTime": {
     "end_time": "2019-03-27T14:27:56.748755Z",
     "start_time": "2019-03-27T14:27:56.745696Z"
    }
   },
   "outputs": [],
   "source": [
    "A = 3\n",
    "B = 7"
   ]
  },
  {
   "cell_type": "markdown",
   "metadata": {},
   "source": [
    "Определяется точка эллиптической кривой $P(x_p, y_p)$ и порядок циклической подгруппы группы точек эллиптической кривой $q$)."
   ]
  },
  {
   "cell_type": "code",
   "execution_count": 178,
   "metadata": {
    "ExecuteTime": {
     "end_time": "2019-03-27T14:27:58.396914Z",
     "start_time": "2019-03-27T14:27:58.393696Z"
    }
   },
   "outputs": [],
   "source": [
    "x_p = 7\n",
    "y_p = 17\n",
    "q = 47"
   ]
  },
  {
   "cell_type": "markdown",
   "metadata": {},
   "source": [
    "Выбирается закрытый ключ $d$ $(0 < d < q)$."
   ]
  },
  {
   "cell_type": "code",
   "execution_count": 179,
   "metadata": {
    "ExecuteTime": {
     "end_time": "2019-03-27T14:27:59.119385Z",
     "start_time": "2019-03-27T14:27:59.112483Z"
    }
   },
   "outputs": [],
   "source": [
    "d = 10"
   ]
  },
  {
   "cell_type": "markdown",
   "metadata": {},
   "source": [
    "Определяется точка эллиптической кривой $Q(x_q, y_q)$: $Q(x_q, y_q) = d * P(x_p, y_p)$."
   ]
  },
  {
   "cell_type": "code",
   "execution_count": 189,
   "metadata": {
    "ExecuteTime": {
     "end_time": "2019-03-27T14:29:05.003200Z",
     "start_time": "2019-03-27T14:29:04.999240Z"
    }
   },
   "outputs": [],
   "source": [
    "x_q, y_q = point_mult(x_p, y_p, d, A, n)\n",
    "md = f'$Q(x_q, y_q) = Q({x_q}, {y_q})$'"
   ]
  },
  {
   "cell_type": "markdown",
   "metadata": {
    "ExecuteTime": {
     "end_time": "2019-03-27T13:28:52.316498Z",
     "start_time": "2019-03-27T13:28:52.292403Z"
    },
    "variables": {
     "md": "$Q(x_q, y_q) = Q(36, 20)$"
    }
   },
   "source": [
    "{{md}}"
   ]
  },
  {
   "cell_type": "markdown",
   "metadata": {
    "ExecuteTime": {
     "end_time": "2019-03-27T13:28:54.393967Z",
     "start_time": "2019-03-27T13:28:54.387828Z"
    }
   },
   "source": [
    "Публикуется открытый ключ $[(A, B), P(x_p, y_p), n, Q(x_q, y_q)]$ в специальном хранилище, где исключается возможность его подмены (общедоступном сертифицированном справочнике).  \n",
    "Для выработки и проверки электронной цифровой подписи $q$ является частью открытого ключа вместо $n$."
   ]
  },
  {
   "cell_type": "markdown",
   "metadata": {},
   "source": [
    "### Этап 2. Отправка сообщения и электронной подписи\n",
    "Выполняет отправитель __А__"
   ]
  },
  {
   "cell_type": "markdown",
   "metadata": {
    "ExecuteTime": {
     "end_time": "2019-03-27T13:30:49.290286Z",
     "start_time": "2019-03-27T13:30:49.284882Z"
    }
   },
   "source": [
    "Вычисление хеш-образа $h = h(T)$ (длина хеш-образа 256 бит)."
   ]
  },
  {
   "cell_type": "code",
   "execution_count": 96,
   "metadata": {
    "ExecuteTime": {
     "end_time": "2019-03-27T13:31:17.052129Z",
     "start_time": "2019-03-27T13:31:17.047517Z"
    }
   },
   "outputs": [],
   "source": [
    "h = int(''.join(map(lambda x: str(ord(x) - ord('a') + 1), LAST_NAME[:3])))\n",
    "md = f'$h = {h}$'"
   ]
  },
  {
   "cell_type": "markdown",
   "metadata": {
    "ExecuteTime": {
     "end_time": "2019-03-27T13:31:23.043914Z",
     "start_time": "2019-03-27T13:31:23.034784Z"
    },
    "variables": {
     "md": "$h = 11211$"
    }
   },
   "source": [
    "{{md}}"
   ]
  },
  {
   "cell_type": "markdown",
   "metadata": {
    "ExecuteTime": {
     "end_time": "2019-03-27T13:32:01.533834Z",
     "start_time": "2019-03-27T13:32:01.528261Z"
    }
   },
   "source": [
    "Вычисление $e = h \\bmod q$, где $q$ – часть открытого ключа отправителя __A__."
   ]
  },
  {
   "cell_type": "code",
   "execution_count": 101,
   "metadata": {
    "ExecuteTime": {
     "end_time": "2019-03-27T13:32:36.007243Z",
     "start_time": "2019-03-27T13:32:36.003923Z"
    }
   },
   "outputs": [],
   "source": [
    "e = h % q\n",
    "md = f'$e = {e}$'"
   ]
  },
  {
   "cell_type": "markdown",
   "metadata": {
    "variables": {
     "md": "$e = 25$"
    }
   },
   "source": [
    "{{md}}"
   ]
  },
  {
   "cell_type": "markdown",
   "metadata": {
    "ExecuteTime": {
     "end_time": "2019-03-27T13:33:02.949876Z",
     "start_time": "2019-03-27T13:33:02.944780Z"
    }
   },
   "source": [
    "Выбор $k$ - любого числа, меньшего $q$."
   ]
  },
  {
   "cell_type": "code",
   "execution_count": 110,
   "metadata": {
    "ExecuteTime": {
     "end_time": "2019-03-27T13:37:01.456002Z",
     "start_time": "2019-03-27T13:37:01.452044Z"
    }
   },
   "outputs": [],
   "source": [
    "k = 11"
   ]
  },
  {
   "cell_type": "markdown",
   "metadata": {
    "ExecuteTime": {
     "end_time": "2019-03-27T13:33:59.810463Z",
     "start_time": "2019-03-27T13:33:59.804933Z"
    }
   },
   "source": [
    "Определение точки эллиптической кривой $C(x_c, y_c) = k*P(x_p, y_p)$, где $P(x_p, y_p)$ – часть открытого ключа отправителя __A__."
   ]
  },
  {
   "cell_type": "code",
   "execution_count": 192,
   "metadata": {
    "ExecuteTime": {
     "end_time": "2019-03-27T14:30:39.624729Z",
     "start_time": "2019-03-27T14:30:39.621250Z"
    }
   },
   "outputs": [],
   "source": [
    "x_c, y_c = point_mult(x_p, y_p, k, A, n)\n",
    "md = f'$C(x_c, y_c) = C({x_c}, {y_c})$'"
   ]
  },
  {
   "cell_type": "markdown",
   "metadata": {
    "ExecuteTime": {
     "end_time": "2019-03-27T14:30:03.282483Z",
     "start_time": "2019-03-27T14:30:03.277386Z"
    },
    "variables": {
     "md": "$C(x_c, y_c) = C(16, 16)$"
    }
   },
   "source": [
    "{{md}}"
   ]
  },
  {
   "cell_type": "markdown",
   "metadata": {
    "ExecuteTime": {
     "end_time": "2019-03-27T13:37:38.281458Z",
     "start_time": "2019-03-27T13:37:38.275547Z"
    }
   },
   "source": [
    "Вычисление $r = x_c \\bmod q$.  \n",
    "Если $r = 0$, перейти к этапу 2 и выбрать другое значение числа $k$."
   ]
  },
  {
   "cell_type": "code",
   "execution_count": 197,
   "metadata": {
    "ExecuteTime": {
     "end_time": "2019-03-27T14:32:48.070987Z",
     "start_time": "2019-03-27T14:32:48.067917Z"
    }
   },
   "outputs": [],
   "source": [
    "r = x_c % q\n",
    "md = f'$r = {r}$'"
   ]
  },
  {
   "cell_type": "markdown",
   "metadata": {
    "variables": {
     "md": "$r = 16$"
    }
   },
   "source": [
    "{{md}}"
   ]
  },
  {
   "cell_type": "markdown",
   "metadata": {
    "ExecuteTime": {
     "end_time": "2019-03-27T14:33:22.329691Z",
     "start_time": "2019-03-27T14:33:22.323846Z"
    }
   },
   "source": [
    "Вычисление $s = (r*d + k*e) \\bmod q$, где $d$ - закрытый ключ отправителя **A**.  \n",
    "Если $s = 0$, перейти к этапу 2 и выработать другое значение числа $k$."
   ]
  },
  {
   "cell_type": "code",
   "execution_count": 201,
   "metadata": {
    "ExecuteTime": {
     "end_time": "2019-03-27T14:34:40.758247Z",
     "start_time": "2019-03-27T14:34:40.753863Z"
    }
   },
   "outputs": [],
   "source": [
    "s = (r * d + k * e) % q\n",
    "md = f'$s = {s}$'"
   ]
  },
  {
   "cell_type": "markdown",
   "metadata": {
    "variables": {
     "md": "$s = 12$"
    }
   },
   "source": [
    "{{md}}"
   ]
  },
  {
   "cell_type": "markdown",
   "metadata": {},
   "source": [
    "Отправка получателю **B** исходного сообщения $T$ и цифровой подписи $(r, s)$."
   ]
  },
  {
   "cell_type": "markdown",
   "metadata": {},
   "source": [
    "### Этап 3. Получение сообщения и проверка электронной подписи\n",
    "Выполняет получатель **B**"
   ]
  },
  {
   "cell_type": "markdown",
   "metadata": {},
   "source": [
    "Вычисление хеш-образа по полученному сообщению $h^\\prime = h(T^\\prime)$."
   ]
  },
  {
   "cell_type": "code",
   "execution_count": 202,
   "metadata": {
    "ExecuteTime": {
     "end_time": "2019-03-27T14:38:00.443742Z",
     "start_time": "2019-03-27T14:38:00.440529Z"
    }
   },
   "outputs": [],
   "source": [
    "h_prime = h\n",
    "md = f'$h^\\prime = {h_prime}$'"
   ]
  },
  {
   "cell_type": "markdown",
   "metadata": {
    "variables": {
     "md": "$h^\\prime = 11211$"
    }
   },
   "source": [
    "{{md}}"
   ]
  },
  {
   "cell_type": "markdown",
   "metadata": {},
   "source": [
    "Вычисление $e^\\prime = h^\\prime \\bmod q$."
   ]
  },
  {
   "cell_type": "code",
   "execution_count": 204,
   "metadata": {
    "ExecuteTime": {
     "end_time": "2019-03-27T14:39:12.269369Z",
     "start_time": "2019-03-27T14:39:12.265382Z"
    }
   },
   "outputs": [],
   "source": [
    "e_prime = h_prime % q\n",
    "md = f'$e^\\prime = {e_prime}$'"
   ]
  },
  {
   "cell_type": "markdown",
   "metadata": {
    "variables": {
     "md": "$e^\\prime = 25$"
    }
   },
   "source": [
    "{{md}}"
   ]
  },
  {
   "cell_type": "markdown",
   "metadata": {
    "ExecuteTime": {
     "end_time": "2019-03-27T14:39:52.365922Z",
     "start_time": "2019-03-27T14:39:52.360871Z"
    }
   },
   "source": [
    "Вычисление $v = e^{\\prime - 1} \\bmod q$."
   ]
  },
  {
   "cell_type": "code",
   "execution_count": 208,
   "metadata": {
    "ExecuteTime": {
     "end_time": "2019-03-27T14:40:40.788949Z",
     "start_time": "2019-03-27T14:40:40.783309Z"
    }
   },
   "outputs": [],
   "source": [
    "v = inverse_mod(e, q)\n",
    "md = f'$v = {v}$'"
   ]
  },
  {
   "cell_type": "markdown",
   "metadata": {
    "variables": {
     "md": "$v = 32$"
    }
   },
   "source": [
    "{{md}}"
   ]
  },
  {
   "cell_type": "markdown",
   "metadata": {
    "ExecuteTime": {
     "end_time": "2019-03-27T14:41:41.122553Z",
     "start_time": "2019-03-27T14:41:41.116830Z"
    }
   },
   "source": [
    "Вычисление двух значений:  \n",
    "$z_1 = (s*v) \\bmod q$ и $z_2 = ((q - r)*v) \\bmod q$."
   ]
  },
  {
   "cell_type": "code",
   "execution_count": 211,
   "metadata": {
    "ExecuteTime": {
     "end_time": "2019-03-27T14:42:35.418788Z",
     "start_time": "2019-03-27T14:42:35.414791Z"
    }
   },
   "outputs": [],
   "source": [
    "z_1 = (s * v) % q\n",
    "z_2 = ((q - r) * v) % q\n",
    "md = f'$z_1 = {z_1}, z_2 = {z_2}$'"
   ]
  },
  {
   "cell_type": "markdown",
   "metadata": {
    "variables": {
     "md": "$z_1 = 8, z_2 = 5$"
    }
   },
   "source": [
    "{{md}}"
   ]
  },
  {
   "cell_type": "markdown",
   "metadata": {
    "ExecuteTime": {
     "end_time": "2019-03-27T14:42:48.752169Z",
     "start_time": "2019-03-27T14:42:48.745382Z"
    }
   },
   "source": [
    "Определение точки эллиптической кривой $C^\\prime(x_{c^\\prime}, y_{c^\\prime}) = z_1*P(x_p, y_p) + z_2*Q(x_q, y_q)$, где $Q(x_q, y_q)$ – часть открытого ключа отправителя **A**."
   ]
  },
  {
   "cell_type": "code",
   "execution_count": 216,
   "metadata": {
    "ExecuteTime": {
     "end_time": "2019-03-27T14:47:07.709722Z",
     "start_time": "2019-03-27T14:47:07.703994Z"
    }
   },
   "outputs": [],
   "source": [
    "m_1 = point_mult(x_p, y_p, z_1, A, n)\n",
    "m_2 = point_mult(x_q, y_q, z_2, A, n)\n",
    "\n",
    "x_c_prime, y_c_prime = point_add(*m_1, *m_2, A, n)\n",
    "md = f'$C^\\prime(x_{{c^\\prime}}, y_{{c^\\prime}}) = C^\\prime({x_c_prime}, {y_c_prime})$'"
   ]
  },
  {
   "cell_type": "markdown",
   "metadata": {
    "variables": {
     "md": "$C^\\prime(x_{c^\\prime}, y_{c^\\prime}) = C^\\prime(16, 16)$"
    }
   },
   "source": [
    "{{md}}"
   ]
  },
  {
   "cell_type": "markdown",
   "metadata": {
    "ExecuteTime": {
     "end_time": "2019-03-27T14:48:15.929747Z",
     "start_time": "2019-03-27T14:48:15.918922Z"
    }
   },
   "source": [
    "Вычисление $r^\\prime = x_{c^\\prime} \\bmod q$."
   ]
  },
  {
   "cell_type": "code",
   "execution_count": 219,
   "metadata": {
    "ExecuteTime": {
     "end_time": "2019-03-27T14:48:58.243894Z",
     "start_time": "2019-03-27T14:48:58.240542Z"
    }
   },
   "outputs": [],
   "source": [
    "r_prime = x_c_prime % q\n",
    "md = f'$r^\\prime = {r_prime}$'"
   ]
  },
  {
   "cell_type": "markdown",
   "metadata": {
    "ExecuteTime": {
     "end_time": "2019-03-27T14:49:01.278175Z",
     "start_time": "2019-03-27T14:49:01.269221Z"
    },
    "variables": {
     "md": "$r^\\prime = 16$"
    }
   },
   "source": [
    "{{md}}"
   ]
  },
  {
   "cell_type": "code",
   "execution_count": 225,
   "metadata": {
    "ExecuteTime": {
     "end_time": "2019-03-27T14:50:06.779997Z",
     "start_time": "2019-03-27T14:50:06.776736Z"
    }
   },
   "outputs": [],
   "source": [
    "verified = r == r_prime"
   ]
  },
  {
   "cell_type": "markdown",
   "metadata": {
    "variables": {
     "'Verified' if verified else 'Not verified'": "Verified"
    }
   },
   "source": [
    "`{{'Verified' if verified else 'Not verified'}}`"
   ]
  },
  {
   "cell_type": "markdown",
   "metadata": {},
   "source": [
    "Т.к. $r^\\prime = r$, то получатель B делает вывод, что полученное сообщение $T^\\prime = T$ и оно действительно отправлено **А**."
   ]
  }
 ],
 "metadata": {
  "kernelspec": {
   "display_name": "Python 3",
   "language": "python",
   "name": "python3"
  },
  "language_info": {
   "codemirror_mode": {
    "name": "ipython",
    "version": 3
   },
   "file_extension": ".py",
   "mimetype": "text/x-python",
   "name": "python",
   "nbconvert_exporter": "python",
   "pygments_lexer": "ipython3",
   "version": "3.6.5"
  }
 },
 "nbformat": 4,
 "nbformat_minor": 2
}
