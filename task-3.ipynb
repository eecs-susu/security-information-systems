{
 "cells": [
  {
   "cell_type": "markdown",
   "metadata": {},
   "source": [
    "# Практическая работа №3 «Электронная подпись (RSA, ГОСТы 34.10-94 и 34.10-2001)»\n",
    "\n",
    "В практической работе необходимо привести последовательность выполнения процедур генерации и проверки ЭП с использованием следующих способов:\n",
    "- на базе алгоритма RSA;\n",
    "- по ГОСТ 34.10-94;\n",
    "- по ГОСТ 34.10-2001.\n",
    "\n",
    "При оформлении отчета необходимо привести таблицы генерации ключей, отправки сообщения с ЭП и получения сообщения с ЭП. В качестве хеш-образа исходного сообщения h(T) принять коды, соответственно, 1-ой, 2-ой и 3-ей буквы своей фамилии согласно их положению в алфавите. Отчет прикрепляется в edu.susu.ru"
   ]
  },
  {
   "cell_type": "markdown",
   "metadata": {},
   "source": [
    "## Протокол на базе алгоритма RSA"
   ]
  },
  {
   "cell_type": "code",
   "execution_count": null,
   "metadata": {},
   "outputs": [],
   "source": [
    "базе алгоритма RSA "
   ]
  }
 ],
 "metadata": {
  "kernelspec": {
   "display_name": "Python 3",
   "language": "python",
   "name": "python3"
  },
  "language_info": {
   "codemirror_mode": {
    "name": "ipython",
    "version": 3
   },
   "file_extension": ".py",
   "mimetype": "text/x-python",
   "name": "python",
   "nbconvert_exporter": "python",
   "pygments_lexer": "ipython3",
   "version": "3.6.5"
  }
 },
 "nbformat": 4,
 "nbformat_minor": 2
}
