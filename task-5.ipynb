{
 "cells": [
  {
   "cell_type": "markdown",
   "metadata": {},
   "source": [
    "# Практическая работа № 5 «Тайные многосторонние вычисления и разделение секрета»\n",
    " \n",
    "В практической работе необходимо привести последовательность выполнения следующих протоколов:\n",
    "- тайных многосторонних вычислений для расчета средней величины трех чисел. В качестве исходных данных принять коды 1-ой, 2-ой и 3-ей буквы своей фамилии согласно их положению в алфавите;\n",
    "- разбиения секрета с использование гаммирования для трех участников. В качестве секрета принять первые 3 буквы фамилии, для гамм - любые трехбуквенные сочетания;\n",
    "- разделения секрета по схеме Шамира для (3, 5)-пороговой схемы. В качестве секрета S принять код 1-ой буквы своей фамилии согласно ее положению в алфавите;\n",
    "- разделения секрета по схеме Асмута-Блума для (3, 5)-пороговой схемы. В качестве секрета S принять код 1-ой буквы своей фамилии согласно ее положению в алфавите.\n",
    "\n",
    "При оформлении отчета необходимо привести исходные данные и таблицы, содержащие последовательность выполнения протоколов. Отчет необходимо загрузить в edu.susu.ru\n"
   ]
  },
  {
   "cell_type": "code",
   "execution_count": 1,
   "metadata": {
    "ExecuteTime": {
     "end_time": "2019-03-28T06:05:26.831076Z",
     "start_time": "2019-03-28T06:05:26.235583Z"
    }
   },
   "outputs": [],
   "source": [
    "import json\n",
    "\n",
    "import numpy as np\n",
    "import pandas as pd"
   ]
  },
  {
   "cell_type": "code",
   "execution_count": 2,
   "metadata": {
    "ExecuteTime": {
     "end_time": "2019-03-28T06:05:26.839845Z",
     "start_time": "2019-03-28T06:05:26.833989Z"
    }
   },
   "outputs": [],
   "source": [
    "with open('instance/settings.json') as f:\n",
    "    settings = json.load(f)\n",
    "    LAST_NAME = settings['last_name']\n",
    "    FIRST_NAME = settings['first_name']\n",
    "    PATRONYMIC = settings['patronymic']"
   ]
  },
  {
   "cell_type": "code",
   "execution_count": 3,
   "metadata": {
    "ExecuteTime": {
     "end_time": "2019-03-28T06:05:26.847331Z",
     "start_time": "2019-03-28T06:05:26.842921Z"
    }
   },
   "outputs": [],
   "source": [
    "def power_with_modulo(a, n, m):\n",
    "    res = 1\n",
    "    while n > 0:\n",
    "        if (n & 1) == 1:\n",
    "            res = (res * a) % m\n",
    "        a = (a * a) % m\n",
    "        n >>= 1\n",
    "    return res"
   ]
  },
  {
   "cell_type": "markdown",
   "metadata": {},
   "source": [
    "## Тайные многосторонние вычисления"
   ]
  },
  {
   "cell_type": "code",
   "execution_count": 4,
   "metadata": {
    "ExecuteTime": {
     "end_time": "2019-03-28T06:05:26.855990Z",
     "start_time": "2019-03-28T06:05:26.851677Z"
    }
   },
   "outputs": [],
   "source": [
    "def rsa_generator():\n",
    "    keys = [\n",
    "        [5, 91, 29],\n",
    "        [7, 91, 31],\n",
    "        [17, 91, 17],\n",
    "    ]\n",
    "    for e, n, d in keys:\n",
    "        yield {'public': {'e': e, 'n': n}, 'private': {'d': d}}"
   ]
  },
  {
   "cell_type": "code",
   "execution_count": 5,
   "metadata": {
    "ExecuteTime": {
     "end_time": "2019-03-28T06:05:26.866578Z",
     "start_time": "2019-03-28T06:05:26.859488Z"
    },
    "scrolled": true
   },
   "outputs": [
    {
     "name": "stdout",
     "output_type": "stream",
     "text": [
      "{\n",
      "    \"a\": {\n",
      "        \"secret\": 1,\n",
      "        \"rsa\": {\n",
      "            \"public\": {\n",
      "                \"e\": 5,\n",
      "                \"n\": 91\n",
      "            },\n",
      "            \"private\": {\n",
      "                \"d\": 29\n",
      "            }\n",
      "        }\n",
      "    },\n",
      "    \"b\": {\n",
      "        \"secret\": 12,\n",
      "        \"rsa\": {\n",
      "            \"public\": {\n",
      "                \"e\": 7,\n",
      "                \"n\": 91\n",
      "            },\n",
      "            \"private\": {\n",
      "                \"d\": 31\n",
      "            }\n",
      "        }\n",
      "    },\n",
      "    \"c\": {\n",
      "        \"secret\": 11,\n",
      "        \"rsa\": {\n",
      "            \"public\": {\n",
      "                \"e\": 17,\n",
      "                \"n\": 91\n",
      "            },\n",
      "            \"private\": {\n",
      "                \"d\": 17\n",
      "            }\n",
      "        }\n",
      "    }\n",
      "}\n"
     ]
    }
   ],
   "source": [
    "smc_data = list(map(lambda c: ord(c) - ord('a') + 1, LAST_NAME[:3]))\n",
    "smc_data = {k: {'secret': v, 'rsa': rsa} for k, v, rsa in zip('abc', smc_data, rsa_generator())}\n",
    "print(json.dumps(smc_data, indent=4))"
   ]
  },
  {
   "cell_type": "markdown",
   "metadata": {
    "ExecuteTime": {
     "end_time": "2019-03-28T05:11:47.766198Z",
     "start_time": "2019-03-28T05:11:47.760699Z"
    }
   },
   "source": [
    "<b>A</b> прибавляет случайное секретное число $x$ к своему секрету, шифрует результат с помощью открытого ключа <b>B</b> и отсылает его <b>B</b>"
   ]
  },
  {
   "cell_type": "code",
   "execution_count": 6,
   "metadata": {
    "ExecuteTime": {
     "end_time": "2019-03-28T06:05:26.874422Z",
     "start_time": "2019-03-28T06:05:26.869452Z"
    }
   },
   "outputs": [],
   "source": [
    "np.random.seed(42)\n",
    "a_x = np.random.randint(2, 1<<20)\n",
    "\n",
    "a_data = smc_data['a']['secret'] + a_x\n",
    "shared_data = power_with_modulo(\n",
    "    a_data, \n",
    "    smc_data['b']['rsa']['public']['e'], \n",
    "    smc_data['b']['rsa']['public']['n'],\n",
    ")"
   ]
  },
  {
   "cell_type": "markdown",
   "metadata": {
    "variables": {
     "f'$data_a = {a_data}$'": "$data_a = 121961$",
     "f'$secret_a = {smc_data[\"a\"][\"secret\"]}$'": "$secret_a = 1$",
     "f'$shared\\\\_data = {shared_data}$'": "$shared\\_data = 70$",
     "f'$x_a = {a_x}$'": "$x_a = 121960$"
    }
   },
   "source": [
    "{{f'$secret_a = {smc_data[\"a\"][\"secret\"]}$'}}  \n",
    "{{f'$x_a = {a_x}$'}}  \n",
    "{{f'$data_a = {a_data}$'}}   \n",
    "{{f'$shared\\\\_data = {shared_data}$'}}"
   ]
  },
  {
   "cell_type": "markdown",
   "metadata": {
    "ExecuteTime": {
     "end_time": "2019-03-28T05:47:07.307894Z",
     "start_time": "2019-03-28T05:47:07.302432Z"
    }
   },
   "source": [
    "<b>B</b> расшифровывает результат, добавляет к нему свою зарплату, шифрует результат с помощью открытого ключа <b>C</b> и отсылает его <b>C</b>."
   ]
  },
  {
   "cell_type": "code",
   "execution_count": 7,
   "metadata": {
    "ExecuteTime": {
     "end_time": "2019-03-28T06:05:26.921044Z",
     "start_time": "2019-03-28T06:05:26.914669Z"
    }
   },
   "outputs": [],
   "source": [
    "decrypted_data = power_with_modulo(\n",
    "    shared_data, \n",
    "    smc_data['b']['rsa']['private']['d'], \n",
    "    smc_data['b']['rsa']['public']['n'],\n",
    ")\n",
    "b_data = decrypted_data + smc_data['b']['secret']\n",
    "shared_data = power_with_modulo(\n",
    "    b_data, \n",
    "    smc_data['c']['rsa']['public']['e'], \n",
    "    smc_data['c']['rsa']['public']['n'],\n",
    ")"
   ]
  },
  {
   "cell_type": "markdown",
   "metadata": {
    "variables": {
     "'$data_{decrypted} = %d$' % decrypted_data": "$data_{decrypted} = 21$",
     "f'$data_b = {b_data}$'": "$data_b = 33$",
     "f'$secret_b = {smc_data[\"b\"][\"secret\"]}$'": "$secret_b = 12$",
     "f'$shared\\\\_data = {shared_data}$'": "$shared\\_data = 24$"
    }
   },
   "source": [
    "{{f'$secret_b = {smc_data[\"b\"][\"secret\"]}$'}}  \n",
    "{{'$data_{decrypted} = %d$' % decrypted_data}}  \n",
    "{{f'$data_b = {b_data}$'}}   \n",
    "{{f'$shared\\\\_data = {shared_data}$'}}"
   ]
  },
  {
   "cell_type": "code",
   "execution_count": 8,
   "metadata": {
    "ExecuteTime": {
     "end_time": "2019-03-28T06:05:26.967933Z",
     "start_time": "2019-03-28T06:05:26.962077Z"
    }
   },
   "outputs": [],
   "source": [
    "decrypted_data = power_with_modulo(\n",
    "    shared_data, \n",
    "    smc_data['c']['rsa']['private']['d'], \n",
    "    smc_data['c']['rsa']['public']['n'],\n",
    ")\n",
    "c_data = decrypted_data + smc_data['c']['secret']\n",
    "shared_data = power_with_modulo(\n",
    "    c_data, \n",
    "    smc_data['a']['rsa']['public']['e'], \n",
    "    smc_data['a']['rsa']['public']['n'],\n",
    ")"
   ]
  },
  {
   "cell_type": "markdown",
   "metadata": {
    "variables": {
     "'$data_{decrypted} = %d$' % decrypted_data": "$data_{decrypted} = 33$",
     "f'$data_c = {c_data}$'": "$data_c = 44$",
     "f'$secret_c = {smc_data[\"c\"][\"secret\"]}$'": "$secret_c = 11$",
     "f'$shared\\\\_data = {shared_data}$'": "$shared\\_data = 18$"
    }
   },
   "source": [
    "{{f'$secret_c = {smc_data[\"c\"][\"secret\"]}$'}}  \n",
    "{{'$data_{decrypted} = %d$' % decrypted_data}}  \n",
    "{{f'$data_c = {c_data}$'}}   \n",
    "{{f'$shared\\\\_data = {shared_data}$'}}"
   ]
  },
  {
   "cell_type": "code",
   "execution_count": 9,
   "metadata": {
    "ExecuteTime": {
     "end_time": "2019-03-28T06:05:27.005927Z",
     "start_time": "2019-03-28T06:05:27.001296Z"
    }
   },
   "outputs": [],
   "source": [
    "decrypted_data = power_with_modulo(\n",
    "    shared_data, \n",
    "    smc_data['a']['rsa']['private']['d'], \n",
    "    smc_data['a']['rsa']['public']['n'],\n",
    ")\n",
    "final_data = (decrypted_data - a_x) % smc_data['a']['rsa']['public']['n']"
   ]
  },
  {
   "cell_type": "markdown",
   "metadata": {
    "variables": {
     "'$data_{decrypted} = %d$' % decrypted_data": "$data_{decrypted} = 44$",
     "'$data_{final} = %d$' % final_data": "$data_{final} = 24$",
     "f'$secret_a + secret_b + secret_c = {smc_data[\"a\"][\"secret\"] + smc_data[\"b\"][\"secret\"] +smc_data[\"c\"][\"secret\"]}$'": "$secret_a + secret_b + secret_c = 24$"
    }
   },
   "source": [
    "{{'$data_{decrypted} = %d$' % decrypted_data}}   \n",
    "{{'$data_{final} = %d$' % final_data}}  \n",
    "{{f'$secret_a + secret_b + secret_c = {smc_data[\"a\"][\"secret\"] + smc_data[\"b\"][\"secret\"] +smc_data[\"c\"][\"secret\"]}$'}}   "
   ]
  },
  {
   "cell_type": "markdown",
   "metadata": {},
   "source": [
    "## Разбиение секрета с использование гаммирования"
   ]
  },
  {
   "cell_type": "code",
   "execution_count": 21,
   "metadata": {
    "ExecuteTime": {
     "end_time": "2019-03-28T06:12:32.216565Z",
     "start_time": "2019-03-28T06:12:32.212304Z"
    }
   },
   "outputs": [
    {
     "name": "stdout",
     "output_type": "stream",
     "text": [
      "alk\n"
     ]
    }
   ],
   "source": [
    "ssg_data = LAST_NAME[:3]\n",
    "print(ssg_data)"
   ]
  },
  {
   "cell_type": "markdown",
   "metadata": {},
   "source": [
    "Кодирование секрета"
   ]
  },
  {
   "cell_type": "code",
   "execution_count": 31,
   "metadata": {
    "ExecuteTime": {
     "end_time": "2019-03-28T06:13:40.909377Z",
     "start_time": "2019-03-28T06:13:40.905271Z"
    }
   },
   "outputs": [],
   "source": [
    "def get_binary(word):\n",
    "    return list(map(lambda c: '{0:0>8b}'.format(c), word.encode('cp1251')))"
   ]
  },
  {
   "cell_type": "code",
   "execution_count": 35,
   "metadata": {
    "ExecuteTime": {
     "end_time": "2019-03-28T06:15:21.738782Z",
     "start_time": "2019-03-28T06:15:21.721764Z"
    }
   },
   "outputs": [
    {
     "data": {
      "text/html": [
       "<div>\n",
       "<style scoped>\n",
       "    .dataframe tbody tr th:only-of-type {\n",
       "        vertical-align: middle;\n",
       "    }\n",
       "\n",
       "    .dataframe tbody tr th {\n",
       "        vertical-align: top;\n",
       "    }\n",
       "\n",
       "    .dataframe thead th {\n",
       "        text-align: right;\n",
       "    }\n",
       "</style>\n",
       "<table border=\"1\" class=\"dataframe\">\n",
       "  <thead>\n",
       "    <tr style=\"text-align: right;\">\n",
       "      <th>Символ</th>\n",
       "      <th>a</th>\n",
       "      <th>l</th>\n",
       "      <th>k</th>\n",
       "    </tr>\n",
       "  </thead>\n",
       "  <tbody>\n",
       "    <tr>\n",
       "      <th>Бинарный код</th>\n",
       "      <td>01100001</td>\n",
       "      <td>01101100</td>\n",
       "      <td>01101011</td>\n",
       "    </tr>\n",
       "  </tbody>\n",
       "</table>\n",
       "</div>"
      ],
      "text/plain": [
       "Символ               a         l         k\n",
       "Бинарный код  01100001  01101100  01101011"
      ]
     },
     "execution_count": 35,
     "metadata": {},
     "output_type": "execute_result"
    }
   ],
   "source": [
    "pd.DataFrame({\n",
    "    'Символ': list(ssg_data),\n",
    "    'Бинарный код': get_binary(ssg_data)\n",
    "}).set_index('Символ').T"
   ]
  },
  {
   "cell_type": "code",
   "execution_count": 39,
   "metadata": {
    "ExecuteTime": {
     "end_time": "2019-03-28T06:23:07.940881Z",
     "start_time": "2019-03-28T06:23:07.936749Z"
    }
   },
   "outputs": [],
   "source": [
    "def get_gamma(size, seed):\n",
    "    random = np.random.RandomState(seed)\n",
    "    res = ''\n",
    "    for i in range(size):\n",
    "        res += chr(ord('a') + random.randint(0, 26))\n",
    "    return res"
   ]
  },
  {
   "cell_type": "code",
   "execution_count": 64,
   "metadata": {
    "ExecuteTime": {
     "end_time": "2019-03-28T06:39:07.984142Z",
     "start_time": "2019-03-28T06:39:07.975376Z"
    }
   },
   "outputs": [],
   "source": [
    "def get_gammas(n, size):\n",
    "    names = [f'Гамма{i + 1}' for i in range(n)]\n",
    "    values = [get_gamma(size, i) for i in range(n)]\n",
    "    bin_values = [get_binary(v) for v in values]\n",
    "    values = list(map(list , values))\n",
    "    values_title =  [f'{g} Символ {i + 1}' for i, g in enumerate(names)]\n",
    "    res = {}\n",
    "    for i, name in enumerate(names):\n",
    "        res[f'{name} Символ'] = values[i]\n",
    "        res[f'{name} Бинарный код'] = bin_values[i]\n",
    "    return res"
   ]
  },
  {
   "cell_type": "markdown",
   "metadata": {},
   "source": [
    "Генерация случайных гамм и передача их участникам."
   ]
  },
  {
   "cell_type": "code",
   "execution_count": 68,
   "metadata": {
    "ExecuteTime": {
     "end_time": "2019-03-28T06:42:17.389433Z",
     "start_time": "2019-03-28T06:42:17.377141Z"
    }
   },
   "outputs": [
    {
     "data": {
      "text/html": [
       "<div>\n",
       "<style scoped>\n",
       "    .dataframe tbody tr th:only-of-type {\n",
       "        vertical-align: middle;\n",
       "    }\n",
       "\n",
       "    .dataframe tbody tr th {\n",
       "        vertical-align: top;\n",
       "    }\n",
       "\n",
       "    .dataframe thead th {\n",
       "        text-align: right;\n",
       "    }\n",
       "</style>\n",
       "<table border=\"1\" class=\"dataframe\">\n",
       "  <thead>\n",
       "    <tr style=\"text-align: right;\">\n",
       "      <th>Символ</th>\n",
       "      <th>a</th>\n",
       "      <th>l</th>\n",
       "      <th>k</th>\n",
       "    </tr>\n",
       "  </thead>\n",
       "  <tbody>\n",
       "    <tr>\n",
       "      <th>Бинарный код</th>\n",
       "      <td>01100001</td>\n",
       "      <td>01101100</td>\n",
       "      <td>01101011</td>\n",
       "    </tr>\n",
       "    <tr>\n",
       "      <th>Гамма1 Символ</th>\n",
       "      <td>m</td>\n",
       "      <td>p</td>\n",
       "      <td>v</td>\n",
       "    </tr>\n",
       "    <tr>\n",
       "      <th>Гамма1 Бинарный код</th>\n",
       "      <td>01101101</td>\n",
       "      <td>01110000</td>\n",
       "      <td>01110110</td>\n",
       "    </tr>\n",
       "    <tr>\n",
       "      <th>Гамма2 Символ</th>\n",
       "      <td>f</td>\n",
       "      <td>l</td>\n",
       "      <td>m</td>\n",
       "    </tr>\n",
       "    <tr>\n",
       "      <th>Гамма2 Бинарный код</th>\n",
       "      <td>01100110</td>\n",
       "      <td>01101100</td>\n",
       "      <td>01101101</td>\n",
       "    </tr>\n",
       "    <tr>\n",
       "      <th>Гамма3 Символ</th>\n",
       "      <td>i</td>\n",
       "      <td>p</td>\n",
       "      <td>n</td>\n",
       "    </tr>\n",
       "    <tr>\n",
       "      <th>Гамма3 Бинарный код</th>\n",
       "      <td>01101001</td>\n",
       "      <td>01110000</td>\n",
       "      <td>01101110</td>\n",
       "    </tr>\n",
       "  </tbody>\n",
       "</table>\n",
       "</div>"
      ],
      "text/plain": [
       "Символ                      a         l         k\n",
       "Бинарный код         01100001  01101100  01101011\n",
       "Гамма1 Символ               m         p         v\n",
       "Гамма1 Бинарный код  01101101  01110000  01110110\n",
       "Гамма2 Символ               f         l         m\n",
       "Гамма2 Бинарный код  01100110  01101100  01101101\n",
       "Гамма3 Символ               i         p         n\n",
       "Гамма3 Бинарный код  01101001  01110000  01101110"
      ]
     },
     "execution_count": 68,
     "metadata": {},
     "output_type": "execute_result"
    }
   ],
   "source": [
    "ssg_df = pd.DataFrame({\n",
    "    'Символ': list(ssg_data),\n",
    "    'Бинарный код': get_binary(ssg_data),\n",
    "    **get_gammas(3, len(ssg_data))\n",
    "}).set_index('Символ').T\n",
    "ssg_df"
   ]
  },
  {
   "cell_type": "markdown",
   "metadata": {},
   "source": [
    "Получение шифрограммы и выкладывание её в доступное для участников место."
   ]
  },
  {
   "cell_type": "code",
   "execution_count": 144,
   "metadata": {
    "ExecuteTime": {
     "end_time": "2019-03-28T07:07:28.522454Z",
     "start_time": "2019-03-28T07:07:28.516395Z"
    }
   },
   "outputs": [],
   "source": [
    "def get_cipher(data):\n",
    "    res = []\n",
    "    for row in data:\n",
    "        n = len(row[0])\n",
    "        cur = np.zeros((n,), dtype=int)\n",
    "        for i in range(n):\n",
    "            for v in row:\n",
    "                cur[i] = (cur[i] + int(v[i])) % 2\n",
    "        res.append(''.join(map(str, cur)))   \n",
    "    return np.array(res)"
   ]
  },
  {
   "cell_type": "code",
   "execution_count": 145,
   "metadata": {
    "ExecuteTime": {
     "end_time": "2019-03-28T07:07:29.076306Z",
     "start_time": "2019-03-28T07:07:29.070834Z"
    }
   },
   "outputs": [
    {
     "data": {
      "text/plain": [
       "array(['00000011', '00000000', '00011110'], dtype='<U8')"
      ]
     },
     "execution_count": 145,
     "metadata": {},
     "output_type": "execute_result"
    }
   ],
   "source": [
    "cipher = get_cipher(ssg_df.values[::2].T)\n",
    "cipher"
   ]
  },
  {
   "cell_type": "code",
   "execution_count": 146,
   "metadata": {
    "ExecuteTime": {
     "end_time": "2019-03-28T07:07:29.434830Z",
     "start_time": "2019-03-28T07:07:29.422497Z"
    }
   },
   "outputs": [
    {
     "data": {
      "text/html": [
       "<div>\n",
       "<style scoped>\n",
       "    .dataframe tbody tr th:only-of-type {\n",
       "        vertical-align: middle;\n",
       "    }\n",
       "\n",
       "    .dataframe tbody tr th {\n",
       "        vertical-align: top;\n",
       "    }\n",
       "\n",
       "    .dataframe thead th {\n",
       "        text-align: right;\n",
       "    }\n",
       "</style>\n",
       "<table border=\"1\" class=\"dataframe\">\n",
       "  <thead>\n",
       "    <tr style=\"text-align: right;\">\n",
       "      <th>Символ</th>\n",
       "      <th>a</th>\n",
       "      <th>l</th>\n",
       "      <th>k</th>\n",
       "    </tr>\n",
       "  </thead>\n",
       "  <tbody>\n",
       "    <tr>\n",
       "      <th>Бинарный код</th>\n",
       "      <td>01100001</td>\n",
       "      <td>01101100</td>\n",
       "      <td>01101011</td>\n",
       "    </tr>\n",
       "    <tr>\n",
       "      <th>Гамма1 Символ</th>\n",
       "      <td>m</td>\n",
       "      <td>p</td>\n",
       "      <td>v</td>\n",
       "    </tr>\n",
       "    <tr>\n",
       "      <th>Гамма1 Бинарный код</th>\n",
       "      <td>01101101</td>\n",
       "      <td>01110000</td>\n",
       "      <td>01110110</td>\n",
       "    </tr>\n",
       "    <tr>\n",
       "      <th>Гамма2 Символ</th>\n",
       "      <td>f</td>\n",
       "      <td>l</td>\n",
       "      <td>m</td>\n",
       "    </tr>\n",
       "    <tr>\n",
       "      <th>Гамма2 Бинарный код</th>\n",
       "      <td>01100110</td>\n",
       "      <td>01101100</td>\n",
       "      <td>01101101</td>\n",
       "    </tr>\n",
       "    <tr>\n",
       "      <th>Гамма3 Символ</th>\n",
       "      <td>i</td>\n",
       "      <td>p</td>\n",
       "      <td>n</td>\n",
       "    </tr>\n",
       "    <tr>\n",
       "      <th>Гамма3 Бинарный код</th>\n",
       "      <td>01101001</td>\n",
       "      <td>01110000</td>\n",
       "      <td>01101110</td>\n",
       "    </tr>\n",
       "    <tr>\n",
       "      <th>Шифрограммы</th>\n",
       "      <td>00000011</td>\n",
       "      <td>00000000</td>\n",
       "      <td>00011110</td>\n",
       "    </tr>\n",
       "  </tbody>\n",
       "</table>\n",
       "</div>"
      ],
      "text/plain": [
       "Символ                      a         l         k\n",
       "Бинарный код         01100001  01101100  01101011\n",
       "Гамма1 Символ               m         p         v\n",
       "Гамма1 Бинарный код  01101101  01110000  01110110\n",
       "Гамма2 Символ               f         l         m\n",
       "Гамма2 Бинарный код  01100110  01101100  01101101\n",
       "Гамма3 Символ               i         p         n\n",
       "Гамма3 Бинарный код  01101001  01110000  01101110\n",
       "Шифрограммы          00000011  00000000  00011110"
      ]
     },
     "execution_count": 146,
     "metadata": {},
     "output_type": "execute_result"
    }
   ],
   "source": [
    "ssgc_df = ssg_df.T.assign(Шифрограммы=cipher).T\n",
    "ssgc_df"
   ]
  },
  {
   "cell_type": "markdown",
   "metadata": {
    "ExecuteTime": {
     "end_time": "2019-03-28T07:04:03.297087Z",
     "start_time": "2019-03-28T07:04:03.292316Z"
    }
   },
   "source": [
    "Восстановление кода"
   ]
  },
  {
   "cell_type": "code",
   "execution_count": 152,
   "metadata": {
    "ExecuteTime": {
     "end_time": "2019-03-28T07:08:42.424428Z",
     "start_time": "2019-03-28T07:08:42.419455Z"
    }
   },
   "outputs": [
    {
     "data": {
      "text/plain": [
       "array([['01101101', '01110000', '01110110'],\n",
       "       ['01100110', '01101100', '01101101'],\n",
       "       ['01101001', '01110000', '01101110']], dtype=object)"
      ]
     },
     "execution_count": 152,
     "metadata": {},
     "output_type": "execute_result"
    }
   ],
   "source": [
    "gammas = ssg_df.values[2::2]\n",
    "gammas"
   ]
  },
  {
   "cell_type": "code",
   "execution_count": 153,
   "metadata": {
    "ExecuteTime": {
     "end_time": "2019-03-28T07:08:48.045834Z",
     "start_time": "2019-03-28T07:08:48.040349Z"
    }
   },
   "outputs": [
    {
     "data": {
      "text/plain": [
       "array(['00000011', '00000000', '00011110'], dtype='<U8')"
      ]
     },
     "execution_count": 153,
     "metadata": {},
     "output_type": "execute_result"
    }
   ],
   "source": [
    "cipher"
   ]
  },
  {
   "cell_type": "code",
   "execution_count": 197,
   "metadata": {
    "ExecuteTime": {
     "end_time": "2019-03-28T07:17:29.473041Z",
     "start_time": "2019-03-28T07:17:29.467556Z"
    }
   },
   "outputs": [
    {
     "data": {
      "text/plain": [
       "array(['01100001', '01101100', '01101011'], dtype='<U8')"
      ]
     },
     "execution_count": 197,
     "metadata": {},
     "output_type": "execute_result"
    }
   ],
   "source": [
    "bin_decodes = get_cipher(np.vstack((gammas, cipher)).T)\n",
    "bin_decodes"
   ]
  },
  {
   "cell_type": "code",
   "execution_count": 199,
   "metadata": {
    "ExecuteTime": {
     "end_time": "2019-03-28T07:17:48.834641Z",
     "start_time": "2019-03-28T07:17:48.828402Z"
    }
   },
   "outputs": [
    {
     "data": {
      "text/plain": [
       "[97, 108, 107]"
      ]
     },
     "execution_count": 199,
     "metadata": {},
     "output_type": "execute_result"
    }
   ],
   "source": [
    "decodes = list(map(lambda x: int(x, 2), get_cipher(np.vstack((gammas, cipher)).T)))\n",
    "decodes"
   ]
  },
  {
   "cell_type": "code",
   "execution_count": 204,
   "metadata": {
    "ExecuteTime": {
     "end_time": "2019-03-28T07:18:47.053651Z",
     "start_time": "2019-03-28T07:18:47.048717Z"
    }
   },
   "outputs": [
    {
     "data": {
      "text/plain": [
       "'alk'"
      ]
     },
     "execution_count": 204,
     "metadata": {},
     "output_type": "execute_result"
    }
   ],
   "source": [
    "bytes(decodes).decode('cp1251')"
   ]
  },
  {
   "cell_type": "code",
   "execution_count": null,
   "metadata": {},
   "outputs": [],
   "source": []
  },
  {
   "cell_type": "code",
   "execution_count": null,
   "metadata": {},
   "outputs": [],
   "source": []
  },
  {
   "cell_type": "code",
   "execution_count": null,
   "metadata": {},
   "outputs": [],
   "source": []
  },
  {
   "cell_type": "code",
   "execution_count": null,
   "metadata": {},
   "outputs": [],
   "source": []
  },
  {
   "cell_type": "code",
   "execution_count": null,
   "metadata": {},
   "outputs": [],
   "source": []
  }
 ],
 "metadata": {
  "kernelspec": {
   "display_name": "Python 3",
   "language": "python",
   "name": "python3"
  },
  "language_info": {
   "codemirror_mode": {
    "name": "ipython",
    "version": 3
   },
   "file_extension": ".py",
   "mimetype": "text/x-python",
   "name": "python",
   "nbconvert_exporter": "python",
   "pygments_lexer": "ipython3",
   "version": "3.6.5"
  }
 },
 "nbformat": 4,
 "nbformat_minor": 2
}
