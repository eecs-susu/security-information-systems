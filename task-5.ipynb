{
 "cells": [
  {
   "cell_type": "markdown",
   "metadata": {},
   "source": [
    "# Практическая работа № 5 «Тайные многосторонние вычисления и разделение секрета»\n",
    " \n",
    "В практической работе необходимо привести последовательность выполнения следующих протоколов:\n",
    "- тайных многосторонних вычислений для расчета средней величины трех чисел. В качестве исходных данных принять коды 1-ой, 2-ой и 3-ей буквы своей фамилии согласно их положению в алфавите;\n",
    "- разбиения секрета с использование гаммирования для трех участников. В качестве секрета принять первые 3 буквы фамилии, для гамм - любые трехбуквенные сочетания;\n",
    "- разделения секрета по схеме Шамира для (3, 5)-пороговой схемы. В качестве секрета S принять код 1-ой буквы своей фамилии согласно ее положению в алфавите;\n",
    "- разделения секрета по схеме Асмута-Блума для (3, 5)-пороговой схемы. В качестве секрета S принять код 1-ой буквы своей фамилии согласно ее положению в алфавите.\n",
    "\n",
    "При оформлении отчета необходимо привести исходные данные и таблицы, содержащие последовательность выполнения протоколов. Отчет необходимо загрузить в edu.susu.ru\n"
   ]
  },
  {
   "cell_type": "code",
   "execution_count": 1,
   "metadata": {
    "ExecuteTime": {
     "end_time": "2019-03-28T11:22:25.291418Z",
     "start_time": "2019-03-28T11:22:24.676782Z"
    }
   },
   "outputs": [],
   "source": [
    "import json\n",
    "\n",
    "\n",
    "import numpy as np\n",
    "import pandas as pd\n",
    "\n",
    "from scipy.interpolate import lagrange\n",
    "from numpy.polynomial.polynomial import Polynomial"
   ]
  },
  {
   "cell_type": "code",
   "execution_count": 2,
   "metadata": {
    "ExecuteTime": {
     "end_time": "2019-03-28T11:22:25.301053Z",
     "start_time": "2019-03-28T11:22:25.294597Z"
    }
   },
   "outputs": [],
   "source": [
    "with open('instance/settings.json') as f:\n",
    "    settings = json.load(f)\n",
    "    LAST_NAME = settings['last_name']\n",
    "    FIRST_NAME = settings['first_name']\n",
    "    PATRONYMIC = settings['patronymic']"
   ]
  },
  {
   "cell_type": "code",
   "execution_count": 3,
   "metadata": {
    "ExecuteTime": {
     "end_time": "2019-03-28T11:22:25.307926Z",
     "start_time": "2019-03-28T11:22:25.302986Z"
    }
   },
   "outputs": [],
   "source": [
    "def gcd_ext(a, b):\n",
    "    \"\"\"\n",
    "    Find a*x+b*y = gcd(a, b)\n",
    "    \"\"\"\n",
    "    if a == 0:\n",
    "        return b, 0, 1\n",
    "    d, x, y = gcd_ext(b % a, a)\n",
    "    return d, y - (b // a) * x, x"
   ]
  },
  {
   "cell_type": "code",
   "execution_count": 4,
   "metadata": {
    "ExecuteTime": {
     "end_time": "2019-03-28T11:22:25.316103Z",
     "start_time": "2019-03-28T11:22:25.311424Z"
    }
   },
   "outputs": [],
   "source": [
    "def rev_element_by_modulo(num, mod):\n",
    "    g, x, y = gcd_ext(num, mod)\n",
    "    if g != 1:\n",
    "        return None\n",
    "    return (x % mod + mod) % mod"
   ]
  },
  {
   "cell_type": "code",
   "execution_count": 5,
   "metadata": {
    "ExecuteTime": {
     "end_time": "2019-03-28T11:22:25.324290Z",
     "start_time": "2019-03-28T11:22:25.319843Z"
    }
   },
   "outputs": [],
   "source": [
    "def power_with_modulo(a, n, m):\n",
    "    res = 1\n",
    "    while n > 0:\n",
    "        if (n & 1) == 1:\n",
    "            res = (res * a) % m\n",
    "        a = (a * a) % m\n",
    "        n >>= 1\n",
    "    return res"
   ]
  },
  {
   "cell_type": "markdown",
   "metadata": {},
   "source": [
    "## Тайные многосторонние вычисления"
   ]
  },
  {
   "cell_type": "code",
   "execution_count": 6,
   "metadata": {
    "ExecuteTime": {
     "end_time": "2019-03-28T11:22:25.330786Z",
     "start_time": "2019-03-28T11:22:25.325912Z"
    }
   },
   "outputs": [],
   "source": [
    "def rsa_generator():\n",
    "    keys = [\n",
    "        [5, 91, 29],\n",
    "        [7, 91, 31],\n",
    "        [17, 91, 17],\n",
    "    ]\n",
    "    for e, n, d in keys:\n",
    "        yield {'public': {'e': e, 'n': n}, 'private': {'d': d}}"
   ]
  },
  {
   "cell_type": "code",
   "execution_count": 7,
   "metadata": {
    "ExecuteTime": {
     "end_time": "2019-03-28T11:22:25.339251Z",
     "start_time": "2019-03-28T11:22:25.333009Z"
    },
    "scrolled": false
   },
   "outputs": [
    {
     "name": "stdout",
     "output_type": "stream",
     "text": [
      "{\n",
      "    \"a\": {\n",
      "        \"secret\": 1,\n",
      "        \"rsa\": {\n",
      "            \"public\": {\n",
      "                \"e\": 5,\n",
      "                \"n\": 91\n",
      "            },\n",
      "            \"private\": {\n",
      "                \"d\": 29\n",
      "            }\n",
      "        }\n",
      "    },\n",
      "    \"b\": {\n",
      "        \"secret\": 12,\n",
      "        \"rsa\": {\n",
      "            \"public\": {\n",
      "                \"e\": 7,\n",
      "                \"n\": 91\n",
      "            },\n",
      "            \"private\": {\n",
      "                \"d\": 31\n",
      "            }\n",
      "        }\n",
      "    },\n",
      "    \"c\": {\n",
      "        \"secret\": 11,\n",
      "        \"rsa\": {\n",
      "            \"public\": {\n",
      "                \"e\": 17,\n",
      "                \"n\": 91\n",
      "            },\n",
      "            \"private\": {\n",
      "                \"d\": 17\n",
      "            }\n",
      "        }\n",
      "    }\n",
      "}\n"
     ]
    }
   ],
   "source": [
    "smc_data = list(map(lambda c: ord(c) - ord('a') + 1, LAST_NAME[:3]))\n",
    "smc_data = {k: {'secret': v, 'rsa': rsa} for k, v, rsa in zip('abc', smc_data, rsa_generator())}\n",
    "print(json.dumps(smc_data, indent=4))"
   ]
  },
  {
   "cell_type": "markdown",
   "metadata": {
    "ExecuteTime": {
     "end_time": "2019-03-28T05:11:47.766198Z",
     "start_time": "2019-03-28T05:11:47.760699Z"
    }
   },
   "source": [
    "<b>A</b> прибавляет случайное секретное число $x$ к своему секрету, шифрует результат с помощью открытого ключа <b>B</b> и отсылает его <b>B</b>"
   ]
  },
  {
   "cell_type": "code",
   "execution_count": 8,
   "metadata": {
    "ExecuteTime": {
     "end_time": "2019-03-28T11:22:25.345263Z",
     "start_time": "2019-03-28T11:22:25.341567Z"
    }
   },
   "outputs": [],
   "source": [
    "np.random.seed(42)\n",
    "a_x = np.random.randint(2, 1<<20)\n",
    "\n",
    "a_data = smc_data['a']['secret'] + a_x\n",
    "shared_data = power_with_modulo(\n",
    "    a_data, \n",
    "    smc_data['b']['rsa']['public']['e'], \n",
    "    smc_data['b']['rsa']['public']['n'],\n",
    ")"
   ]
  },
  {
   "cell_type": "markdown",
   "metadata": {
    "variables": {
     "f'$data_a = {a_data}$'": "$data_a = 121961$",
     "f'$secret_a = {smc_data[\"a\"][\"secret\"]}$'": "$secret_a = 1$",
     "f'$shared\\\\_data = {shared_data}$'": "$shared\\_data = 70$",
     "f'$x_a = {a_x}$'": "$x_a = 121960$"
    }
   },
   "source": [
    "{{f'$secret_a = {smc_data[\"a\"][\"secret\"]}$'}}  \n",
    "{{f'$x_a = {a_x}$'}}  \n",
    "{{f'$data_a = {a_data}$'}}   \n",
    "{{f'$shared\\\\_data = {shared_data}$'}}"
   ]
  },
  {
   "cell_type": "markdown",
   "metadata": {
    "ExecuteTime": {
     "end_time": "2019-03-28T05:47:07.307894Z",
     "start_time": "2019-03-28T05:47:07.302432Z"
    }
   },
   "source": [
    "<b>B</b> расшифровывает результат, добавляет к нему свою зарплату, шифрует результат с помощью открытого ключа <b>C</b> и отсылает его <b>C</b>."
   ]
  },
  {
   "cell_type": "code",
   "execution_count": 9,
   "metadata": {
    "ExecuteTime": {
     "end_time": "2019-03-28T11:22:25.382159Z",
     "start_time": "2019-03-28T11:22:25.376643Z"
    }
   },
   "outputs": [],
   "source": [
    "decrypted_data = power_with_modulo(\n",
    "    shared_data, \n",
    "    smc_data['b']['rsa']['private']['d'], \n",
    "    smc_data['b']['rsa']['public']['n'],\n",
    ")\n",
    "b_data = decrypted_data + smc_data['b']['secret']\n",
    "shared_data = power_with_modulo(\n",
    "    b_data, \n",
    "    smc_data['c']['rsa']['public']['e'], \n",
    "    smc_data['c']['rsa']['public']['n'],\n",
    ")"
   ]
  },
  {
   "cell_type": "markdown",
   "metadata": {
    "variables": {
     "'$data_{decrypted} = %d$' % decrypted_data": "$data_{decrypted} = 21$",
     "f'$data_b = {b_data}$'": "$data_b = 33$",
     "f'$secret_b = {smc_data[\"b\"][\"secret\"]}$'": "$secret_b = 12$",
     "f'$shared\\\\_data = {shared_data}$'": "$shared\\_data = 24$"
    }
   },
   "source": [
    "{{f'$secret_b = {smc_data[\"b\"][\"secret\"]}$'}}  \n",
    "{{'$data_{decrypted} = %d$' % decrypted_data}}  \n",
    "{{f'$data_b = {b_data}$'}}   \n",
    "{{f'$shared\\\\_data = {shared_data}$'}}"
   ]
  },
  {
   "cell_type": "code",
   "execution_count": 10,
   "metadata": {
    "ExecuteTime": {
     "end_time": "2019-03-28T11:22:25.419131Z",
     "start_time": "2019-03-28T11:22:25.413226Z"
    }
   },
   "outputs": [],
   "source": [
    "decrypted_data = power_with_modulo(\n",
    "    shared_data, \n",
    "    smc_data['c']['rsa']['private']['d'], \n",
    "    smc_data['c']['rsa']['public']['n'],\n",
    ")\n",
    "c_data = decrypted_data + smc_data['c']['secret']\n",
    "shared_data = power_with_modulo(\n",
    "    c_data, \n",
    "    smc_data['a']['rsa']['public']['e'], \n",
    "    smc_data['a']['rsa']['public']['n'],\n",
    ")"
   ]
  },
  {
   "cell_type": "markdown",
   "metadata": {
    "variables": {
     "'$data_{decrypted} = %d$' % decrypted_data": "$data_{decrypted} = 33$",
     "f'$data_c = {c_data}$'": "$data_c = 44$",
     "f'$secret_c = {smc_data[\"c\"][\"secret\"]}$'": "$secret_c = 11$",
     "f'$shared\\\\_data = {shared_data}$'": "$shared\\_data = 18$"
    }
   },
   "source": [
    "{{f'$secret_c = {smc_data[\"c\"][\"secret\"]}$'}}  \n",
    "{{'$data_{decrypted} = %d$' % decrypted_data}}  \n",
    "{{f'$data_c = {c_data}$'}}   \n",
    "{{f'$shared\\\\_data = {shared_data}$'}}"
   ]
  },
  {
   "cell_type": "code",
   "execution_count": 11,
   "metadata": {
    "ExecuteTime": {
     "end_time": "2019-03-28T11:22:25.452590Z",
     "start_time": "2019-03-28T11:22:25.447899Z"
    }
   },
   "outputs": [],
   "source": [
    "decrypted_data = power_with_modulo(\n",
    "    shared_data, \n",
    "    smc_data['a']['rsa']['private']['d'], \n",
    "    smc_data['a']['rsa']['public']['n'],\n",
    ")\n",
    "final_data = (decrypted_data - a_x) % smc_data['a']['rsa']['public']['n']"
   ]
  },
  {
   "cell_type": "markdown",
   "metadata": {
    "variables": {
     "'$data_{decrypted} = %d$' % decrypted_data": "$data_{decrypted} = 44$",
     "'$data_{final} = %d$' % final_data": "$data_{final} = 24$",
     "f'$secret_a + secret_b + secret_c = {smc_data[\"a\"][\"secret\"] + smc_data[\"b\"][\"secret\"] +smc_data[\"c\"][\"secret\"]}$'": "$secret_a + secret_b + secret_c = 24$"
    }
   },
   "source": [
    "{{'$data_{decrypted} = %d$' % decrypted_data}}   \n",
    "{{'$data_{final} = %d$' % final_data}}  \n",
    "{{f'$secret_a + secret_b + secret_c = {smc_data[\"a\"][\"secret\"] + smc_data[\"b\"][\"secret\"] +smc_data[\"c\"][\"secret\"]}$'}}   "
   ]
  },
  {
   "cell_type": "markdown",
   "metadata": {},
   "source": [
    "## Разбиение секрета с использование гаммирования"
   ]
  },
  {
   "cell_type": "code",
   "execution_count": 12,
   "metadata": {
    "ExecuteTime": {
     "end_time": "2019-03-28T11:22:25.479009Z",
     "start_time": "2019-03-28T11:22:25.475182Z"
    }
   },
   "outputs": [
    {
     "name": "stdout",
     "output_type": "stream",
     "text": [
      "alk\n"
     ]
    }
   ],
   "source": [
    "ssg_data = LAST_NAME[:3]\n",
    "print(ssg_data)"
   ]
  },
  {
   "cell_type": "markdown",
   "metadata": {},
   "source": [
    "Кодирование секрета"
   ]
  },
  {
   "cell_type": "code",
   "execution_count": 13,
   "metadata": {
    "ExecuteTime": {
     "end_time": "2019-03-28T11:22:25.486160Z",
     "start_time": "2019-03-28T11:22:25.481848Z"
    }
   },
   "outputs": [],
   "source": [
    "def get_binary(word):\n",
    "    return list(map(lambda c: '{0:0>8b}'.format(c), word.encode('cp1251')))"
   ]
  },
  {
   "cell_type": "code",
   "execution_count": 14,
   "metadata": {
    "ExecuteTime": {
     "end_time": "2019-03-28T11:22:25.509743Z",
     "start_time": "2019-03-28T11:22:25.488593Z"
    }
   },
   "outputs": [
    {
     "data": {
      "text/html": [
       "<div>\n",
       "<style scoped>\n",
       "    .dataframe tbody tr th:only-of-type {\n",
       "        vertical-align: middle;\n",
       "    }\n",
       "\n",
       "    .dataframe tbody tr th {\n",
       "        vertical-align: top;\n",
       "    }\n",
       "\n",
       "    .dataframe thead th {\n",
       "        text-align: right;\n",
       "    }\n",
       "</style>\n",
       "<table border=\"1\" class=\"dataframe\">\n",
       "  <thead>\n",
       "    <tr style=\"text-align: right;\">\n",
       "      <th>Символ</th>\n",
       "      <th>a</th>\n",
       "      <th>l</th>\n",
       "      <th>k</th>\n",
       "    </tr>\n",
       "  </thead>\n",
       "  <tbody>\n",
       "    <tr>\n",
       "      <th>Бинарный код</th>\n",
       "      <td>01100001</td>\n",
       "      <td>01101100</td>\n",
       "      <td>01101011</td>\n",
       "    </tr>\n",
       "  </tbody>\n",
       "</table>\n",
       "</div>"
      ],
      "text/plain": [
       "Символ               a         l         k\n",
       "Бинарный код  01100001  01101100  01101011"
      ]
     },
     "execution_count": 14,
     "metadata": {},
     "output_type": "execute_result"
    }
   ],
   "source": [
    "pd.DataFrame({\n",
    "    'Символ': list(ssg_data),\n",
    "    'Бинарный код': get_binary(ssg_data)\n",
    "}).set_index('Символ').T"
   ]
  },
  {
   "cell_type": "code",
   "execution_count": 15,
   "metadata": {
    "ExecuteTime": {
     "end_time": "2019-03-28T11:22:25.515415Z",
     "start_time": "2019-03-28T11:22:25.511323Z"
    }
   },
   "outputs": [],
   "source": [
    "def get_gamma(size, seed):\n",
    "    random = np.random.RandomState(seed)\n",
    "    res = ''\n",
    "    for i in range(size):\n",
    "        res += chr(ord('a') + random.randint(0, 26))\n",
    "    return res"
   ]
  },
  {
   "cell_type": "code",
   "execution_count": 16,
   "metadata": {
    "ExecuteTime": {
     "end_time": "2019-03-28T11:22:25.522343Z",
     "start_time": "2019-03-28T11:22:25.517319Z"
    }
   },
   "outputs": [],
   "source": [
    "def get_gammas(n, size):\n",
    "    names = [f'Гамма{i + 1}' for i in range(n)]\n",
    "    values = [get_gamma(size, i) for i in range(n)]\n",
    "    bin_values = [get_binary(v) for v in values]\n",
    "    values = list(map(list , values))\n",
    "    values_title =  [f'{g} Символ {i + 1}' for i, g in enumerate(names)]\n",
    "    res = {}\n",
    "    for i, name in enumerate(names):\n",
    "        res[f'{name} Символ'] = values[i]\n",
    "        res[f'{name} Бинарный код'] = bin_values[i]\n",
    "    return res"
   ]
  },
  {
   "cell_type": "markdown",
   "metadata": {},
   "source": [
    "Генерация случайных гамм и передача их участникам."
   ]
  },
  {
   "cell_type": "code",
   "execution_count": 17,
   "metadata": {
    "ExecuteTime": {
     "end_time": "2019-03-28T11:22:25.538059Z",
     "start_time": "2019-03-28T11:22:25.524991Z"
    }
   },
   "outputs": [
    {
     "data": {
      "text/html": [
       "<div>\n",
       "<style scoped>\n",
       "    .dataframe tbody tr th:only-of-type {\n",
       "        vertical-align: middle;\n",
       "    }\n",
       "\n",
       "    .dataframe tbody tr th {\n",
       "        vertical-align: top;\n",
       "    }\n",
       "\n",
       "    .dataframe thead th {\n",
       "        text-align: right;\n",
       "    }\n",
       "</style>\n",
       "<table border=\"1\" class=\"dataframe\">\n",
       "  <thead>\n",
       "    <tr style=\"text-align: right;\">\n",
       "      <th>Символ</th>\n",
       "      <th>a</th>\n",
       "      <th>l</th>\n",
       "      <th>k</th>\n",
       "    </tr>\n",
       "  </thead>\n",
       "  <tbody>\n",
       "    <tr>\n",
       "      <th>Бинарный код</th>\n",
       "      <td>01100001</td>\n",
       "      <td>01101100</td>\n",
       "      <td>01101011</td>\n",
       "    </tr>\n",
       "    <tr>\n",
       "      <th>Гамма1 Символ</th>\n",
       "      <td>m</td>\n",
       "      <td>p</td>\n",
       "      <td>v</td>\n",
       "    </tr>\n",
       "    <tr>\n",
       "      <th>Гамма1 Бинарный код</th>\n",
       "      <td>01101101</td>\n",
       "      <td>01110000</td>\n",
       "      <td>01110110</td>\n",
       "    </tr>\n",
       "    <tr>\n",
       "      <th>Гамма2 Символ</th>\n",
       "      <td>f</td>\n",
       "      <td>l</td>\n",
       "      <td>m</td>\n",
       "    </tr>\n",
       "    <tr>\n",
       "      <th>Гамма2 Бинарный код</th>\n",
       "      <td>01100110</td>\n",
       "      <td>01101100</td>\n",
       "      <td>01101101</td>\n",
       "    </tr>\n",
       "    <tr>\n",
       "      <th>Гамма3 Символ</th>\n",
       "      <td>i</td>\n",
       "      <td>p</td>\n",
       "      <td>n</td>\n",
       "    </tr>\n",
       "    <tr>\n",
       "      <th>Гамма3 Бинарный код</th>\n",
       "      <td>01101001</td>\n",
       "      <td>01110000</td>\n",
       "      <td>01101110</td>\n",
       "    </tr>\n",
       "  </tbody>\n",
       "</table>\n",
       "</div>"
      ],
      "text/plain": [
       "Символ                      a         l         k\n",
       "Бинарный код         01100001  01101100  01101011\n",
       "Гамма1 Символ               m         p         v\n",
       "Гамма1 Бинарный код  01101101  01110000  01110110\n",
       "Гамма2 Символ               f         l         m\n",
       "Гамма2 Бинарный код  01100110  01101100  01101101\n",
       "Гамма3 Символ               i         p         n\n",
       "Гамма3 Бинарный код  01101001  01110000  01101110"
      ]
     },
     "execution_count": 17,
     "metadata": {},
     "output_type": "execute_result"
    }
   ],
   "source": [
    "ssg_df = pd.DataFrame({\n",
    "    'Символ': list(ssg_data),\n",
    "    'Бинарный код': get_binary(ssg_data),\n",
    "    **get_gammas(3, len(ssg_data))\n",
    "}).set_index('Символ').T\n",
    "ssg_df"
   ]
  },
  {
   "cell_type": "markdown",
   "metadata": {},
   "source": [
    "Получение шифрограммы и выкладывание её в доступное для участников место."
   ]
  },
  {
   "cell_type": "code",
   "execution_count": 18,
   "metadata": {
    "ExecuteTime": {
     "end_time": "2019-03-28T11:22:25.550166Z",
     "start_time": "2019-03-28T11:22:25.543109Z"
    }
   },
   "outputs": [],
   "source": [
    "def get_cipher(data):\n",
    "    res = []\n",
    "    for row in data:\n",
    "        n = len(row[0])\n",
    "        cur = np.zeros((n,), dtype=int)\n",
    "        for i in range(n):\n",
    "            for v in row:\n",
    "                cur[i] = (cur[i] + int(v[i])) % 2\n",
    "        res.append(''.join(map(str, cur)))   \n",
    "    return np.array(res)"
   ]
  },
  {
   "cell_type": "code",
   "execution_count": 19,
   "metadata": {
    "ExecuteTime": {
     "end_time": "2019-03-28T11:22:25.557705Z",
     "start_time": "2019-03-28T11:22:25.552372Z"
    }
   },
   "outputs": [
    {
     "data": {
      "text/plain": [
       "array(['00000011', '00000000', '00011110'], dtype='<U8')"
      ]
     },
     "execution_count": 19,
     "metadata": {},
     "output_type": "execute_result"
    }
   ],
   "source": [
    "cipher = get_cipher(ssg_df.values[::2].T)\n",
    "cipher"
   ]
  },
  {
   "cell_type": "code",
   "execution_count": 20,
   "metadata": {
    "ExecuteTime": {
     "end_time": "2019-03-28T11:22:25.575313Z",
     "start_time": "2019-03-28T11:22:25.560364Z"
    }
   },
   "outputs": [
    {
     "data": {
      "text/html": [
       "<div>\n",
       "<style scoped>\n",
       "    .dataframe tbody tr th:only-of-type {\n",
       "        vertical-align: middle;\n",
       "    }\n",
       "\n",
       "    .dataframe tbody tr th {\n",
       "        vertical-align: top;\n",
       "    }\n",
       "\n",
       "    .dataframe thead th {\n",
       "        text-align: right;\n",
       "    }\n",
       "</style>\n",
       "<table border=\"1\" class=\"dataframe\">\n",
       "  <thead>\n",
       "    <tr style=\"text-align: right;\">\n",
       "      <th>Символ</th>\n",
       "      <th>a</th>\n",
       "      <th>l</th>\n",
       "      <th>k</th>\n",
       "    </tr>\n",
       "  </thead>\n",
       "  <tbody>\n",
       "    <tr>\n",
       "      <th>Бинарный код</th>\n",
       "      <td>01100001</td>\n",
       "      <td>01101100</td>\n",
       "      <td>01101011</td>\n",
       "    </tr>\n",
       "    <tr>\n",
       "      <th>Гамма1 Символ</th>\n",
       "      <td>m</td>\n",
       "      <td>p</td>\n",
       "      <td>v</td>\n",
       "    </tr>\n",
       "    <tr>\n",
       "      <th>Гамма1 Бинарный код</th>\n",
       "      <td>01101101</td>\n",
       "      <td>01110000</td>\n",
       "      <td>01110110</td>\n",
       "    </tr>\n",
       "    <tr>\n",
       "      <th>Гамма2 Символ</th>\n",
       "      <td>f</td>\n",
       "      <td>l</td>\n",
       "      <td>m</td>\n",
       "    </tr>\n",
       "    <tr>\n",
       "      <th>Гамма2 Бинарный код</th>\n",
       "      <td>01100110</td>\n",
       "      <td>01101100</td>\n",
       "      <td>01101101</td>\n",
       "    </tr>\n",
       "    <tr>\n",
       "      <th>Гамма3 Символ</th>\n",
       "      <td>i</td>\n",
       "      <td>p</td>\n",
       "      <td>n</td>\n",
       "    </tr>\n",
       "    <tr>\n",
       "      <th>Гамма3 Бинарный код</th>\n",
       "      <td>01101001</td>\n",
       "      <td>01110000</td>\n",
       "      <td>01101110</td>\n",
       "    </tr>\n",
       "    <tr>\n",
       "      <th>Шифрограммы</th>\n",
       "      <td>00000011</td>\n",
       "      <td>00000000</td>\n",
       "      <td>00011110</td>\n",
       "    </tr>\n",
       "  </tbody>\n",
       "</table>\n",
       "</div>"
      ],
      "text/plain": [
       "Символ                      a         l         k\n",
       "Бинарный код         01100001  01101100  01101011\n",
       "Гамма1 Символ               m         p         v\n",
       "Гамма1 Бинарный код  01101101  01110000  01110110\n",
       "Гамма2 Символ               f         l         m\n",
       "Гамма2 Бинарный код  01100110  01101100  01101101\n",
       "Гамма3 Символ               i         p         n\n",
       "Гамма3 Бинарный код  01101001  01110000  01101110\n",
       "Шифрограммы          00000011  00000000  00011110"
      ]
     },
     "execution_count": 20,
     "metadata": {},
     "output_type": "execute_result"
    }
   ],
   "source": [
    "ssgc_df = ssg_df.T.assign(Шифрограммы=cipher).T\n",
    "ssgc_df"
   ]
  },
  {
   "cell_type": "markdown",
   "metadata": {
    "ExecuteTime": {
     "end_time": "2019-03-28T07:04:03.297087Z",
     "start_time": "2019-03-28T07:04:03.292316Z"
    }
   },
   "source": [
    "Восстановление кода"
   ]
  },
  {
   "cell_type": "code",
   "execution_count": 21,
   "metadata": {
    "ExecuteTime": {
     "end_time": "2019-03-28T11:22:25.583710Z",
     "start_time": "2019-03-28T11:22:25.578408Z"
    }
   },
   "outputs": [
    {
     "data": {
      "text/plain": [
       "array([['01101101', '01110000', '01110110'],\n",
       "       ['01100110', '01101100', '01101101'],\n",
       "       ['01101001', '01110000', '01101110']], dtype=object)"
      ]
     },
     "execution_count": 21,
     "metadata": {},
     "output_type": "execute_result"
    }
   ],
   "source": [
    "gammas = ssg_df.values[2::2]\n",
    "gammas"
   ]
  },
  {
   "cell_type": "code",
   "execution_count": 22,
   "metadata": {
    "ExecuteTime": {
     "end_time": "2019-03-28T11:22:25.590683Z",
     "start_time": "2019-03-28T11:22:25.586124Z"
    }
   },
   "outputs": [
    {
     "data": {
      "text/plain": [
       "array(['00000011', '00000000', '00011110'], dtype='<U8')"
      ]
     },
     "execution_count": 22,
     "metadata": {},
     "output_type": "execute_result"
    }
   ],
   "source": [
    "cipher"
   ]
  },
  {
   "cell_type": "code",
   "execution_count": 23,
   "metadata": {
    "ExecuteTime": {
     "end_time": "2019-03-28T11:22:25.597723Z",
     "start_time": "2019-03-28T11:22:25.592545Z"
    }
   },
   "outputs": [
    {
     "data": {
      "text/plain": [
       "array(['01100001', '01101100', '01101011'], dtype='<U8')"
      ]
     },
     "execution_count": 23,
     "metadata": {},
     "output_type": "execute_result"
    }
   ],
   "source": [
    "bin_decodes = get_cipher(np.vstack((gammas, cipher)).T)\n",
    "bin_decodes"
   ]
  },
  {
   "cell_type": "code",
   "execution_count": 24,
   "metadata": {
    "ExecuteTime": {
     "end_time": "2019-03-28T11:22:25.605988Z",
     "start_time": "2019-03-28T11:22:25.599872Z"
    }
   },
   "outputs": [
    {
     "data": {
      "text/plain": [
       "[97, 108, 107]"
      ]
     },
     "execution_count": 24,
     "metadata": {},
     "output_type": "execute_result"
    }
   ],
   "source": [
    "decodes = list(map(lambda x: int(x, 2), get_cipher(np.vstack((gammas, cipher)).T)))\n",
    "decodes"
   ]
  },
  {
   "cell_type": "code",
   "execution_count": 25,
   "metadata": {
    "ExecuteTime": {
     "end_time": "2019-03-28T11:22:25.612884Z",
     "start_time": "2019-03-28T11:22:25.608247Z"
    }
   },
   "outputs": [
    {
     "data": {
      "text/plain": [
       "'alk'"
      ]
     },
     "execution_count": 25,
     "metadata": {},
     "output_type": "execute_result"
    }
   ],
   "source": [
    "bytes(decodes).decode('cp1251')"
   ]
  },
  {
   "cell_type": "markdown",
   "metadata": {},
   "source": [
    "### Разделение секрета по схеме Шамира (интерполяционных полиномов Лагранжа)"
   ]
  },
  {
   "cell_type": "code",
   "execution_count": 26,
   "metadata": {
    "ExecuteTime": {
     "end_time": "2019-03-28T11:22:25.649807Z",
     "start_time": "2019-03-28T11:22:25.645569Z"
    }
   },
   "outputs": [
    {
     "data": {
      "text/plain": [
       "1"
      ]
     },
     "execution_count": 26,
     "metadata": {},
     "output_type": "execute_result"
    }
   ],
   "source": [
    "secret = ord(LAST_NAME[0]) - ord('a') + 1\n",
    "secret"
   ]
  },
  {
   "cell_type": "markdown",
   "metadata": {},
   "source": [
    "Количество долей, необходимых для восстановления секрета"
   ]
  },
  {
   "cell_type": "code",
   "execution_count": 27,
   "metadata": {
    "ExecuteTime": {
     "end_time": "2019-03-28T11:22:25.703952Z",
     "start_time": "2019-03-28T11:22:25.701485Z"
    }
   },
   "outputs": [],
   "source": [
    "m = 3"
   ]
  },
  {
   "cell_type": "markdown",
   "metadata": {},
   "source": [
    "Общее количество долей"
   ]
  },
  {
   "cell_type": "code",
   "execution_count": 28,
   "metadata": {
    "ExecuteTime": {
     "end_time": "2019-03-28T11:22:25.763585Z",
     "start_time": "2019-03-28T11:22:25.760862Z"
    }
   },
   "outputs": [],
   "source": [
    "n = 5"
   ]
  },
  {
   "cell_type": "markdown",
   "metadata": {
    "ExecuteTime": {
     "end_time": "2019-03-28T08:47:10.029767Z",
     "start_time": "2019-03-28T08:47:10.026930Z"
    }
   },
   "source": [
    "#### Процедура определения и распределения долей\n",
    "Выполняет владелец"
   ]
  },
  {
   "cell_type": "markdown",
   "metadata": {
    "ExecuteTime": {
     "end_time": "2019-03-28T08:47:40.347014Z",
     "start_time": "2019-03-28T08:47:40.340155Z"
    }
   },
   "source": [
    "Выбор простого числа $p$, которое больше количества долей $n$ и секрета $S$."
   ]
  },
  {
   "cell_type": "code",
   "execution_count": 29,
   "metadata": {
    "ExecuteTime": {
     "end_time": "2019-03-28T11:22:25.873973Z",
     "start_time": "2019-03-28T11:22:25.871803Z"
    }
   },
   "outputs": [],
   "source": [
    "p = 59"
   ]
  },
  {
   "cell_type": "markdown",
   "metadata": {},
   "source": [
    "Выбор произвольного многочлена степени $m-1 : f(x) = (а_2*х_2 + a_1*x + S) \\bmod p$, где значения $а_2$ и $a_1$ выбираются случайным образом, хранятся в тайне и отбрасываются после распределения долей."
   ]
  },
  {
   "cell_type": "code",
   "execution_count": 30,
   "metadata": {
    "ExecuteTime": {
     "end_time": "2019-03-28T11:22:25.928068Z",
     "start_time": "2019-03-28T11:22:25.923896Z"
    }
   },
   "outputs": [],
   "source": [
    "a = [10, 23, secret]\n",
    "f = lambda x: sum(c*v**(len(x) - i) for i, (c, v) in enumerate(zip(a, list(x) + [1]))) % p"
   ]
  },
  {
   "cell_type": "markdown",
   "metadata": {},
   "source": [
    "Определение долей $(x_i, y_i)$, где $y_i = f(x_i)$ и $x_i = i + 1$."
   ]
  },
  {
   "cell_type": "code",
   "execution_count": 31,
   "metadata": {
    "ExecuteTime": {
     "end_time": "2019-03-28T11:22:25.982628Z",
     "start_time": "2019-03-28T11:22:25.976895Z"
    }
   },
   "outputs": [
    {
     "data": {
      "text/plain": [
       "array([1, 2, 3, 4, 5])"
      ]
     },
     "execution_count": 31,
     "metadata": {},
     "output_type": "execute_result"
    }
   ],
   "source": [
    "x = np.arange(1, n + 1)\n",
    "x"
   ]
  },
  {
   "cell_type": "code",
   "execution_count": 32,
   "metadata": {
    "ExecuteTime": {
     "end_time": "2019-03-28T11:22:25.990528Z",
     "start_time": "2019-03-28T11:22:25.985158Z"
    }
   },
   "outputs": [
    {
     "data": {
      "text/plain": [
       "[34, 28, 42, 17, 12]"
      ]
     },
     "execution_count": 32,
     "metadata": {},
     "output_type": "execute_result"
    }
   ],
   "source": [
    "y = list(map(f, [(v, v) for v in x]))\n",
    "y"
   ]
  },
  {
   "cell_type": "markdown",
   "metadata": {},
   "source": [
    "Публикация $p$ и распределение долей $(x_i, y_i)$ между участниками."
   ]
  },
  {
   "cell_type": "code",
   "execution_count": 33,
   "metadata": {
    "ExecuteTime": {
     "end_time": "2019-03-28T11:22:26.038839Z",
     "start_time": "2019-03-28T11:22:26.034286Z"
    }
   },
   "outputs": [
    {
     "data": {
      "text/plain": [
       "(array([[ 1, 34],\n",
       "        [ 2, 28],\n",
       "        [ 3, 42],\n",
       "        [ 4, 17],\n",
       "        [ 5, 12]]), 59)"
      ]
     },
     "execution_count": 33,
     "metadata": {},
     "output_type": "execute_result"
    }
   ],
   "source": [
    "xy = np.array([x, y]).T\n",
    "xy, p"
   ]
  },
  {
   "cell_type": "markdown",
   "metadata": {},
   "source": [
    "#### Процедура восстановления секрета\n",
    "Выполняют участники"
   ]
  },
  {
   "cell_type": "markdown",
   "metadata": {
    "ExecuteTime": {
     "end_time": "2019-03-28T09:01:21.801918Z",
     "start_time": "2019-03-28T09:01:21.797201Z"
    }
   },
   "source": [
    "Сбор $m$ долей"
   ]
  },
  {
   "cell_type": "code",
   "execution_count": 34,
   "metadata": {
    "ExecuteTime": {
     "end_time": "2019-03-28T11:22:26.144709Z",
     "start_time": "2019-03-28T11:22:26.140224Z"
    }
   },
   "outputs": [
    {
     "data": {
      "text/plain": [
       "array([[ 2, 28],\n",
       "       [ 3, 42],\n",
       "       [ 5, 12]])"
      ]
     },
     "execution_count": 34,
     "metadata": {},
     "output_type": "execute_result"
    }
   ],
   "source": [
    "parts = xy[[1, 2, 4]]\n",
    "parts"
   ]
  },
  {
   "cell_type": "markdown",
   "metadata": {},
   "source": [
    "Получение полинома Лагранжа"
   ]
  },
  {
   "cell_type": "code",
   "execution_count": 35,
   "metadata": {
    "ExecuteTime": {
     "end_time": "2019-03-28T11:22:26.195319Z",
     "start_time": "2019-03-28T11:22:26.191368Z"
    }
   },
   "outputs": [],
   "source": [
    "l = lagrange(parts[:, 0], parts[:, 1])"
   ]
  },
  {
   "cell_type": "markdown",
   "metadata": {},
   "source": [
    "Вычисление $s^\\prime$"
   ]
  },
  {
   "cell_type": "code",
   "execution_count": 36,
   "metadata": {
    "ExecuteTime": {
     "end_time": "2019-03-28T11:22:26.249912Z",
     "start_time": "2019-03-28T11:22:26.243714Z"
    }
   },
   "outputs": [
    {
     "data": {
      "text/plain": [
       "1"
      ]
     },
     "execution_count": 36,
     "metadata": {},
     "output_type": "execute_result"
    }
   ],
   "source": [
    "s_prime = int(Polynomial(np.mod(lagrange(parts[:, 0], parts[:, 1]), 59)).coef[2]) % p\n",
    "s_prime"
   ]
  },
  {
   "cell_type": "markdown",
   "metadata": {},
   "source": [
    "### Разделение секрета по схеме Асмута-Блума"
   ]
  },
  {
   "cell_type": "code",
   "execution_count": 37,
   "metadata": {
    "ExecuteTime": {
     "end_time": "2019-03-28T11:22:26.299657Z",
     "start_time": "2019-03-28T11:22:26.294614Z"
    }
   },
   "outputs": [
    {
     "data": {
      "text/plain": [
       "1"
      ]
     },
     "execution_count": 37,
     "metadata": {},
     "output_type": "execute_result"
    }
   ],
   "source": [
    "secret = ord(LAST_NAME[0]) - ord('a') + 1\n",
    "secret"
   ]
  },
  {
   "cell_type": "markdown",
   "metadata": {
    "ExecuteTime": {
     "end_time": "2019-03-28T10:49:06.380139Z",
     "start_time": "2019-03-28T10:49:06.371592Z"
    }
   },
   "source": [
    "Количество долей, необходимых для восстановления секрета"
   ]
  },
  {
   "cell_type": "code",
   "execution_count": 38,
   "metadata": {
    "ExecuteTime": {
     "end_time": "2019-03-28T11:22:26.347776Z",
     "start_time": "2019-03-28T11:22:26.345568Z"
    }
   },
   "outputs": [],
   "source": [
    "m = 3"
   ]
  },
  {
   "cell_type": "markdown",
   "metadata": {
    "ExecuteTime": {
     "end_time": "2019-03-28T10:49:06.614792Z",
     "start_time": "2019-03-28T10:49:06.610487Z"
    }
   },
   "source": [
    "Общее количество долей"
   ]
  },
  {
   "cell_type": "code",
   "execution_count": 39,
   "metadata": {
    "ExecuteTime": {
     "end_time": "2019-03-28T11:22:26.397077Z",
     "start_time": "2019-03-28T11:22:26.394861Z"
    }
   },
   "outputs": [],
   "source": [
    "n = 5"
   ]
  },
  {
   "cell_type": "markdown",
   "metadata": {},
   "source": [
    "#### Процедура определения и распределения долей\n",
    "Выполняет владелец"
   ]
  },
  {
   "cell_type": "code",
   "execution_count": 40,
   "metadata": {
    "ExecuteTime": {
     "end_time": "2019-03-28T11:22:26.447506Z",
     "start_time": "2019-03-28T11:22:26.445254Z"
    }
   },
   "outputs": [],
   "source": [
    "p = 13"
   ]
  },
  {
   "cell_type": "markdown",
   "metadata": {},
   "source": [
    "Выбор $n$ взаимно простых чисел $d_i$, удовлетворяющих условиям:\n",
    "- $d_i > p$\n",
    "- $d_i < d_i+1$\n",
    "- $d_1 * d_2 * … * d_m < p * d_{n-m+2} * d_{n-m+3} * … * d_n$"
   ]
  },
  {
   "cell_type": "code",
   "execution_count": 41,
   "metadata": {
    "ExecuteTime": {
     "end_time": "2019-03-28T11:22:26.498209Z",
     "start_time": "2019-03-28T11:22:26.493906Z"
    }
   },
   "outputs": [
    {
     "data": {
      "text/plain": [
       "[17, 20, 23, 29, 37]"
      ]
     },
     "execution_count": 41,
     "metadata": {},
     "output_type": "execute_result"
    }
   ],
   "source": [
    "d = [17, 20, 23, 29, 37]\n",
    "d"
   ]
  },
  {
   "cell_type": "markdown",
   "metadata": {},
   "source": [
    "Выбор произвольного числа $r$, удовлетворяющего условию\n",
    "$$\n",
    "r < \\frac{\\prod_{i=1}^m{d_i}-S}{p}\n",
    "$$"
   ]
  },
  {
   "cell_type": "code",
   "execution_count": 42,
   "metadata": {
    "ExecuteTime": {
     "end_time": "2019-03-28T11:22:26.543139Z",
     "start_time": "2019-03-28T11:22:26.540925Z"
    }
   },
   "outputs": [],
   "source": [
    "r = 30"
   ]
  },
  {
   "cell_type": "markdown",
   "metadata": {
    "ExecuteTime": {
     "end_time": "2019-03-28T10:56:31.345733Z",
     "start_time": "2019-03-28T10:56:31.340921Z"
    }
   },
   "source": [
    "Вычисление $S^\\prime = S + r*p$."
   ]
  },
  {
   "cell_type": "code",
   "execution_count": 43,
   "metadata": {
    "ExecuteTime": {
     "end_time": "2019-03-28T11:22:26.590858Z",
     "start_time": "2019-03-28T11:22:26.587076Z"
    }
   },
   "outputs": [
    {
     "data": {
      "text/plain": [
       "391"
      ]
     },
     "execution_count": 43,
     "metadata": {},
     "output_type": "execute_result"
    }
   ],
   "source": [
    "secret_prime = secret + r * p\n",
    "secret_prime"
   ]
  },
  {
   "cell_type": "markdown",
   "metadata": {
    "ExecuteTime": {
     "end_time": "2019-03-28T10:57:30.674599Z",
     "start_time": "2019-03-28T10:57:30.669315Z"
    }
   },
   "source": [
    "Определение долей $(d_i, k_i)$, где $k_i = S^\\prime \\bmod d_i$."
   ]
  },
  {
   "cell_type": "code",
   "execution_count": 44,
   "metadata": {
    "ExecuteTime": {
     "end_time": "2019-03-28T11:22:26.639503Z",
     "start_time": "2019-03-28T11:22:26.633848Z"
    }
   },
   "outputs": [
    {
     "data": {
      "text/plain": [
       "[0, 11, 0, 14, 21]"
      ]
     },
     "execution_count": 44,
     "metadata": {},
     "output_type": "execute_result"
    }
   ],
   "source": [
    "k = list(map(lambda d_i: secret_prime % d_i, d))\n",
    "k"
   ]
  },
  {
   "cell_type": "code",
   "execution_count": 45,
   "metadata": {
    "ExecuteTime": {
     "end_time": "2019-03-28T11:22:26.647379Z",
     "start_time": "2019-03-28T11:22:26.642159Z"
    }
   },
   "outputs": [
    {
     "data": {
      "text/plain": [
       "array([[17,  0],\n",
       "       [20, 11],\n",
       "       [23,  0],\n",
       "       [29, 14],\n",
       "       [37, 21]])"
      ]
     },
     "execution_count": 45,
     "metadata": {},
     "output_type": "execute_result"
    }
   ],
   "source": [
    "dk = np.array([d, k]).T\n",
    "dk"
   ]
  },
  {
   "cell_type": "markdown",
   "metadata": {},
   "source": [
    "Публикация $p$ и распределение долей $(d_i, k_i)$ между участниками."
   ]
  },
  {
   "cell_type": "code",
   "execution_count": 46,
   "metadata": {
    "ExecuteTime": {
     "end_time": "2019-03-28T11:22:26.688715Z",
     "start_time": "2019-03-28T11:22:26.684754Z"
    }
   },
   "outputs": [
    {
     "data": {
      "text/plain": [
       "(array([[17,  0],\n",
       "        [20, 11],\n",
       "        [23,  0],\n",
       "        [29, 14],\n",
       "        [37, 21]]), 13)"
      ]
     },
     "execution_count": 46,
     "metadata": {},
     "output_type": "execute_result"
    }
   ],
   "source": [
    "dk, p"
   ]
  },
  {
   "cell_type": "markdown",
   "metadata": {},
   "source": [
    "#### Процедура восстановления секрета\n",
    "Выполняют участники"
   ]
  },
  {
   "cell_type": "markdown",
   "metadata": {
    "ExecuteTime": {
     "end_time": "2019-03-28T11:03:02.208831Z",
     "start_time": "2019-03-28T11:03:02.204260Z"
    }
   },
   "source": [
    "Сбор $m$ долей."
   ]
  },
  {
   "cell_type": "code",
   "execution_count": 47,
   "metadata": {
    "ExecuteTime": {
     "end_time": "2019-03-28T11:22:26.779642Z",
     "start_time": "2019-03-28T11:22:26.775339Z"
    }
   },
   "outputs": [
    {
     "data": {
      "text/plain": [
       "array([[20, 11],\n",
       "       [23,  0],\n",
       "       [37, 21]])"
      ]
     },
     "execution_count": 47,
     "metadata": {},
     "output_type": "execute_result"
    }
   ],
   "source": [
    "parts = dk[[1, 2, 4]]\n",
    "parts"
   ]
  },
  {
   "cell_type": "markdown",
   "metadata": {},
   "source": [
    "Вычисление произведения $D$ взаимно простых чисел $d_j$."
   ]
  },
  {
   "cell_type": "code",
   "execution_count": 48,
   "metadata": {
    "ExecuteTime": {
     "end_time": "2019-03-28T11:22:26.824474Z",
     "start_time": "2019-03-28T11:22:26.820440Z"
    }
   },
   "outputs": [
    {
     "data": {
      "text/plain": [
       "17020"
      ]
     },
     "execution_count": 48,
     "metadata": {},
     "output_type": "execute_result"
    }
   ],
   "source": [
    "prod_d = np.prod(parts[:, 0])\n",
    "prod_d"
   ]
  },
  {
   "cell_type": "markdown",
   "metadata": {
    "ExecuteTime": {
     "end_time": "2019-03-28T11:05:44.245560Z",
     "start_time": "2019-03-28T11:05:44.240782Z"
    }
   },
   "source": [
    "Вычисление сомножителей $D_j = D / d_j$."
   ]
  },
  {
   "cell_type": "code",
   "execution_count": 49,
   "metadata": {
    "ExecuteTime": {
     "end_time": "2019-03-28T11:22:26.872527Z",
     "start_time": "2019-03-28T11:22:26.866334Z"
    }
   },
   "outputs": [
    {
     "data": {
      "text/plain": [
       "array([851, 740, 460])"
      ]
     },
     "execution_count": 49,
     "metadata": {},
     "output_type": "execute_result"
    }
   ],
   "source": [
    "prods = np.array([prod_d] * 3, dtype=int) // parts[:, 0]\n",
    "prods"
   ]
  },
  {
   "cell_type": "markdown",
   "metadata": {
    "ExecuteTime": {
     "end_time": "2019-03-28T11:09:27.835681Z",
     "start_time": "2019-03-28T11:09:27.830896Z"
    }
   },
   "source": [
    "Определение обратных чисел $D_j^{-1}$ по модулям $d_j$."
   ]
  },
  {
   "cell_type": "code",
   "execution_count": 50,
   "metadata": {
    "ExecuteTime": {
     "end_time": "2019-03-28T11:22:26.920776Z",
     "start_time": "2019-03-28T11:22:26.916736Z"
    }
   },
   "outputs": [
    {
     "data": {
      "text/plain": [
       "[11, 6, 7]"
      ]
     },
     "execution_count": 50,
     "metadata": {},
     "output_type": "execute_result"
    }
   ],
   "source": [
    "inv_prods = list(map(lambda e: rev_element_by_modulo(*e), zip(prods, parts[:, 0])))\n",
    "inv_prods"
   ]
  },
  {
   "cell_type": "markdown",
   "metadata": {
    "ExecuteTime": {
     "end_time": "2019-03-28T11:11:04.569792Z",
     "start_time": "2019-03-28T11:11:04.565293Z"
    }
   },
   "source": [
    "Вычисление $S^\\prime = (\\sum{k_j*D_j*D_j^{-1}}) \\bmod D$."
   ]
  },
  {
   "cell_type": "code",
   "execution_count": 51,
   "metadata": {
    "ExecuteTime": {
     "end_time": "2019-03-28T11:22:26.965593Z",
     "start_time": "2019-03-28T11:22:26.960564Z"
    }
   },
   "outputs": [
    {
     "data": {
      "text/plain": [
       "391"
      ]
     },
     "execution_count": 51,
     "metadata": {},
     "output_type": "execute_result"
    }
   ],
   "source": [
    "secret_prime = sum(map(np.prod, zip(parts[:, 1], prods, inv_prods))) % prod_d\n",
    "secret_prime"
   ]
  },
  {
   "cell_type": "markdown",
   "metadata": {},
   "source": [
    "Определение секрета $S = S^\\prime \\bmod p$"
   ]
  },
  {
   "cell_type": "code",
   "execution_count": 52,
   "metadata": {
    "ExecuteTime": {
     "end_time": "2019-03-28T11:22:27.007076Z",
     "start_time": "2019-03-28T11:22:27.002968Z"
    }
   },
   "outputs": [
    {
     "data": {
      "text/plain": [
       "1"
      ]
     },
     "execution_count": 52,
     "metadata": {},
     "output_type": "execute_result"
    }
   ],
   "source": [
    "secret_c = secret_prime % p\n",
    "secret_c"
   ]
  }
 ],
 "metadata": {
  "kernelspec": {
   "display_name": "Python 3",
   "language": "python",
   "name": "python3"
  },
  "language_info": {
   "codemirror_mode": {
    "name": "ipython",
    "version": 3
   },
   "file_extension": ".py",
   "mimetype": "text/x-python",
   "name": "python",
   "nbconvert_exporter": "python",
   "pygments_lexer": "ipython3",
   "version": "3.6.5"
  }
 },
 "nbformat": 4,
 "nbformat_minor": 2
}
