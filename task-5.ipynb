{
 "cells": [
  {
   "cell_type": "markdown",
   "metadata": {},
   "source": [
    "# Практическая работа № 5 «Тайные многосторонние вычисления и разделение секрета»\n",
    " \n",
    "В практической работе необходимо привести последовательность выполнения следующих протоколов:\n",
    "- тайных многосторонних вычислений для расчета средней величины трех чисел. В качестве исходных данных принять коды 1-ой, 2-ой и 3-ей буквы своей фамилии согласно их положению в алфавите;\n",
    "- разбиения секрета с использование гаммирования для трех участников. В качестве секрета принять первые 3 буквы фамилии, для гамм - любые трехбуквенные сочетания;\n",
    "- разделения секрета по схеме Шамира для (3, 5)-пороговой схемы. В качестве секрета S принять код 1-ой буквы своей фамилии согласно ее положению в алфавите;\n",
    "- разделения секрета по схеме Асмута-Блума для (3, 5)-пороговой схемы. В качестве секрета S принять код 1-ой буквы своей фамилии согласно ее положению в алфавите.\n",
    "\n",
    "При оформлении отчета необходимо привести исходные данные и таблицы, содержащие последовательность выполнения протоколов. Отчет необходимо загрузить в edu.susu.ru\n"
   ]
  },
  {
   "cell_type": "code",
   "execution_count": 1,
   "metadata": {
    "ExecuteTime": {
     "end_time": "2019-03-28T05:06:05.495768Z",
     "start_time": "2019-03-28T05:06:04.717562Z"
    }
   },
   "outputs": [],
   "source": [
    "import json\n",
    "\n",
    "import numpy as np\n",
    "import pandas as pd"
   ]
  },
  {
   "cell_type": "code",
   "execution_count": 2,
   "metadata": {
    "ExecuteTime": {
     "end_time": "2019-03-28T05:06:09.035537Z",
     "start_time": "2019-03-28T05:06:09.024869Z"
    }
   },
   "outputs": [],
   "source": [
    "with open('instance/settings.json') as f:\n",
    "    settings = json.load(f)\n",
    "    LAST_NAME = settings['last_name']\n",
    "    FIRST_NAME = settings['first_name']\n",
    "    PATRONYMIC = settings['patronymic']"
   ]
  },
  {
   "cell_type": "code",
   "execution_count": 28,
   "metadata": {
    "ExecuteTime": {
     "end_time": "2019-03-28T05:39:13.792955Z",
     "start_time": "2019-03-28T05:39:13.787908Z"
    }
   },
   "outputs": [],
   "source": [
    "def power_with_modulo(a, n, m):\n",
    "    res = 1\n",
    "    while n > 0:\n",
    "        if (n & 1) == 1:\n",
    "            res = (res * a) % m\n",
    "        a = (a * a) % m\n",
    "        n >>= 1\n",
    "    return res"
   ]
  },
  {
   "cell_type": "markdown",
   "metadata": {},
   "source": [
    "## Тайные многосторонние вычисления"
   ]
  },
  {
   "cell_type": "code",
   "execution_count": 21,
   "metadata": {
    "ExecuteTime": {
     "end_time": "2019-03-28T05:29:19.749103Z",
     "start_time": "2019-03-28T05:29:19.744548Z"
    }
   },
   "outputs": [],
   "source": [
    "def rsa_generator():\n",
    "    keys = [\n",
    "        [5, 91, 29],\n",
    "        [7, 91, 31],\n",
    "        [17, 91, 17],\n",
    "    ]\n",
    "    for e, n, d in keys:\n",
    "        yield {'public': {'e': e, 'n': n}, 'private': {'d': d}}"
   ]
  },
  {
   "cell_type": "code",
   "execution_count": 23,
   "metadata": {
    "ExecuteTime": {
     "end_time": "2019-03-28T05:29:26.926988Z",
     "start_time": "2019-03-28T05:29:26.921154Z"
    },
    "scrolled": true
   },
   "outputs": [
    {
     "name": "stdout",
     "output_type": "stream",
     "text": [
      "{\n",
      "    \"a\": {\n",
      "        \"secret\": 1,\n",
      "        \"rsa\": {\n",
      "            \"public\": {\n",
      "                \"e\": 5,\n",
      "                \"n\": 91\n",
      "            },\n",
      "            \"private\": {\n",
      "                \"d\": 29\n",
      "            }\n",
      "        }\n",
      "    },\n",
      "    \"b\": {\n",
      "        \"secret\": 12,\n",
      "        \"rsa\": {\n",
      "            \"public\": {\n",
      "                \"e\": 7,\n",
      "                \"n\": 91\n",
      "            },\n",
      "            \"private\": {\n",
      "                \"d\": 31\n",
      "            }\n",
      "        }\n",
      "    },\n",
      "    \"c\": {\n",
      "        \"secret\": 11,\n",
      "        \"rsa\": {\n",
      "            \"public\": {\n",
      "                \"e\": 17,\n",
      "                \"n\": 91\n",
      "            },\n",
      "            \"private\": {\n",
      "                \"d\": 17\n",
      "            }\n",
      "        }\n",
      "    }\n",
      "}\n"
     ]
    }
   ],
   "source": [
    "smc_data = list(map(lambda c: ord(c) - ord('a') + 1, LAST_NAME[:3]))\n",
    "smc_data = {k: {'secret': v, 'rsa': rsa} for k, v, rsa in zip('abc', smc_data, rsa_generator())}\n",
    "print(json.dumps(smc_data, indent=4))"
   ]
  },
  {
   "cell_type": "markdown",
   "metadata": {
    "ExecuteTime": {
     "end_time": "2019-03-28T05:11:47.766198Z",
     "start_time": "2019-03-28T05:11:47.760699Z"
    }
   },
   "source": [
    "<b>A</b> прибавляет случайное секретное число $x$ к своему секрету, шифрует результат с помощью открытого ключа <b>B</b> и отсылает его <b>B</b>"
   ]
  },
  {
   "cell_type": "code",
   "execution_count": 68,
   "metadata": {
    "ExecuteTime": {
     "end_time": "2019-03-28T06:02:29.666394Z",
     "start_time": "2019-03-28T06:02:29.660965Z"
    }
   },
   "outputs": [],
   "source": [
    "np.random.seed(42)\n",
    "a_x = np.random.randint(2, 1<<20)\n",
    "\n",
    "a_data = smc_data['a']['secret'] + a_x\n",
    "shared_data = power_with_modulo(\n",
    "    a_data, \n",
    "    smc_data['b']['rsa']['public']['e'], \n",
    "    smc_data['b']['rsa']['public']['n'],\n",
    ")"
   ]
  },
  {
   "cell_type": "markdown",
   "metadata": {
    "variables": {
     "f'<span class=\"MathJax_Preview\" style=\"color: inherit;\"><span class=\"MJXp-math\" id=\"MJXp-Span-4237\"><span class=\"MJXp-mi MJXp-italic\" id=\"MJXp-Span-4238\">s</span><span class=\"MJXp-mi MJXp-italic\" id=\"MJXp-Span-4239\">e</span><span class=\"MJXp-mi MJXp-italic\" id=\"MJXp-Span-4240\">c</span><span class=\"MJXp-mi MJXp-italic\" id=\"MJXp-Span-4241\">r</span><span class=\"MJXp-mi MJXp-italic\" id=\"MJXp-Span-4242\">e</span><span class=\"MJXp-msubsup\" id=\"MJXp-Span-4243\"><span class=\"MJXp-mi MJXp-italic\" id=\"MJXp-Span-4244\" style=\"margin-right: 0.05em;\">t</span><span class=\"MJXp-mi MJXp-italic MJXp-script\" id=\"MJXp-Span-4245\" style=\"vertical-align: -0.4em;\">a</span></span><span class=\"MJXp-mo\" id=\"MJXp-Span-4246\" style=\"margin-left: 0.333em; margin-right: 0.333em;\">=</span><span class=\"MJXp-mrow\" id=\"MJXp-Span-4247\"><span class=\"MJXp-mi MJXp-italic\" id=\"MJXp-Span-4248\">s</span><span class=\"MJXp-mi MJXp-italic\" id=\"MJXp-Span-4249\">m</span><span class=\"MJXp-msubsup\" id=\"MJXp-Span-4250\"><span class=\"MJXp-mi MJXp-italic\" id=\"MJXp-Span-4251\" style=\"margin-right: 0.05em;\">c</span><span class=\"MJXp-mi MJXp-italic MJXp-script\" id=\"MJXp-Span-4252\" style=\"vertical-align: -0.4em;\">d</span></span><span class=\"MJXp-mi MJXp-italic\" id=\"MJXp-Span-4253\">a</span><span class=\"MJXp-mi MJXp-italic\" id=\"MJXp-Span-4254\">t</span><span class=\"MJXp-mi MJXp-italic\" id=\"MJXp-Span-4255\">a</span><span class=\"MJXp-mo\" id=\"MJXp-Span-4256\" style=\"margin-left: 0em; margin-right: 0em;\">[</span><span class=\"MJXp-mo\" id=\"MJXp-Span-4257\" style=\"margin-left: 0.333em; margin-right: 0.333em;\">\"</span><span class=\"MJXp-mi MJXp-italic\" id=\"MJXp-Span-4258\">a</span><span class=\"MJXp-mo\" id=\"MJXp-Span-4259\" style=\"margin-left: 0.333em; margin-right: 0.333em;\">\"</span><span class=\"MJXp-mo\" id=\"MJXp-Span-4260\" style=\"margin-left: 0em; margin-right: 0em;\">]</span><span class=\"MJXp-mo\" id=\"MJXp-Span-4261\" style=\"margin-left: 0em; margin-right: 0em;\">[</span><span class=\"MJXp-mo\" id=\"MJXp-Span-4262\" style=\"margin-left: 0.333em; margin-right: 0.333em;\">\"</span><span class=\"MJXp-mi MJXp-italic\" id=\"MJXp-Span-4263\">s</span><span class=\"MJXp-mi MJXp-italic\" id=\"MJXp-Span-4264\">e</span><span class=\"MJXp-mi MJXp-italic\" id=\"MJXp-Span-4265\">c</span><span class=\"MJXp-mi MJXp-italic\" id=\"MJXp-Span-4266\">r</span><span class=\"MJXp-mi MJXp-italic\" id=\"MJXp-Span-4267\">e</span><span class=\"MJXp-mi MJXp-italic\" id=\"MJXp-Span-4268\">t</span><span class=\"MJXp-mo\" id=\"MJXp-Span-4269\" style=\"margin-left: 0.333em; margin-right: 0.333em;\">\"</span><span class=\"MJXp-mo\" id=\"MJXp-Span-4270\" style=\"margin-left: 0em; margin-right: 0em;\">]</span></span></span></span><script type=\"math/tex\" id=\"MathJax-Element-174\">secret_a = {smc_data[\"a\"][\"secret\"]}</script>'": "<span class=\"MathJax_Preview\" style=\"color: inherit;\"><span class=\"MJXp-math\" id=\"MJXp-Span-4237\"><span class=\"MJXp-mi MJXp-italic\" id=\"MJXp-Span-4238\">s</span><span class=\"MJXp-mi MJXp-italic\" id=\"MJXp-Span-4239\">e</span><span class=\"MJXp-mi MJXp-italic\" id=\"MJXp-Span-4240\">c</span><span class=\"MJXp-mi MJXp-italic\" id=\"MJXp-Span-4241\">r</span><span class=\"MJXp-mi MJXp-italic\" id=\"MJXp-Span-4242\">e</span><span class=\"MJXp-msubsup\" id=\"MJXp-Span-4243\"><span class=\"MJXp-mi MJXp-italic\" id=\"MJXp-Span-4244\" style=\"margin-right: 0.05em;\">t</span><span class=\"MJXp-mi MJXp-italic MJXp-script\" id=\"MJXp-Span-4245\" style=\"vertical-align: -0.4em;\">a</span></span><span class=\"MJXp-mo\" id=\"MJXp-Span-4246\" style=\"margin-left: 0.333em; margin-right: 0.333em;\">=</span><span class=\"MJXp-mrow\" id=\"MJXp-Span-4247\"><span class=\"MJXp-mi MJXp-italic\" id=\"MJXp-Span-4248\">s</span><span class=\"MJXp-mi MJXp-italic\" id=\"MJXp-Span-4249\">m</span><span class=\"MJXp-msubsup\" id=\"MJXp-Span-4250\"><span class=\"MJXp-mi MJXp-italic\" id=\"MJXp-Span-4251\" style=\"margin-right: 0.05em;\">c</span><span class=\"MJXp-mi MJXp-italic MJXp-script\" id=\"MJXp-Span-4252\" style=\"vertical-align: -0.4em;\">d</span></span><span class=\"MJXp-mi MJXp-italic\" id=\"MJXp-Span-4253\">a</span><span class=\"MJXp-mi MJXp-italic\" id=\"MJXp-Span-4254\">t</span><span class=\"MJXp-mi MJXp-italic\" id=\"MJXp-Span-4255\">a</span><span class=\"MJXp-mo\" id=\"MJXp-Span-4256\" style=\"margin-left: 0em; margin-right: 0em;\">[</span><span class=\"MJXp-mo\" id=\"MJXp-Span-4257\" style=\"margin-left: 0.333em; margin-right: 0.333em;\">&quot;</span><span class=\"MJXp-mi MJXp-italic\" id=\"MJXp-Span-4258\">a</span><span class=\"MJXp-mo\" id=\"MJXp-Span-4259\" style=\"margin-left: 0.333em; margin-right: 0.333em;\">&quot;</span><span class=\"MJXp-mo\" id=\"MJXp-Span-4260\" style=\"margin-left: 0em; margin-right: 0em;\">]</span><span class=\"MJXp-mo\" id=\"MJXp-Span-4261\" style=\"margin-left: 0em; margin-right: 0em;\">[</span><span class=\"MJXp-mo\" id=\"MJXp-Span-4262\" style=\"margin-left: 0.333em; margin-right: 0.333em;\">&quot;</span><span class=\"MJXp-mi MJXp-italic\" id=\"MJXp-Span-4263\">s</span><span class=\"MJXp-mi MJXp-italic\" id=\"MJXp-Span-4264\">e</span><span class=\"MJXp-mi MJXp-italic\" id=\"MJXp-Span-4265\">c</span><span class=\"MJXp-mi MJXp-italic\" id=\"MJXp-Span-4266\">r</span><span class=\"MJXp-mi MJXp-italic\" id=\"MJXp-Span-4267\">e</span><span class=\"MJXp-mi MJXp-italic\" id=\"MJXp-Span-4268\">t</span><span class=\"MJXp-mo\" id=\"MJXp-Span-4269\" style=\"margin-left: 0.333em; margin-right: 0.333em;\">&quot;</span><span class=\"MJXp-mo\" id=\"MJXp-Span-4270\" style=\"margin-left: 0em; margin-right: 0em;\">]</span></span></span></span><script type=\"math/tex\" id=\"MathJax-Element-174\">secret_a = 1</script>",
     "f'<span class=\"MathJax_Preview\" style=\"color: inherit;\"><span class=\"MJXp-math\" id=\"MJXp-Span-4271\"><span class=\"MJXp-msubsup\" id=\"MJXp-Span-4272\"><span class=\"MJXp-mi MJXp-italic\" id=\"MJXp-Span-4273\" style=\"margin-right: 0.05em;\">x</span><span class=\"MJXp-mi MJXp-italic MJXp-script\" id=\"MJXp-Span-4274\" style=\"vertical-align: -0.4em;\">a</span></span><span class=\"MJXp-mo\" id=\"MJXp-Span-4275\" style=\"margin-left: 0.333em; margin-right: 0.333em;\">=</span><span class=\"MJXp-mrow\" id=\"MJXp-Span-4276\"><span class=\"MJXp-msubsup\" id=\"MJXp-Span-4277\"><span class=\"MJXp-mi MJXp-italic\" id=\"MJXp-Span-4278\" style=\"margin-right: 0.05em;\">a</span><span class=\"MJXp-mi MJXp-italic MJXp-script\" id=\"MJXp-Span-4279\" style=\"vertical-align: -0.4em;\">x</span></span></span></span></span><script type=\"math/tex\" id=\"MathJax-Element-175\">x_a = {a_x}</script>'": "<span class=\"MathJax_Preview\" style=\"color: inherit;\"><span class=\"MJXp-math\" id=\"MJXp-Span-4271\"><span class=\"MJXp-msubsup\" id=\"MJXp-Span-4272\"><span class=\"MJXp-mi MJXp-italic\" id=\"MJXp-Span-4273\" style=\"margin-right: 0.05em;\">x</span><span class=\"MJXp-mi MJXp-italic MJXp-script\" id=\"MJXp-Span-4274\" style=\"vertical-align: -0.4em;\">a</span></span><span class=\"MJXp-mo\" id=\"MJXp-Span-4275\" style=\"margin-left: 0.333em; margin-right: 0.333em;\">=</span><span class=\"MJXp-mrow\" id=\"MJXp-Span-4276\"><span class=\"MJXp-msubsup\" id=\"MJXp-Span-4277\"><span class=\"MJXp-mi MJXp-italic\" id=\"MJXp-Span-4278\" style=\"margin-right: 0.05em;\">a</span><span class=\"MJXp-mi MJXp-italic MJXp-script\" id=\"MJXp-Span-4279\" style=\"vertical-align: -0.4em;\">x</span></span></span></span></span><script type=\"math/tex\" id=\"MathJax-Element-175\">x_a = 121960</script>",
     "f'<span class=\"MathJax_Preview\" style=\"color: inherit;\"><span class=\"MJXp-math\" id=\"MJXp-Span-4280\"><span class=\"MJXp-mi MJXp-italic\" id=\"MJXp-Span-4281\">d</span><span class=\"MJXp-mi MJXp-italic\" id=\"MJXp-Span-4282\">a</span><span class=\"MJXp-mi MJXp-italic\" id=\"MJXp-Span-4283\">t</span><span class=\"MJXp-msubsup\" id=\"MJXp-Span-4284\"><span class=\"MJXp-mi MJXp-italic\" id=\"MJXp-Span-4285\" style=\"margin-right: 0.05em;\">a</span><span class=\"MJXp-mi MJXp-italic MJXp-script\" id=\"MJXp-Span-4286\" style=\"vertical-align: -0.4em;\">a</span></span><span class=\"MJXp-mo\" id=\"MJXp-Span-4287\" style=\"margin-left: 0.333em; margin-right: 0.333em;\">=</span><span class=\"MJXp-mrow\" id=\"MJXp-Span-4288\"><span class=\"MJXp-msubsup\" id=\"MJXp-Span-4289\"><span class=\"MJXp-mi MJXp-italic\" id=\"MJXp-Span-4290\" style=\"margin-right: 0.05em;\">a</span><span class=\"MJXp-mi MJXp-italic MJXp-script\" id=\"MJXp-Span-4291\" style=\"vertical-align: -0.4em;\">d</span></span><span class=\"MJXp-mi MJXp-italic\" id=\"MJXp-Span-4292\">a</span><span class=\"MJXp-mi MJXp-italic\" id=\"MJXp-Span-4293\">t</span><span class=\"MJXp-mi MJXp-italic\" id=\"MJXp-Span-4294\">a</span></span></span></span><script type=\"math/tex\" id=\"MathJax-Element-176\">data_a = {a_data}</script>'": "<span class=\"MathJax_Preview\" style=\"color: inherit;\"><span class=\"MJXp-math\" id=\"MJXp-Span-4280\"><span class=\"MJXp-mi MJXp-italic\" id=\"MJXp-Span-4281\">d</span><span class=\"MJXp-mi MJXp-italic\" id=\"MJXp-Span-4282\">a</span><span class=\"MJXp-mi MJXp-italic\" id=\"MJXp-Span-4283\">t</span><span class=\"MJXp-msubsup\" id=\"MJXp-Span-4284\"><span class=\"MJXp-mi MJXp-italic\" id=\"MJXp-Span-4285\" style=\"margin-right: 0.05em;\">a</span><span class=\"MJXp-mi MJXp-italic MJXp-script\" id=\"MJXp-Span-4286\" style=\"vertical-align: -0.4em;\">a</span></span><span class=\"MJXp-mo\" id=\"MJXp-Span-4287\" style=\"margin-left: 0.333em; margin-right: 0.333em;\">=</span><span class=\"MJXp-mrow\" id=\"MJXp-Span-4288\"><span class=\"MJXp-msubsup\" id=\"MJXp-Span-4289\"><span class=\"MJXp-mi MJXp-italic\" id=\"MJXp-Span-4290\" style=\"margin-right: 0.05em;\">a</span><span class=\"MJXp-mi MJXp-italic MJXp-script\" id=\"MJXp-Span-4291\" style=\"vertical-align: -0.4em;\">d</span></span><span class=\"MJXp-mi MJXp-italic\" id=\"MJXp-Span-4292\">a</span><span class=\"MJXp-mi MJXp-italic\" id=\"MJXp-Span-4293\">t</span><span class=\"MJXp-mi MJXp-italic\" id=\"MJXp-Span-4294\">a</span></span></span></span><script type=\"math/tex\" id=\"MathJax-Element-176\">data_a = 121961</script>",
     "f'<span class=\"MathJax_Preview\" style=\"color: inherit;\"><span class=\"MJXp-math\" id=\"MJXp-Span-4295\"><span class=\"MJXp-mi MJXp-italic\" id=\"MJXp-Span-4296\">s</span><span class=\"MJXp-mi MJXp-italic\" id=\"MJXp-Span-4297\">h</span><span class=\"MJXp-mi MJXp-italic\" id=\"MJXp-Span-4298\">a</span><span class=\"MJXp-mi MJXp-italic\" id=\"MJXp-Span-4299\">r</span><span class=\"MJXp-mi MJXp-italic\" id=\"MJXp-Span-4300\">e</span><span class=\"MJXp-mi MJXp-italic\" id=\"MJXp-Span-4301\">d</span><span class=\"MJXp-msubsup\" id=\"MJXp-Span-4302\"><span class=\"MJXp-mspace\" id=\"MJXp-Span-4303\" style=\"width: 0em; height: 0em; margin-right: 0.05em;\"></span><span class=\"MJXp-mi MJXp-italic MJXp-script\" id=\"MJXp-Span-4304\" style=\"vertical-align: -0.2em;\">d</span></span><span class=\"MJXp-mi MJXp-italic\" id=\"MJXp-Span-4305\">a</span><span class=\"MJXp-mi MJXp-italic\" id=\"MJXp-Span-4306\">t</span><span class=\"MJXp-mi MJXp-italic\" id=\"MJXp-Span-4307\">a</span><span class=\"MJXp-mo\" id=\"MJXp-Span-4308\" style=\"margin-left: 0.333em; margin-right: 0.333em;\">=</span><span class=\"MJXp-mrow\" id=\"MJXp-Span-4309\"><span class=\"MJXp-mi MJXp-italic\" id=\"MJXp-Span-4310\">s</span><span class=\"MJXp-mi MJXp-italic\" id=\"MJXp-Span-4311\">h</span><span class=\"MJXp-mi MJXp-italic\" id=\"MJXp-Span-4312\">a</span><span class=\"MJXp-mi MJXp-italic\" id=\"MJXp-Span-4313\">r</span><span class=\"MJXp-mi MJXp-italic\" id=\"MJXp-Span-4314\">e</span><span class=\"MJXp-msubsup\" id=\"MJXp-Span-4315\"><span class=\"MJXp-mi MJXp-italic\" id=\"MJXp-Span-4316\" style=\"margin-right: 0.05em;\">d</span><span class=\"MJXp-mi MJXp-italic MJXp-script\" id=\"MJXp-Span-4317\" style=\"vertical-align: -0.4em;\">d</span></span><span class=\"MJXp-mi MJXp-italic\" id=\"MJXp-Span-4318\">a</span><span class=\"MJXp-mi MJXp-italic\" id=\"MJXp-Span-4319\">t</span><span class=\"MJXp-mi MJXp-italic\" id=\"MJXp-Span-4320\">a</span></span></span></span><script type=\"math/tex\" id=\"MathJax-Element-177\">shared\\\\_data = {shared_data}</script>'": "<span class=\"MathJax_Preview\" style=\"color: inherit;\"><span class=\"MJXp-math\" id=\"MJXp-Span-4295\"><span class=\"MJXp-mi MJXp-italic\" id=\"MJXp-Span-4296\">s</span><span class=\"MJXp-mi MJXp-italic\" id=\"MJXp-Span-4297\">h</span><span class=\"MJXp-mi MJXp-italic\" id=\"MJXp-Span-4298\">a</span><span class=\"MJXp-mi MJXp-italic\" id=\"MJXp-Span-4299\">r</span><span class=\"MJXp-mi MJXp-italic\" id=\"MJXp-Span-4300\">e</span><span class=\"MJXp-mi MJXp-italic\" id=\"MJXp-Span-4301\">d</span><span class=\"MJXp-msubsup\" id=\"MJXp-Span-4302\"><span class=\"MJXp-mspace\" id=\"MJXp-Span-4303\" style=\"width: 0em; height: 0em; margin-right: 0.05em;\"></span><span class=\"MJXp-mi MJXp-italic MJXp-script\" id=\"MJXp-Span-4304\" style=\"vertical-align: -0.2em;\">d</span></span><span class=\"MJXp-mi MJXp-italic\" id=\"MJXp-Span-4305\">a</span><span class=\"MJXp-mi MJXp-italic\" id=\"MJXp-Span-4306\">t</span><span class=\"MJXp-mi MJXp-italic\" id=\"MJXp-Span-4307\">a</span><span class=\"MJXp-mo\" id=\"MJXp-Span-4308\" style=\"margin-left: 0.333em; margin-right: 0.333em;\">=</span><span class=\"MJXp-mrow\" id=\"MJXp-Span-4309\"><span class=\"MJXp-mi MJXp-italic\" id=\"MJXp-Span-4310\">s</span><span class=\"MJXp-mi MJXp-italic\" id=\"MJXp-Span-4311\">h</span><span class=\"MJXp-mi MJXp-italic\" id=\"MJXp-Span-4312\">a</span><span class=\"MJXp-mi MJXp-italic\" id=\"MJXp-Span-4313\">r</span><span class=\"MJXp-mi MJXp-italic\" id=\"MJXp-Span-4314\">e</span><span class=\"MJXp-msubsup\" id=\"MJXp-Span-4315\"><span class=\"MJXp-mi MJXp-italic\" id=\"MJXp-Span-4316\" style=\"margin-right: 0.05em;\">d</span><span class=\"MJXp-mi MJXp-italic MJXp-script\" id=\"MJXp-Span-4317\" style=\"vertical-align: -0.4em;\">d</span></span><span class=\"MJXp-mi MJXp-italic\" id=\"MJXp-Span-4318\">a</span><span class=\"MJXp-mi MJXp-italic\" id=\"MJXp-Span-4319\">t</span><span class=\"MJXp-mi MJXp-italic\" id=\"MJXp-Span-4320\">a</span></span></span></span><script type=\"math/tex\" id=\"MathJax-Element-177\">shared\\_data = 70</script>"
    }
   },
   "source": [
    "{{f'$secret_a = {smc_data[\"a\"][\"secret\"]}$'}}  \n",
    "{{f'$x_a = {a_x}$'}}  \n",
    "{{f'$data_a = {a_data}$'}}   \n",
    "{{f'$shared\\\\_data = {shared_data}$'}}"
   ]
  },
  {
   "cell_type": "markdown",
   "metadata": {
    "ExecuteTime": {
     "end_time": "2019-03-28T05:47:07.307894Z",
     "start_time": "2019-03-28T05:47:07.302432Z"
    }
   },
   "source": [
    "<b>B</b> расшифровывает результат, добавляет к нему свою зарплату, шифрует результат с помощью открытого ключа <b>C</b> и отсылает его <b>C</b>."
   ]
  },
  {
   "cell_type": "code",
   "execution_count": 69,
   "metadata": {
    "ExecuteTime": {
     "end_time": "2019-03-28T06:02:30.112625Z",
     "start_time": "2019-03-28T06:02:30.107909Z"
    }
   },
   "outputs": [],
   "source": [
    "decrypted_data = power_with_modulo(\n",
    "    shared_data, \n",
    "    smc_data['b']['rsa']['private']['d'], \n",
    "    smc_data['b']['rsa']['public']['n'],\n",
    ")\n",
    "b_data = decrypted_data + smc_data['b']['secret']\n",
    "shared_data = power_with_modulo(\n",
    "    b_data, \n",
    "    smc_data['c']['rsa']['public']['e'], \n",
    "    smc_data['c']['rsa']['public']['n'],\n",
    ")"
   ]
  },
  {
   "cell_type": "markdown",
   "metadata": {
    "variables": {
     "'$data_{decrypted} = %d$' % decrypted_data": "$data_{decrypted} = 21$",
     "f'$data_b = {b_data}$'": "$data_b = 33$",
     "f'$secret_b = {smc_data[\"b\"][\"secret\"]}$'": "$secret_b = 12$",
     "f'$shared\\\\_data = {shared_data}$'": "$shared\\_data = 24$"
    }
   },
   "source": [
    "{{f'$secret_b = {smc_data[\"b\"][\"secret\"]}$'}}  \n",
    "{{'$data_{decrypted} = %d$' % decrypted_data}}  \n",
    "{{f'$data_b = {b_data}$'}}   \n",
    "{{f'$shared\\\\_data = {shared_data}$'}}"
   ]
  },
  {
   "cell_type": "code",
   "execution_count": 70,
   "metadata": {
    "ExecuteTime": {
     "end_time": "2019-03-28T06:02:31.178964Z",
     "start_time": "2019-03-28T06:02:31.174767Z"
    }
   },
   "outputs": [],
   "source": [
    "decrypted_data = power_with_modulo(\n",
    "    shared_data, \n",
    "    smc_data['c']['rsa']['private']['d'], \n",
    "    smc_data['c']['rsa']['public']['n'],\n",
    ")\n",
    "c_data = decrypted_data + smc_data['c']['secret']\n",
    "shared_data = power_with_modulo(\n",
    "    c_data, \n",
    "    smc_data['a']['rsa']['public']['e'], \n",
    "    smc_data['a']['rsa']['public']['n'],\n",
    ")"
   ]
  },
  {
   "cell_type": "markdown",
   "metadata": {
    "variables": {
     "'<span class=\"MathJax_Preview\" style=\"color: inherit;\"><span class=\"MJXp-math\" id=\"MJXp-Span-5031\"><span class=\"MJXp-mi MJXp-italic\" id=\"MJXp-Span-5032\">d</span><span class=\"MJXp-mi MJXp-italic\" id=\"MJXp-Span-5033\">a</span><span class=\"MJXp-mi MJXp-italic\" id=\"MJXp-Span-5034\">t</span><span class=\"MJXp-msubsup\" id=\"MJXp-Span-5035\"><span class=\"MJXp-mi MJXp-italic\" id=\"MJXp-Span-5036\" style=\"margin-right: 0.05em;\">a</span><span class=\"MJXp-mrow MJXp-script\" id=\"MJXp-Span-5037\" style=\"vertical-align: -0.4em;\"><span class=\"MJXp-mi MJXp-italic\" id=\"MJXp-Span-5038\">d</span><span class=\"MJXp-mi MJXp-italic\" id=\"MJXp-Span-5039\">e</span><span class=\"MJXp-mi MJXp-italic\" id=\"MJXp-Span-5040\">c</span><span class=\"MJXp-mi MJXp-italic\" id=\"MJXp-Span-5041\">r</span><span class=\"MJXp-mi MJXp-italic\" id=\"MJXp-Span-5042\">y</span><span class=\"MJXp-mi MJXp-italic\" id=\"MJXp-Span-5043\">p</span><span class=\"MJXp-mi MJXp-italic\" id=\"MJXp-Span-5044\">t</span><span class=\"MJXp-mi MJXp-italic\" id=\"MJXp-Span-5045\">e</span><span class=\"MJXp-mi MJXp-italic\" id=\"MJXp-Span-5046\">d</span></span></span><span class=\"MJXp-mo\" id=\"MJXp-Span-5047\" style=\"margin-left: 0.333em; margin-right: 0.333em;\">=</span></span></span><script type=\"math/tex\" id=\"MathJax-Element-202\">data_{decrypted} = %d</script>' % decrypted_data": "<span class=\"MathJax_Preview\" style=\"color: inherit;\"><span class=\"MJXp-math\" id=\"MJXp-Span-5031\"><span class=\"MJXp-mi MJXp-italic\" id=\"MJXp-Span-5032\">d</span><span class=\"MJXp-mi MJXp-italic\" id=\"MJXp-Span-5033\">a</span><span class=\"MJXp-mi MJXp-italic\" id=\"MJXp-Span-5034\">t</span><span class=\"MJXp-msubsup\" id=\"MJXp-Span-5035\"><span class=\"MJXp-mi MJXp-italic\" id=\"MJXp-Span-5036\" style=\"margin-right: 0.05em;\">a</span><span class=\"MJXp-mrow MJXp-script\" id=\"MJXp-Span-5037\" style=\"vertical-align: -0.4em;\"><span class=\"MJXp-mi MJXp-italic\" id=\"MJXp-Span-5038\">d</span><span class=\"MJXp-mi MJXp-italic\" id=\"MJXp-Span-5039\">e</span><span class=\"MJXp-mi MJXp-italic\" id=\"MJXp-Span-5040\">c</span><span class=\"MJXp-mi MJXp-italic\" id=\"MJXp-Span-5041\">r</span><span class=\"MJXp-mi MJXp-italic\" id=\"MJXp-Span-5042\">y</span><span class=\"MJXp-mi MJXp-italic\" id=\"MJXp-Span-5043\">p</span><span class=\"MJXp-mi MJXp-italic\" id=\"MJXp-Span-5044\">t</span><span class=\"MJXp-mi MJXp-italic\" id=\"MJXp-Span-5045\">e</span><span class=\"MJXp-mi MJXp-italic\" id=\"MJXp-Span-5046\">d</span></span></span><span class=\"MJXp-mo\" id=\"MJXp-Span-5047\" style=\"margin-left: 0.333em; margin-right: 0.333em;\">=</span></span></span><script type=\"math/tex\" id=\"MathJax-Element-202\">data_{decrypted} = 44</script>",
     "f'<span class=\"MathJax_Preview\" style=\"color: inherit;\"><span class=\"MJXp-math\" id=\"MJXp-Span-4997\"><span class=\"MJXp-mi MJXp-italic\" id=\"MJXp-Span-4998\">s</span><span class=\"MJXp-mi MJXp-italic\" id=\"MJXp-Span-4999\">e</span><span class=\"MJXp-mi MJXp-italic\" id=\"MJXp-Span-5000\">c</span><span class=\"MJXp-mi MJXp-italic\" id=\"MJXp-Span-5001\">r</span><span class=\"MJXp-mi MJXp-italic\" id=\"MJXp-Span-5002\">e</span><span class=\"MJXp-msubsup\" id=\"MJXp-Span-5003\"><span class=\"MJXp-mi MJXp-italic\" id=\"MJXp-Span-5004\" style=\"margin-right: 0.05em;\">t</span><span class=\"MJXp-mi MJXp-italic MJXp-script\" id=\"MJXp-Span-5005\" style=\"vertical-align: -0.4em;\">c</span></span><span class=\"MJXp-mo\" id=\"MJXp-Span-5006\" style=\"margin-left: 0.333em; margin-right: 0.333em;\">=</span><span class=\"MJXp-mrow\" id=\"MJXp-Span-5007\"><span class=\"MJXp-mi MJXp-italic\" id=\"MJXp-Span-5008\">s</span><span class=\"MJXp-mi MJXp-italic\" id=\"MJXp-Span-5009\">m</span><span class=\"MJXp-msubsup\" id=\"MJXp-Span-5010\"><span class=\"MJXp-mi MJXp-italic\" id=\"MJXp-Span-5011\" style=\"margin-right: 0.05em;\">c</span><span class=\"MJXp-mi MJXp-italic MJXp-script\" id=\"MJXp-Span-5012\" style=\"vertical-align: -0.4em;\">d</span></span><span class=\"MJXp-mi MJXp-italic\" id=\"MJXp-Span-5013\">a</span><span class=\"MJXp-mi MJXp-italic\" id=\"MJXp-Span-5014\">t</span><span class=\"MJXp-mi MJXp-italic\" id=\"MJXp-Span-5015\">a</span><span class=\"MJXp-mo\" id=\"MJXp-Span-5016\" style=\"margin-left: 0em; margin-right: 0em;\">[</span><span class=\"MJXp-mo\" id=\"MJXp-Span-5017\" style=\"margin-left: 0.333em; margin-right: 0.333em;\">\"</span><span class=\"MJXp-mi MJXp-italic\" id=\"MJXp-Span-5018\">c</span><span class=\"MJXp-mo\" id=\"MJXp-Span-5019\" style=\"margin-left: 0.333em; margin-right: 0.333em;\">\"</span><span class=\"MJXp-mo\" id=\"MJXp-Span-5020\" style=\"margin-left: 0em; margin-right: 0em;\">]</span><span class=\"MJXp-mo\" id=\"MJXp-Span-5021\" style=\"margin-left: 0em; margin-right: 0em;\">[</span><span class=\"MJXp-mo\" id=\"MJXp-Span-5022\" style=\"margin-left: 0.333em; margin-right: 0.333em;\">\"</span><span class=\"MJXp-mi MJXp-italic\" id=\"MJXp-Span-5023\">s</span><span class=\"MJXp-mi MJXp-italic\" id=\"MJXp-Span-5024\">e</span><span class=\"MJXp-mi MJXp-italic\" id=\"MJXp-Span-5025\">c</span><span class=\"MJXp-mi MJXp-italic\" id=\"MJXp-Span-5026\">r</span><span class=\"MJXp-mi MJXp-italic\" id=\"MJXp-Span-5027\">e</span><span class=\"MJXp-mi MJXp-italic\" id=\"MJXp-Span-5028\">t</span><span class=\"MJXp-mo\" id=\"MJXp-Span-5029\" style=\"margin-left: 0.333em; margin-right: 0.333em;\">\"</span><span class=\"MJXp-mo\" id=\"MJXp-Span-5030\" style=\"margin-left: 0em; margin-right: 0em;\">]</span></span></span></span><script type=\"math/tex\" id=\"MathJax-Element-201\">secret_c = {smc_data[\"c\"][\"secret\"]}</script>'": "<span class=\"MathJax_Preview\" style=\"color: inherit;\"><span class=\"MJXp-math\" id=\"MJXp-Span-4997\"><span class=\"MJXp-mi MJXp-italic\" id=\"MJXp-Span-4998\">s</span><span class=\"MJXp-mi MJXp-italic\" id=\"MJXp-Span-4999\">e</span><span class=\"MJXp-mi MJXp-italic\" id=\"MJXp-Span-5000\">c</span><span class=\"MJXp-mi MJXp-italic\" id=\"MJXp-Span-5001\">r</span><span class=\"MJXp-mi MJXp-italic\" id=\"MJXp-Span-5002\">e</span><span class=\"MJXp-msubsup\" id=\"MJXp-Span-5003\"><span class=\"MJXp-mi MJXp-italic\" id=\"MJXp-Span-5004\" style=\"margin-right: 0.05em;\">t</span><span class=\"MJXp-mi MJXp-italic MJXp-script\" id=\"MJXp-Span-5005\" style=\"vertical-align: -0.4em;\">c</span></span><span class=\"MJXp-mo\" id=\"MJXp-Span-5006\" style=\"margin-left: 0.333em; margin-right: 0.333em;\">=</span><span class=\"MJXp-mrow\" id=\"MJXp-Span-5007\"><span class=\"MJXp-mi MJXp-italic\" id=\"MJXp-Span-5008\">s</span><span class=\"MJXp-mi MJXp-italic\" id=\"MJXp-Span-5009\">m</span><span class=\"MJXp-msubsup\" id=\"MJXp-Span-5010\"><span class=\"MJXp-mi MJXp-italic\" id=\"MJXp-Span-5011\" style=\"margin-right: 0.05em;\">c</span><span class=\"MJXp-mi MJXp-italic MJXp-script\" id=\"MJXp-Span-5012\" style=\"vertical-align: -0.4em;\">d</span></span><span class=\"MJXp-mi MJXp-italic\" id=\"MJXp-Span-5013\">a</span><span class=\"MJXp-mi MJXp-italic\" id=\"MJXp-Span-5014\">t</span><span class=\"MJXp-mi MJXp-italic\" id=\"MJXp-Span-5015\">a</span><span class=\"MJXp-mo\" id=\"MJXp-Span-5016\" style=\"margin-left: 0em; margin-right: 0em;\">[</span><span class=\"MJXp-mo\" id=\"MJXp-Span-5017\" style=\"margin-left: 0.333em; margin-right: 0.333em;\">&quot;</span><span class=\"MJXp-mi MJXp-italic\" id=\"MJXp-Span-5018\">c</span><span class=\"MJXp-mo\" id=\"MJXp-Span-5019\" style=\"margin-left: 0.333em; margin-right: 0.333em;\">&quot;</span><span class=\"MJXp-mo\" id=\"MJXp-Span-5020\" style=\"margin-left: 0em; margin-right: 0em;\">]</span><span class=\"MJXp-mo\" id=\"MJXp-Span-5021\" style=\"margin-left: 0em; margin-right: 0em;\">[</span><span class=\"MJXp-mo\" id=\"MJXp-Span-5022\" style=\"margin-left: 0.333em; margin-right: 0.333em;\">&quot;</span><span class=\"MJXp-mi MJXp-italic\" id=\"MJXp-Span-5023\">s</span><span class=\"MJXp-mi MJXp-italic\" id=\"MJXp-Span-5024\">e</span><span class=\"MJXp-mi MJXp-italic\" id=\"MJXp-Span-5025\">c</span><span class=\"MJXp-mi MJXp-italic\" id=\"MJXp-Span-5026\">r</span><span class=\"MJXp-mi MJXp-italic\" id=\"MJXp-Span-5027\">e</span><span class=\"MJXp-mi MJXp-italic\" id=\"MJXp-Span-5028\">t</span><span class=\"MJXp-mo\" id=\"MJXp-Span-5029\" style=\"margin-left: 0.333em; margin-right: 0.333em;\">&quot;</span><span class=\"MJXp-mo\" id=\"MJXp-Span-5030\" style=\"margin-left: 0em; margin-right: 0em;\">]</span></span></span></span><script type=\"math/tex\" id=\"MathJax-Element-201\">secret_c = 11</script>",
     "f'<span class=\"MathJax_Preview\" style=\"color: inherit;\"><span class=\"MJXp-math\" id=\"MJXp-Span-5048\"><span class=\"MJXp-mi MJXp-italic\" id=\"MJXp-Span-5049\">d</span><span class=\"MJXp-mi MJXp-italic\" id=\"MJXp-Span-5050\">a</span><span class=\"MJXp-mi MJXp-italic\" id=\"MJXp-Span-5051\">t</span><span class=\"MJXp-msubsup\" id=\"MJXp-Span-5052\"><span class=\"MJXp-mi MJXp-italic\" id=\"MJXp-Span-5053\" style=\"margin-right: 0.05em;\">a</span><span class=\"MJXp-mi MJXp-italic MJXp-script\" id=\"MJXp-Span-5054\" style=\"vertical-align: -0.4em;\">c</span></span><span class=\"MJXp-mo\" id=\"MJXp-Span-5055\" style=\"margin-left: 0.333em; margin-right: 0.333em;\">=</span><span class=\"MJXp-mrow\" id=\"MJXp-Span-5056\"><span class=\"MJXp-msubsup\" id=\"MJXp-Span-5057\"><span class=\"MJXp-mi MJXp-italic\" id=\"MJXp-Span-5058\" style=\"margin-right: 0.05em;\">c</span><span class=\"MJXp-mi MJXp-italic MJXp-script\" id=\"MJXp-Span-5059\" style=\"vertical-align: -0.4em;\">d</span></span><span class=\"MJXp-mi MJXp-italic\" id=\"MJXp-Span-5060\">a</span><span class=\"MJXp-mi MJXp-italic\" id=\"MJXp-Span-5061\">t</span><span class=\"MJXp-mi MJXp-italic\" id=\"MJXp-Span-5062\">a</span></span></span></span><script type=\"math/tex\" id=\"MathJax-Element-203\">data_c = {c_data}</script>'": "<span class=\"MathJax_Preview\" style=\"color: inherit;\"><span class=\"MJXp-math\" id=\"MJXp-Span-5048\"><span class=\"MJXp-mi MJXp-italic\" id=\"MJXp-Span-5049\">d</span><span class=\"MJXp-mi MJXp-italic\" id=\"MJXp-Span-5050\">a</span><span class=\"MJXp-mi MJXp-italic\" id=\"MJXp-Span-5051\">t</span><span class=\"MJXp-msubsup\" id=\"MJXp-Span-5052\"><span class=\"MJXp-mi MJXp-italic\" id=\"MJXp-Span-5053\" style=\"margin-right: 0.05em;\">a</span><span class=\"MJXp-mi MJXp-italic MJXp-script\" id=\"MJXp-Span-5054\" style=\"vertical-align: -0.4em;\">c</span></span><span class=\"MJXp-mo\" id=\"MJXp-Span-5055\" style=\"margin-left: 0.333em; margin-right: 0.333em;\">=</span><span class=\"MJXp-mrow\" id=\"MJXp-Span-5056\"><span class=\"MJXp-msubsup\" id=\"MJXp-Span-5057\"><span class=\"MJXp-mi MJXp-italic\" id=\"MJXp-Span-5058\" style=\"margin-right: 0.05em;\">c</span><span class=\"MJXp-mi MJXp-italic MJXp-script\" id=\"MJXp-Span-5059\" style=\"vertical-align: -0.4em;\">d</span></span><span class=\"MJXp-mi MJXp-italic\" id=\"MJXp-Span-5060\">a</span><span class=\"MJXp-mi MJXp-italic\" id=\"MJXp-Span-5061\">t</span><span class=\"MJXp-mi MJXp-italic\" id=\"MJXp-Span-5062\">a</span></span></span></span><script type=\"math/tex\" id=\"MathJax-Element-203\">data_c = 44</script>",
     "f'<span class=\"MathJax_Preview\" style=\"color: inherit;\"><span class=\"MJXp-math\" id=\"MJXp-Span-5063\"><span class=\"MJXp-mi MJXp-italic\" id=\"MJXp-Span-5064\">s</span><span class=\"MJXp-mi MJXp-italic\" id=\"MJXp-Span-5065\">h</span><span class=\"MJXp-mi MJXp-italic\" id=\"MJXp-Span-5066\">a</span><span class=\"MJXp-mi MJXp-italic\" id=\"MJXp-Span-5067\">r</span><span class=\"MJXp-mi MJXp-italic\" id=\"MJXp-Span-5068\">e</span><span class=\"MJXp-mi MJXp-italic\" id=\"MJXp-Span-5069\">d</span><span class=\"MJXp-msubsup\" id=\"MJXp-Span-5070\"><span class=\"MJXp-mspace\" id=\"MJXp-Span-5071\" style=\"width: 0em; height: 0em; margin-right: 0.05em;\"></span><span class=\"MJXp-mi MJXp-italic MJXp-script\" id=\"MJXp-Span-5072\" style=\"vertical-align: -0.2em;\">d</span></span><span class=\"MJXp-mi MJXp-italic\" id=\"MJXp-Span-5073\">a</span><span class=\"MJXp-mi MJXp-italic\" id=\"MJXp-Span-5074\">t</span><span class=\"MJXp-mi MJXp-italic\" id=\"MJXp-Span-5075\">a</span><span class=\"MJXp-mo\" id=\"MJXp-Span-5076\" style=\"margin-left: 0.333em; margin-right: 0.333em;\">=</span><span class=\"MJXp-mrow\" id=\"MJXp-Span-5077\"><span class=\"MJXp-mi MJXp-italic\" id=\"MJXp-Span-5078\">s</span><span class=\"MJXp-mi MJXp-italic\" id=\"MJXp-Span-5079\">h</span><span class=\"MJXp-mi MJXp-italic\" id=\"MJXp-Span-5080\">a</span><span class=\"MJXp-mi MJXp-italic\" id=\"MJXp-Span-5081\">r</span><span class=\"MJXp-mi MJXp-italic\" id=\"MJXp-Span-5082\">e</span><span class=\"MJXp-msubsup\" id=\"MJXp-Span-5083\"><span class=\"MJXp-mi MJXp-italic\" id=\"MJXp-Span-5084\" style=\"margin-right: 0.05em;\">d</span><span class=\"MJXp-mi MJXp-italic MJXp-script\" id=\"MJXp-Span-5085\" style=\"vertical-align: -0.4em;\">d</span></span><span class=\"MJXp-mi MJXp-italic\" id=\"MJXp-Span-5086\">a</span><span class=\"MJXp-mi MJXp-italic\" id=\"MJXp-Span-5087\">t</span><span class=\"MJXp-mi MJXp-italic\" id=\"MJXp-Span-5088\">a</span></span></span></span><script type=\"math/tex\" id=\"MathJax-Element-204\">shared\\\\_data = {shared_data}</script>'": "<span class=\"MathJax_Preview\" style=\"color: inherit;\"><span class=\"MJXp-math\" id=\"MJXp-Span-5063\"><span class=\"MJXp-mi MJXp-italic\" id=\"MJXp-Span-5064\">s</span><span class=\"MJXp-mi MJXp-italic\" id=\"MJXp-Span-5065\">h</span><span class=\"MJXp-mi MJXp-italic\" id=\"MJXp-Span-5066\">a</span><span class=\"MJXp-mi MJXp-italic\" id=\"MJXp-Span-5067\">r</span><span class=\"MJXp-mi MJXp-italic\" id=\"MJXp-Span-5068\">e</span><span class=\"MJXp-mi MJXp-italic\" id=\"MJXp-Span-5069\">d</span><span class=\"MJXp-msubsup\" id=\"MJXp-Span-5070\"><span class=\"MJXp-mspace\" id=\"MJXp-Span-5071\" style=\"width: 0em; height: 0em; margin-right: 0.05em;\"></span><span class=\"MJXp-mi MJXp-italic MJXp-script\" id=\"MJXp-Span-5072\" style=\"vertical-align: -0.2em;\">d</span></span><span class=\"MJXp-mi MJXp-italic\" id=\"MJXp-Span-5073\">a</span><span class=\"MJXp-mi MJXp-italic\" id=\"MJXp-Span-5074\">t</span><span class=\"MJXp-mi MJXp-italic\" id=\"MJXp-Span-5075\">a</span><span class=\"MJXp-mo\" id=\"MJXp-Span-5076\" style=\"margin-left: 0.333em; margin-right: 0.333em;\">=</span><span class=\"MJXp-mrow\" id=\"MJXp-Span-5077\"><span class=\"MJXp-mi MJXp-italic\" id=\"MJXp-Span-5078\">s</span><span class=\"MJXp-mi MJXp-italic\" id=\"MJXp-Span-5079\">h</span><span class=\"MJXp-mi MJXp-italic\" id=\"MJXp-Span-5080\">a</span><span class=\"MJXp-mi MJXp-italic\" id=\"MJXp-Span-5081\">r</span><span class=\"MJXp-mi MJXp-italic\" id=\"MJXp-Span-5082\">e</span><span class=\"MJXp-msubsup\" id=\"MJXp-Span-5083\"><span class=\"MJXp-mi MJXp-italic\" id=\"MJXp-Span-5084\" style=\"margin-right: 0.05em;\">d</span><span class=\"MJXp-mi MJXp-italic MJXp-script\" id=\"MJXp-Span-5085\" style=\"vertical-align: -0.4em;\">d</span></span><span class=\"MJXp-mi MJXp-italic\" id=\"MJXp-Span-5086\">a</span><span class=\"MJXp-mi MJXp-italic\" id=\"MJXp-Span-5087\">t</span><span class=\"MJXp-mi MJXp-italic\" id=\"MJXp-Span-5088\">a</span></span></span></span><script type=\"math/tex\" id=\"MathJax-Element-204\">shared\\_data = 18</script>"
    }
   },
   "source": [
    "{{f'$secret_c = {smc_data[\"c\"][\"secret\"]}$'}}  \n",
    "{{'$data_{decrypted} = %d$' % decrypted_data}}  \n",
    "{{f'$data_c = {c_data}$'}}   \n",
    "{{f'$shared\\\\_data = {shared_data}$'}}"
   ]
  },
  {
   "cell_type": "code",
   "execution_count": 73,
   "metadata": {
    "ExecuteTime": {
     "end_time": "2019-03-28T06:03:12.495212Z",
     "start_time": "2019-03-28T06:03:12.490356Z"
    }
   },
   "outputs": [],
   "source": [
    "decrypted_data = power_with_modulo(\n",
    "    shared_data, \n",
    "    smc_data['a']['rsa']['private']['d'], \n",
    "    smc_data['a']['rsa']['public']['n'],\n",
    ")\n",
    "final_data = (decrypted_data - a_x) % smc_data['a']['rsa']['public']['n']"
   ]
  },
  {
   "cell_type": "markdown",
   "metadata": {
    "variables": {
     "'<span class=\"MathJax_Preview\" style=\"color: inherit;\"><span class=\"MJXp-math\" id=\"MJXp-Span-5141\"><span class=\"MJXp-mi MJXp-italic\" id=\"MJXp-Span-5142\">d</span><span class=\"MJXp-mi MJXp-italic\" id=\"MJXp-Span-5143\">a</span><span class=\"MJXp-mi MJXp-italic\" id=\"MJXp-Span-5144\">t</span><span class=\"MJXp-msubsup\" id=\"MJXp-Span-5145\"><span class=\"MJXp-mi MJXp-italic\" id=\"MJXp-Span-5146\" style=\"margin-right: 0.05em;\">a</span><span class=\"MJXp-mrow MJXp-script\" id=\"MJXp-Span-5147\" style=\"vertical-align: -0.4em;\"><span class=\"MJXp-mi MJXp-italic\" id=\"MJXp-Span-5148\">d</span><span class=\"MJXp-mi MJXp-italic\" id=\"MJXp-Span-5149\">e</span><span class=\"MJXp-mi MJXp-italic\" id=\"MJXp-Span-5150\">c</span><span class=\"MJXp-mi MJXp-italic\" id=\"MJXp-Span-5151\">r</span><span class=\"MJXp-mi MJXp-italic\" id=\"MJXp-Span-5152\">y</span><span class=\"MJXp-mi MJXp-italic\" id=\"MJXp-Span-5153\">p</span><span class=\"MJXp-mi MJXp-italic\" id=\"MJXp-Span-5154\">t</span><span class=\"MJXp-mi MJXp-italic\" id=\"MJXp-Span-5155\">e</span><span class=\"MJXp-mi MJXp-italic\" id=\"MJXp-Span-5156\">d</span></span></span><span class=\"MJXp-mo\" id=\"MJXp-Span-5157\" style=\"margin-left: 0.333em; margin-right: 0.333em;\">=</span></span></span><script type=\"math/tex\" id=\"MathJax-Element-205\">data_{decrypted} = %d</script>' % decrypted_data": "<span class=\"MathJax_Preview\" style=\"color: inherit;\"><span class=\"MJXp-math\" id=\"MJXp-Span-5141\"><span class=\"MJXp-mi MJXp-italic\" id=\"MJXp-Span-5142\">d</span><span class=\"MJXp-mi MJXp-italic\" id=\"MJXp-Span-5143\">a</span><span class=\"MJXp-mi MJXp-italic\" id=\"MJXp-Span-5144\">t</span><span class=\"MJXp-msubsup\" id=\"MJXp-Span-5145\"><span class=\"MJXp-mi MJXp-italic\" id=\"MJXp-Span-5146\" style=\"margin-right: 0.05em;\">a</span><span class=\"MJXp-mrow MJXp-script\" id=\"MJXp-Span-5147\" style=\"vertical-align: -0.4em;\"><span class=\"MJXp-mi MJXp-italic\" id=\"MJXp-Span-5148\">d</span><span class=\"MJXp-mi MJXp-italic\" id=\"MJXp-Span-5149\">e</span><span class=\"MJXp-mi MJXp-italic\" id=\"MJXp-Span-5150\">c</span><span class=\"MJXp-mi MJXp-italic\" id=\"MJXp-Span-5151\">r</span><span class=\"MJXp-mi MJXp-italic\" id=\"MJXp-Span-5152\">y</span><span class=\"MJXp-mi MJXp-italic\" id=\"MJXp-Span-5153\">p</span><span class=\"MJXp-mi MJXp-italic\" id=\"MJXp-Span-5154\">t</span><span class=\"MJXp-mi MJXp-italic\" id=\"MJXp-Span-5155\">e</span><span class=\"MJXp-mi MJXp-italic\" id=\"MJXp-Span-5156\">d</span></span></span><span class=\"MJXp-mo\" id=\"MJXp-Span-5157\" style=\"margin-left: 0.333em; margin-right: 0.333em;\">=</span></span></span><script type=\"math/tex\" id=\"MathJax-Element-205\">data_{decrypted} = 44</script>",
     "'<span class=\"MathJax_Preview\" style=\"color: inherit;\"><span class=\"MJXp-math\" id=\"MJXp-Span-5158\"><span class=\"MJXp-mi MJXp-italic\" id=\"MJXp-Span-5159\">d</span><span class=\"MJXp-mi MJXp-italic\" id=\"MJXp-Span-5160\">a</span><span class=\"MJXp-mi MJXp-italic\" id=\"MJXp-Span-5161\">t</span><span class=\"MJXp-msubsup\" id=\"MJXp-Span-5162\"><span class=\"MJXp-mi MJXp-italic\" id=\"MJXp-Span-5163\" style=\"margin-right: 0.05em;\">a</span><span class=\"MJXp-mrow MJXp-script\" id=\"MJXp-Span-5164\" style=\"vertical-align: -0.4em;\"><span class=\"MJXp-mi MJXp-italic\" id=\"MJXp-Span-5165\">f</span><span class=\"MJXp-mi MJXp-italic\" id=\"MJXp-Span-5166\">i</span><span class=\"MJXp-mi MJXp-italic\" id=\"MJXp-Span-5167\">n</span><span class=\"MJXp-mi MJXp-italic\" id=\"MJXp-Span-5168\">a</span><span class=\"MJXp-mi MJXp-italic\" id=\"MJXp-Span-5169\">l</span></span></span><span class=\"MJXp-mo\" id=\"MJXp-Span-5170\" style=\"margin-left: 0.333em; margin-right: 0.333em;\">=</span></span></span><script type=\"math/tex\" id=\"MathJax-Element-206\">data_{final} = %d</script>' % final_data": "<span class=\"MathJax_Preview\" style=\"color: inherit;\"><span class=\"MJXp-math\" id=\"MJXp-Span-5158\"><span class=\"MJXp-mi MJXp-italic\" id=\"MJXp-Span-5159\">d</span><span class=\"MJXp-mi MJXp-italic\" id=\"MJXp-Span-5160\">a</span><span class=\"MJXp-mi MJXp-italic\" id=\"MJXp-Span-5161\">t</span><span class=\"MJXp-msubsup\" id=\"MJXp-Span-5162\"><span class=\"MJXp-mi MJXp-italic\" id=\"MJXp-Span-5163\" style=\"margin-right: 0.05em;\">a</span><span class=\"MJXp-mrow MJXp-script\" id=\"MJXp-Span-5164\" style=\"vertical-align: -0.4em;\"><span class=\"MJXp-mi MJXp-italic\" id=\"MJXp-Span-5165\">f</span><span class=\"MJXp-mi MJXp-italic\" id=\"MJXp-Span-5166\">i</span><span class=\"MJXp-mi MJXp-italic\" id=\"MJXp-Span-5167\">n</span><span class=\"MJXp-mi MJXp-italic\" id=\"MJXp-Span-5168\">a</span><span class=\"MJXp-mi MJXp-italic\" id=\"MJXp-Span-5169\">l</span></span></span><span class=\"MJXp-mo\" id=\"MJXp-Span-5170\" style=\"margin-left: 0.333em; margin-right: 0.333em;\">=</span></span></span><script type=\"math/tex\" id=\"MathJax-Element-206\">data_{final} = 24</script>",
     "f'<span class=\"MathJax_Preview\" style=\"color: inherit;\"><span class=\"MJXp-math\" id=\"MJXp-Span-5171\"><span class=\"MJXp-mi MJXp-italic\" id=\"MJXp-Span-5172\">s</span><span class=\"MJXp-mi MJXp-italic\" id=\"MJXp-Span-5173\">e</span><span class=\"MJXp-mi MJXp-italic\" id=\"MJXp-Span-5174\">c</span><span class=\"MJXp-mi MJXp-italic\" id=\"MJXp-Span-5175\">r</span><span class=\"MJXp-mi MJXp-italic\" id=\"MJXp-Span-5176\">e</span><span class=\"MJXp-msubsup\" id=\"MJXp-Span-5177\"><span class=\"MJXp-mi MJXp-italic\" id=\"MJXp-Span-5178\" style=\"margin-right: 0.05em;\">t</span><span class=\"MJXp-mi MJXp-italic MJXp-script\" id=\"MJXp-Span-5179\" style=\"vertical-align: -0.4em;\">a</span></span><span class=\"MJXp-mo\" id=\"MJXp-Span-5180\" style=\"margin-left: 0.267em; margin-right: 0.267em;\">+</span><span class=\"MJXp-mi MJXp-italic\" id=\"MJXp-Span-5181\">s</span><span class=\"MJXp-mi MJXp-italic\" id=\"MJXp-Span-5182\">e</span><span class=\"MJXp-mi MJXp-italic\" id=\"MJXp-Span-5183\">c</span><span class=\"MJXp-mi MJXp-italic\" id=\"MJXp-Span-5184\">r</span><span class=\"MJXp-mi MJXp-italic\" id=\"MJXp-Span-5185\">e</span><span class=\"MJXp-msubsup\" id=\"MJXp-Span-5186\"><span class=\"MJXp-mi MJXp-italic\" id=\"MJXp-Span-5187\" style=\"margin-right: 0.05em;\">t</span><span class=\"MJXp-mi MJXp-italic MJXp-script\" id=\"MJXp-Span-5188\" style=\"vertical-align: -0.4em;\">b</span></span><span class=\"MJXp-mo\" id=\"MJXp-Span-5189\" style=\"margin-left: 0.267em; margin-right: 0.267em;\">+</span><span class=\"MJXp-mi MJXp-italic\" id=\"MJXp-Span-5190\">s</span><span class=\"MJXp-mi MJXp-italic\" id=\"MJXp-Span-5191\">e</span><span class=\"MJXp-mi MJXp-italic\" id=\"MJXp-Span-5192\">c</span><span class=\"MJXp-mi MJXp-italic\" id=\"MJXp-Span-5193\">r</span><span class=\"MJXp-mi MJXp-italic\" id=\"MJXp-Span-5194\">e</span><span class=\"MJXp-msubsup\" id=\"MJXp-Span-5195\"><span class=\"MJXp-mi MJXp-italic\" id=\"MJXp-Span-5196\" style=\"margin-right: 0.05em;\">t</span><span class=\"MJXp-mi MJXp-italic MJXp-script\" id=\"MJXp-Span-5197\" style=\"vertical-align: -0.4em;\">c</span></span><span class=\"MJXp-mo\" id=\"MJXp-Span-5198\" style=\"margin-left: 0.333em; margin-right: 0.333em;\">=</span><span class=\"MJXp-mrow\" id=\"MJXp-Span-5199\"><span class=\"MJXp-mi MJXp-italic\" id=\"MJXp-Span-5200\">s</span><span class=\"MJXp-mi MJXp-italic\" id=\"MJXp-Span-5201\">m</span><span class=\"MJXp-msubsup\" id=\"MJXp-Span-5202\"><span class=\"MJXp-mi MJXp-italic\" id=\"MJXp-Span-5203\" style=\"margin-right: 0.05em;\">c</span><span class=\"MJXp-mi MJXp-italic MJXp-script\" id=\"MJXp-Span-5204\" style=\"vertical-align: -0.4em;\">d</span></span><span class=\"MJXp-mi MJXp-italic\" id=\"MJXp-Span-5205\">a</span><span class=\"MJXp-mi MJXp-italic\" id=\"MJXp-Span-5206\">t</span><span class=\"MJXp-mi MJXp-italic\" id=\"MJXp-Span-5207\">a</span><span class=\"MJXp-mo\" id=\"MJXp-Span-5208\" style=\"margin-left: 0em; margin-right: 0em;\">[</span><span class=\"MJXp-mo\" id=\"MJXp-Span-5209\" style=\"margin-left: 0.333em; margin-right: 0.333em;\">\"</span><span class=\"MJXp-mi MJXp-italic\" id=\"MJXp-Span-5210\">a</span><span class=\"MJXp-mo\" id=\"MJXp-Span-5211\" style=\"margin-left: 0.333em; margin-right: 0.333em;\">\"</span><span class=\"MJXp-mo\" id=\"MJXp-Span-5212\" style=\"margin-left: 0em; margin-right: 0em;\">]</span><span class=\"MJXp-mo\" id=\"MJXp-Span-5213\" style=\"margin-left: 0em; margin-right: 0em;\">[</span><span class=\"MJXp-mo\" id=\"MJXp-Span-5214\" style=\"margin-left: 0.333em; margin-right: 0.333em;\">\"</span><span class=\"MJXp-mi MJXp-italic\" id=\"MJXp-Span-5215\">s</span><span class=\"MJXp-mi MJXp-italic\" id=\"MJXp-Span-5216\">e</span><span class=\"MJXp-mi MJXp-italic\" id=\"MJXp-Span-5217\">c</span><span class=\"MJXp-mi MJXp-italic\" id=\"MJXp-Span-5218\">r</span><span class=\"MJXp-mi MJXp-italic\" id=\"MJXp-Span-5219\">e</span><span class=\"MJXp-mi MJXp-italic\" id=\"MJXp-Span-5220\">t</span><span class=\"MJXp-mo\" id=\"MJXp-Span-5221\" style=\"margin-left: 0.333em; margin-right: 0.333em;\">\"</span><span class=\"MJXp-mo\" id=\"MJXp-Span-5222\" style=\"margin-left: 0em; margin-right: 0em;\">]</span><span class=\"MJXp-mo\" id=\"MJXp-Span-5223\" style=\"margin-left: 0.267em; margin-right: 0.267em;\">+</span><span class=\"MJXp-mi MJXp-italic\" id=\"MJXp-Span-5224\">s</span><span class=\"MJXp-mi MJXp-italic\" id=\"MJXp-Span-5225\">m</span><span class=\"MJXp-msubsup\" id=\"MJXp-Span-5226\"><span class=\"MJXp-mi MJXp-italic\" id=\"MJXp-Span-5227\" style=\"margin-right: 0.05em;\">c</span><span class=\"MJXp-mi MJXp-italic MJXp-script\" id=\"MJXp-Span-5228\" style=\"vertical-align: -0.4em;\">d</span></span><span class=\"MJXp-mi MJXp-italic\" id=\"MJXp-Span-5229\">a</span><span class=\"MJXp-mi MJXp-italic\" id=\"MJXp-Span-5230\">t</span><span class=\"MJXp-mi MJXp-italic\" id=\"MJXp-Span-5231\">a</span><span class=\"MJXp-mo\" id=\"MJXp-Span-5232\" style=\"margin-left: 0em; margin-right: 0em;\">[</span><span class=\"MJXp-mo\" id=\"MJXp-Span-5233\" style=\"margin-left: 0.333em; margin-right: 0.333em;\">\"</span><span class=\"MJXp-mi MJXp-italic\" id=\"MJXp-Span-5234\">b</span><span class=\"MJXp-mo\" id=\"MJXp-Span-5235\" style=\"margin-left: 0.333em; margin-right: 0.333em;\">\"</span><span class=\"MJXp-mo\" id=\"MJXp-Span-5236\" style=\"margin-left: 0em; margin-right: 0em;\">]</span><span class=\"MJXp-mo\" id=\"MJXp-Span-5237\" style=\"margin-left: 0em; margin-right: 0em;\">[</span><span class=\"MJXp-mo\" id=\"MJXp-Span-5238\" style=\"margin-left: 0.333em; margin-right: 0.333em;\">\"</span><span class=\"MJXp-mi MJXp-italic\" id=\"MJXp-Span-5239\">s</span><span class=\"MJXp-mi MJXp-italic\" id=\"MJXp-Span-5240\">e</span><span class=\"MJXp-mi MJXp-italic\" id=\"MJXp-Span-5241\">c</span><span class=\"MJXp-mi MJXp-italic\" id=\"MJXp-Span-5242\">r</span><span class=\"MJXp-mi MJXp-italic\" id=\"MJXp-Span-5243\">e</span><span class=\"MJXp-mi MJXp-italic\" id=\"MJXp-Span-5244\">t</span><span class=\"MJXp-mo\" id=\"MJXp-Span-5245\" style=\"margin-left: 0.333em; margin-right: 0.333em;\">\"</span><span class=\"MJXp-mo\" id=\"MJXp-Span-5246\" style=\"margin-left: 0em; margin-right: 0em;\">]</span><span class=\"MJXp-mo\" id=\"MJXp-Span-5247\" style=\"margin-left: 0.267em; margin-right: 0.267em;\">+</span><span class=\"MJXp-mi MJXp-italic\" id=\"MJXp-Span-5248\">s</span><span class=\"MJXp-mi MJXp-italic\" id=\"MJXp-Span-5249\">m</span><span class=\"MJXp-msubsup\" id=\"MJXp-Span-5250\"><span class=\"MJXp-mi MJXp-italic\" id=\"MJXp-Span-5251\" style=\"margin-right: 0.05em;\">c</span><span class=\"MJXp-mi MJXp-italic MJXp-script\" id=\"MJXp-Span-5252\" style=\"vertical-align: -0.4em;\">d</span></span><span class=\"MJXp-mi MJXp-italic\" id=\"MJXp-Span-5253\">a</span><span class=\"MJXp-mi MJXp-italic\" id=\"MJXp-Span-5254\">t</span><span class=\"MJXp-mi MJXp-italic\" id=\"MJXp-Span-5255\">a</span><span class=\"MJXp-mo\" id=\"MJXp-Span-5256\" style=\"margin-left: 0em; margin-right: 0em;\">[</span><span class=\"MJXp-mo\" id=\"MJXp-Span-5257\" style=\"margin-left: 0.333em; margin-right: 0.333em;\">\"</span><span class=\"MJXp-mi MJXp-italic\" id=\"MJXp-Span-5258\">c</span><span class=\"MJXp-mo\" id=\"MJXp-Span-5259\" style=\"margin-left: 0.333em; margin-right: 0.333em;\">\"</span><span class=\"MJXp-mo\" id=\"MJXp-Span-5260\" style=\"margin-left: 0em; margin-right: 0em;\">]</span><span class=\"MJXp-mo\" id=\"MJXp-Span-5261\" style=\"margin-left: 0em; margin-right: 0em;\">[</span><span class=\"MJXp-mo\" id=\"MJXp-Span-5262\" style=\"margin-left: 0.333em; margin-right: 0.333em;\">\"</span><span class=\"MJXp-mi MJXp-italic\" id=\"MJXp-Span-5263\">s</span><span class=\"MJXp-mi MJXp-italic\" id=\"MJXp-Span-5264\">e</span><span class=\"MJXp-mi MJXp-italic\" id=\"MJXp-Span-5265\">c</span><span class=\"MJXp-mi MJXp-italic\" id=\"MJXp-Span-5266\">r</span><span class=\"MJXp-mi MJXp-italic\" id=\"MJXp-Span-5267\">e</span><span class=\"MJXp-mi MJXp-italic\" id=\"MJXp-Span-5268\">t</span><span class=\"MJXp-mo\" id=\"MJXp-Span-5269\" style=\"margin-left: 0.333em; margin-right: 0.333em;\">\"</span><span class=\"MJXp-mo\" id=\"MJXp-Span-5270\" style=\"margin-left: 0em; margin-right: 0em;\">]</span></span></span></span><script type=\"math/tex\" id=\"MathJax-Element-207\">secret_a + secret_b + secret_c = {smc_data[\"a\"][\"secret\"] + smc_data[\"b\"][\"secret\"] +smc_data[\"c\"][\"secret\"]}</script>'": "<span class=\"MathJax_Preview\" style=\"color: inherit;\"><span class=\"MJXp-math\" id=\"MJXp-Span-5171\"><span class=\"MJXp-mi MJXp-italic\" id=\"MJXp-Span-5172\">s</span><span class=\"MJXp-mi MJXp-italic\" id=\"MJXp-Span-5173\">e</span><span class=\"MJXp-mi MJXp-italic\" id=\"MJXp-Span-5174\">c</span><span class=\"MJXp-mi MJXp-italic\" id=\"MJXp-Span-5175\">r</span><span class=\"MJXp-mi MJXp-italic\" id=\"MJXp-Span-5176\">e</span><span class=\"MJXp-msubsup\" id=\"MJXp-Span-5177\"><span class=\"MJXp-mi MJXp-italic\" id=\"MJXp-Span-5178\" style=\"margin-right: 0.05em;\">t</span><span class=\"MJXp-mi MJXp-italic MJXp-script\" id=\"MJXp-Span-5179\" style=\"vertical-align: -0.4em;\">a</span></span><span class=\"MJXp-mo\" id=\"MJXp-Span-5180\" style=\"margin-left: 0.267em; margin-right: 0.267em;\">+</span><span class=\"MJXp-mi MJXp-italic\" id=\"MJXp-Span-5181\">s</span><span class=\"MJXp-mi MJXp-italic\" id=\"MJXp-Span-5182\">e</span><span class=\"MJXp-mi MJXp-italic\" id=\"MJXp-Span-5183\">c</span><span class=\"MJXp-mi MJXp-italic\" id=\"MJXp-Span-5184\">r</span><span class=\"MJXp-mi MJXp-italic\" id=\"MJXp-Span-5185\">e</span><span class=\"MJXp-msubsup\" id=\"MJXp-Span-5186\"><span class=\"MJXp-mi MJXp-italic\" id=\"MJXp-Span-5187\" style=\"margin-right: 0.05em;\">t</span><span class=\"MJXp-mi MJXp-italic MJXp-script\" id=\"MJXp-Span-5188\" style=\"vertical-align: -0.4em;\">b</span></span><span class=\"MJXp-mo\" id=\"MJXp-Span-5189\" style=\"margin-left: 0.267em; margin-right: 0.267em;\">+</span><span class=\"MJXp-mi MJXp-italic\" id=\"MJXp-Span-5190\">s</span><span class=\"MJXp-mi MJXp-italic\" id=\"MJXp-Span-5191\">e</span><span class=\"MJXp-mi MJXp-italic\" id=\"MJXp-Span-5192\">c</span><span class=\"MJXp-mi MJXp-italic\" id=\"MJXp-Span-5193\">r</span><span class=\"MJXp-mi MJXp-italic\" id=\"MJXp-Span-5194\">e</span><span class=\"MJXp-msubsup\" id=\"MJXp-Span-5195\"><span class=\"MJXp-mi MJXp-italic\" id=\"MJXp-Span-5196\" style=\"margin-right: 0.05em;\">t</span><span class=\"MJXp-mi MJXp-italic MJXp-script\" id=\"MJXp-Span-5197\" style=\"vertical-align: -0.4em;\">c</span></span><span class=\"MJXp-mo\" id=\"MJXp-Span-5198\" style=\"margin-left: 0.333em; margin-right: 0.333em;\">=</span><span class=\"MJXp-mrow\" id=\"MJXp-Span-5199\"><span class=\"MJXp-mi MJXp-italic\" id=\"MJXp-Span-5200\">s</span><span class=\"MJXp-mi MJXp-italic\" id=\"MJXp-Span-5201\">m</span><span class=\"MJXp-msubsup\" id=\"MJXp-Span-5202\"><span class=\"MJXp-mi MJXp-italic\" id=\"MJXp-Span-5203\" style=\"margin-right: 0.05em;\">c</span><span class=\"MJXp-mi MJXp-italic MJXp-script\" id=\"MJXp-Span-5204\" style=\"vertical-align: -0.4em;\">d</span></span><span class=\"MJXp-mi MJXp-italic\" id=\"MJXp-Span-5205\">a</span><span class=\"MJXp-mi MJXp-italic\" id=\"MJXp-Span-5206\">t</span><span class=\"MJXp-mi MJXp-italic\" id=\"MJXp-Span-5207\">a</span><span class=\"MJXp-mo\" id=\"MJXp-Span-5208\" style=\"margin-left: 0em; margin-right: 0em;\">[</span><span class=\"MJXp-mo\" id=\"MJXp-Span-5209\" style=\"margin-left: 0.333em; margin-right: 0.333em;\">&quot;</span><span class=\"MJXp-mi MJXp-italic\" id=\"MJXp-Span-5210\">a</span><span class=\"MJXp-mo\" id=\"MJXp-Span-5211\" style=\"margin-left: 0.333em; margin-right: 0.333em;\">&quot;</span><span class=\"MJXp-mo\" id=\"MJXp-Span-5212\" style=\"margin-left: 0em; margin-right: 0em;\">]</span><span class=\"MJXp-mo\" id=\"MJXp-Span-5213\" style=\"margin-left: 0em; margin-right: 0em;\">[</span><span class=\"MJXp-mo\" id=\"MJXp-Span-5214\" style=\"margin-left: 0.333em; margin-right: 0.333em;\">&quot;</span><span class=\"MJXp-mi MJXp-italic\" id=\"MJXp-Span-5215\">s</span><span class=\"MJXp-mi MJXp-italic\" id=\"MJXp-Span-5216\">e</span><span class=\"MJXp-mi MJXp-italic\" id=\"MJXp-Span-5217\">c</span><span class=\"MJXp-mi MJXp-italic\" id=\"MJXp-Span-5218\">r</span><span class=\"MJXp-mi MJXp-italic\" id=\"MJXp-Span-5219\">e</span><span class=\"MJXp-mi MJXp-italic\" id=\"MJXp-Span-5220\">t</span><span class=\"MJXp-mo\" id=\"MJXp-Span-5221\" style=\"margin-left: 0.333em; margin-right: 0.333em;\">&quot;</span><span class=\"MJXp-mo\" id=\"MJXp-Span-5222\" style=\"margin-left: 0em; margin-right: 0em;\">]</span><span class=\"MJXp-mo\" id=\"MJXp-Span-5223\" style=\"margin-left: 0.267em; margin-right: 0.267em;\">+</span><span class=\"MJXp-mi MJXp-italic\" id=\"MJXp-Span-5224\">s</span><span class=\"MJXp-mi MJXp-italic\" id=\"MJXp-Span-5225\">m</span><span class=\"MJXp-msubsup\" id=\"MJXp-Span-5226\"><span class=\"MJXp-mi MJXp-italic\" id=\"MJXp-Span-5227\" style=\"margin-right: 0.05em;\">c</span><span class=\"MJXp-mi MJXp-italic MJXp-script\" id=\"MJXp-Span-5228\" style=\"vertical-align: -0.4em;\">d</span></span><span class=\"MJXp-mi MJXp-italic\" id=\"MJXp-Span-5229\">a</span><span class=\"MJXp-mi MJXp-italic\" id=\"MJXp-Span-5230\">t</span><span class=\"MJXp-mi MJXp-italic\" id=\"MJXp-Span-5231\">a</span><span class=\"MJXp-mo\" id=\"MJXp-Span-5232\" style=\"margin-left: 0em; margin-right: 0em;\">[</span><span class=\"MJXp-mo\" id=\"MJXp-Span-5233\" style=\"margin-left: 0.333em; margin-right: 0.333em;\">&quot;</span><span class=\"MJXp-mi MJXp-italic\" id=\"MJXp-Span-5234\">b</span><span class=\"MJXp-mo\" id=\"MJXp-Span-5235\" style=\"margin-left: 0.333em; margin-right: 0.333em;\">&quot;</span><span class=\"MJXp-mo\" id=\"MJXp-Span-5236\" style=\"margin-left: 0em; margin-right: 0em;\">]</span><span class=\"MJXp-mo\" id=\"MJXp-Span-5237\" style=\"margin-left: 0em; margin-right: 0em;\">[</span><span class=\"MJXp-mo\" id=\"MJXp-Span-5238\" style=\"margin-left: 0.333em; margin-right: 0.333em;\">&quot;</span><span class=\"MJXp-mi MJXp-italic\" id=\"MJXp-Span-5239\">s</span><span class=\"MJXp-mi MJXp-italic\" id=\"MJXp-Span-5240\">e</span><span class=\"MJXp-mi MJXp-italic\" id=\"MJXp-Span-5241\">c</span><span class=\"MJXp-mi MJXp-italic\" id=\"MJXp-Span-5242\">r</span><span class=\"MJXp-mi MJXp-italic\" id=\"MJXp-Span-5243\">e</span><span class=\"MJXp-mi MJXp-italic\" id=\"MJXp-Span-5244\">t</span><span class=\"MJXp-mo\" id=\"MJXp-Span-5245\" style=\"margin-left: 0.333em; margin-right: 0.333em;\">&quot;</span><span class=\"MJXp-mo\" id=\"MJXp-Span-5246\" style=\"margin-left: 0em; margin-right: 0em;\">]</span><span class=\"MJXp-mo\" id=\"MJXp-Span-5247\" style=\"margin-left: 0.267em; margin-right: 0.267em;\">+</span><span class=\"MJXp-mi MJXp-italic\" id=\"MJXp-Span-5248\">s</span><span class=\"MJXp-mi MJXp-italic\" id=\"MJXp-Span-5249\">m</span><span class=\"MJXp-msubsup\" id=\"MJXp-Span-5250\"><span class=\"MJXp-mi MJXp-italic\" id=\"MJXp-Span-5251\" style=\"margin-right: 0.05em;\">c</span><span class=\"MJXp-mi MJXp-italic MJXp-script\" id=\"MJXp-Span-5252\" style=\"vertical-align: -0.4em;\">d</span></span><span class=\"MJXp-mi MJXp-italic\" id=\"MJXp-Span-5253\">a</span><span class=\"MJXp-mi MJXp-italic\" id=\"MJXp-Span-5254\">t</span><span class=\"MJXp-mi MJXp-italic\" id=\"MJXp-Span-5255\">a</span><span class=\"MJXp-mo\" id=\"MJXp-Span-5256\" style=\"margin-left: 0em; margin-right: 0em;\">[</span><span class=\"MJXp-mo\" id=\"MJXp-Span-5257\" style=\"margin-left: 0.333em; margin-right: 0.333em;\">&quot;</span><span class=\"MJXp-mi MJXp-italic\" id=\"MJXp-Span-5258\">c</span><span class=\"MJXp-mo\" id=\"MJXp-Span-5259\" style=\"margin-left: 0.333em; margin-right: 0.333em;\">&quot;</span><span class=\"MJXp-mo\" id=\"MJXp-Span-5260\" style=\"margin-left: 0em; margin-right: 0em;\">]</span><span class=\"MJXp-mo\" id=\"MJXp-Span-5261\" style=\"margin-left: 0em; margin-right: 0em;\">[</span><span class=\"MJXp-mo\" id=\"MJXp-Span-5262\" style=\"margin-left: 0.333em; margin-right: 0.333em;\">&quot;</span><span class=\"MJXp-mi MJXp-italic\" id=\"MJXp-Span-5263\">s</span><span class=\"MJXp-mi MJXp-italic\" id=\"MJXp-Span-5264\">e</span><span class=\"MJXp-mi MJXp-italic\" id=\"MJXp-Span-5265\">c</span><span class=\"MJXp-mi MJXp-italic\" id=\"MJXp-Span-5266\">r</span><span class=\"MJXp-mi MJXp-italic\" id=\"MJXp-Span-5267\">e</span><span class=\"MJXp-mi MJXp-italic\" id=\"MJXp-Span-5268\">t</span><span class=\"MJXp-mo\" id=\"MJXp-Span-5269\" style=\"margin-left: 0.333em; margin-right: 0.333em;\">&quot;</span><span class=\"MJXp-mo\" id=\"MJXp-Span-5270\" style=\"margin-left: 0em; margin-right: 0em;\">]</span></span></span></span><script type=\"math/tex\" id=\"MathJax-Element-207\">secret_a + secret_b + secret_c = 24</script>"
    }
   },
   "source": [
    "{{'$data_{decrypted} = %d$' % decrypted_data}}   \n",
    "{{'$data_{final} = %d$' % final_data}}  \n",
    "{{f'$secret_a + secret_b + secret_c = {smc_data[\"a\"][\"secret\"] + smc_data[\"b\"][\"secret\"] +smc_data[\"c\"][\"secret\"]}$'}}   "
   ]
  },
  {
   "cell_type": "code",
   "execution_count": null,
   "metadata": {},
   "outputs": [],
   "source": []
  }
 ],
 "metadata": {
  "kernelspec": {
   "display_name": "Python 3",
   "language": "python",
   "name": "python3"
  },
  "language_info": {
   "codemirror_mode": {
    "name": "ipython",
    "version": 3
   },
   "file_extension": ".py",
   "mimetype": "text/x-python",
   "name": "python",
   "nbconvert_exporter": "python",
   "pygments_lexer": "ipython3",
   "version": "3.6.5"
  }
 },
 "nbformat": 4,
 "nbformat_minor": 2
}
